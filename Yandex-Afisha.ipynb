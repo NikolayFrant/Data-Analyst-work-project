{
 "cells": [
  {
   "cell_type": "markdown",
   "metadata": {},
   "source": [
    "### <font color='blue'>*Комментарий наставника*</font>\n",
    "Привет. Меня зовут Аня Прокашева и я проверяла твою работу. <br>\n",
    "Отличная работа! Очень детально и четко составлены тезисы, легко отследить весь ход решения. <br>\n",
    "Единственный момент, хотелось бы добавить информации про то, как метрики отличаются на разных устройствах, это должно помочь маркетологам еще лучше распределить затраты. Например, как отличается средний чек на десктопе и на мобильных устройствах? И т.д. Вполне возможно, что не каждую метрику стоит раскладывать по устройствам. Подумай, где это может сыграть роль и возможно ты добавишь несколько пунктов к тезисам. \n"
   ]
  },
  {
   "cell_type": "markdown",
   "metadata": {},
   "source": [
    "Привет, Аня! Спасибо.\n",
    "\n",
    "Все добавил в отдельный блок, перед финальным выводом.\n"
   ]
  },
  {
   "cell_type": "markdown",
   "metadata": {},
   "source": [
    "## Аналитика в Яндекс.Афише"
   ]
  },
  {
   "cell_type": "markdown",
   "metadata": {},
   "source": [
    "#### Необходимо помочь маркетологам оптимизировать маркетинговые затраты.\n",
    "\n",
    "У нас в распоряжении есть данные от Яндекс.Афиши с июня 2017 по конец мая 2018 года:\n",
    "- лог сервера с данными о посещениях сайта Яндекс.Афиши,\n",
    "- выгрузка всех заказов за этот период,\n",
    "- статистика рекламных расходов.\n",
    "\n",
    "\n",
    "Нужно изучить:\n",
    "- как люди пользуются продуктом,\n",
    "- когда они начинают покупать,\n",
    "- сколько денег приносит каждый клиент\n",
    "- когда клиент окупается."
   ]
  },
  {
   "cell_type": "markdown",
   "metadata": {},
   "source": [
    "### Описание данных\n",
    "\n",
    "##### Таблица visits (лог сервера с информацией о посещениях сайта):\n",
    "- Uid — уникальный идентификатор пользователя\n",
    "- Device — категория устройства пользователя\n",
    "- Start Ts — дата и время начала сессии\n",
    "- End Ts — дата и время окончания сессии\n",
    "- Source Id — идентификатор рекламного источника, из которого пришел пользователь\n",
    "\n",
    "##### Таблица orders (информация о заказах):\n",
    "- Uid — уникальный id пользователя, который сделал заказ\n",
    "- Buy Ts — дата и время заказа\n",
    "- Revenue — выручка Яндекс. Афиши с этого заказа\n",
    "\n",
    "##### Таблица costs (информация о затратах на маркетинг):\n",
    "- source_id — идентификатор рекламного источника\n",
    "- dt — дата\n",
    "- costs — затраты на этот рекламный источник в этот день"
   ]
  },
  {
   "cell_type": "markdown",
   "metadata": {},
   "source": [
    "## Оглавление\n",
    "### Глава 1. Загрузка библиотек и данных\n",
    "- Импорт бибилотек\n",
    "- Загрузка данных и изучение общей информации\n",
    "- Вывод\n",
    "\n",
    "### Глава2. Предобработка данных\n",
    "- Детальное изучение данных\n",
    "- Изучение переменных\n",
    "- Вывод\n",
    "\n",
    "### Глава 3 Отчеты и метрики о продукте\n",
    "- Количество уникальных пользователей в день, неделю и месяц\n",
    "- Пользовательские сессии\n",
    "- Количество сессий в день\n",
    "- Длительность одной сессии\n",
    "- Retention Rate\n",
    "- Вывод\n",
    "\n",
    "### Глава 4 Отчеты и метрики о продажах\n",
    "- Период перед первой покупкой\n",
    "- Рассчитываем средний чек\n",
    "- Количество покупок за период\n",
    "- Рассчитываем метрику LTV\n",
    "- Вывод\n",
    "\n",
    "\n",
    "### Глава 5. Анализ маркетинговых показателей\n",
    "- Суммарные рассходы с разбивкой по рекламным источникам и месяцам\n",
    "- Стоимость привлечения одного покупателя из каждого рекламного источника\n",
    "- Рассчитываем метрику ROI\n",
    "\n",
    "### Финальный вывод\n",
    "\n"
   ]
  },
  {
   "cell_type": "markdown",
   "metadata": {},
   "source": [
    "###  Глава 1. Загрузка библиотек и данных\n"
   ]
  },
  {
   "cell_type": "markdown",
   "metadata": {},
   "source": [
    "### Импорт бибилотек"
   ]
  },
  {
   "cell_type": "code",
   "execution_count": 1,
   "metadata": {},
   "outputs": [],
   "source": [
    "import pandas as pd\n",
    "import matplotlib.pyplot as plt\n",
    "import seaborn as sns\n",
    "import numpy as np\n",
    "import math \n",
    "from scipy import stats as st\n",
    "import datetime"
   ]
  },
  {
   "cell_type": "markdown",
   "metadata": {},
   "source": [
    "### Загрузка данных и изучение общей информации\n"
   ]
  },
  {
   "cell_type": "code",
   "execution_count": 2,
   "metadata": {},
   "outputs": [
    {
     "data": {
      "text/html": [
       "<div>\n",
       "<style scoped>\n",
       "    .dataframe tbody tr th:only-of-type {\n",
       "        vertical-align: middle;\n",
       "    }\n",
       "\n",
       "    .dataframe tbody tr th {\n",
       "        vertical-align: top;\n",
       "    }\n",
       "\n",
       "    .dataframe thead th {\n",
       "        text-align: right;\n",
       "    }\n",
       "</style>\n",
       "<table border=\"1\" class=\"dataframe\">\n",
       "  <thead>\n",
       "    <tr style=\"text-align: right;\">\n",
       "      <th></th>\n",
       "      <th>Device</th>\n",
       "      <th>End Ts</th>\n",
       "      <th>Source Id</th>\n",
       "      <th>Start Ts</th>\n",
       "      <th>Uid</th>\n",
       "    </tr>\n",
       "  </thead>\n",
       "  <tbody>\n",
       "    <tr>\n",
       "      <td>0</td>\n",
       "      <td>touch</td>\n",
       "      <td>2017-12-20 17:38:00</td>\n",
       "      <td>4</td>\n",
       "      <td>2017-12-20 17:20:00</td>\n",
       "      <td>16879256277535980062</td>\n",
       "    </tr>\n",
       "    <tr>\n",
       "      <td>1</td>\n",
       "      <td>desktop</td>\n",
       "      <td>2018-02-19 17:21:00</td>\n",
       "      <td>2</td>\n",
       "      <td>2018-02-19 16:53:00</td>\n",
       "      <td>104060357244891740</td>\n",
       "    </tr>\n",
       "    <tr>\n",
       "      <td>2</td>\n",
       "      <td>touch</td>\n",
       "      <td>2017-07-01 01:54:00</td>\n",
       "      <td>5</td>\n",
       "      <td>2017-07-01 01:54:00</td>\n",
       "      <td>7459035603376831527</td>\n",
       "    </tr>\n",
       "    <tr>\n",
       "      <td>3</td>\n",
       "      <td>desktop</td>\n",
       "      <td>2018-05-20 11:23:00</td>\n",
       "      <td>9</td>\n",
       "      <td>2018-05-20 10:59:00</td>\n",
       "      <td>16174680259334210214</td>\n",
       "    </tr>\n",
       "    <tr>\n",
       "      <td>4</td>\n",
       "      <td>desktop</td>\n",
       "      <td>2017-12-27 14:06:00</td>\n",
       "      <td>3</td>\n",
       "      <td>2017-12-27 14:06:00</td>\n",
       "      <td>9969694820036681168</td>\n",
       "    </tr>\n",
       "  </tbody>\n",
       "</table>\n",
       "</div>"
      ],
      "text/plain": [
       "    Device               End Ts  Source Id             Start Ts  \\\n",
       "0    touch  2017-12-20 17:38:00          4  2017-12-20 17:20:00   \n",
       "1  desktop  2018-02-19 17:21:00          2  2018-02-19 16:53:00   \n",
       "2    touch  2017-07-01 01:54:00          5  2017-07-01 01:54:00   \n",
       "3  desktop  2018-05-20 11:23:00          9  2018-05-20 10:59:00   \n",
       "4  desktop  2017-12-27 14:06:00          3  2017-12-27 14:06:00   \n",
       "\n",
       "                    Uid  \n",
       "0  16879256277535980062  \n",
       "1    104060357244891740  \n",
       "2   7459035603376831527  \n",
       "3  16174680259334210214  \n",
       "4   9969694820036681168  "
      ]
     },
     "execution_count": 2,
     "metadata": {},
     "output_type": "execute_result"
    }
   ],
   "source": [
    "visits = pd.read_csv('/datasets/visits_log.csv')\n",
    "visits.head()"
   ]
  },
  {
   "cell_type": "code",
   "execution_count": 3,
   "metadata": {},
   "outputs": [
    {
     "data": {
      "text/html": [
       "<div>\n",
       "<style scoped>\n",
       "    .dataframe tbody tr th:only-of-type {\n",
       "        vertical-align: middle;\n",
       "    }\n",
       "\n",
       "    .dataframe tbody tr th {\n",
       "        vertical-align: top;\n",
       "    }\n",
       "\n",
       "    .dataframe thead th {\n",
       "        text-align: right;\n",
       "    }\n",
       "</style>\n",
       "<table border=\"1\" class=\"dataframe\">\n",
       "  <thead>\n",
       "    <tr style=\"text-align: right;\">\n",
       "      <th></th>\n",
       "      <th>Buy Ts</th>\n",
       "      <th>Revenue</th>\n",
       "      <th>Uid</th>\n",
       "    </tr>\n",
       "  </thead>\n",
       "  <tbody>\n",
       "    <tr>\n",
       "      <td>0</td>\n",
       "      <td>2017-06-01 00:10:00</td>\n",
       "      <td>17.00</td>\n",
       "      <td>10329302124590727494</td>\n",
       "    </tr>\n",
       "    <tr>\n",
       "      <td>1</td>\n",
       "      <td>2017-06-01 00:25:00</td>\n",
       "      <td>0.55</td>\n",
       "      <td>11627257723692907447</td>\n",
       "    </tr>\n",
       "    <tr>\n",
       "      <td>2</td>\n",
       "      <td>2017-06-01 00:27:00</td>\n",
       "      <td>0.37</td>\n",
       "      <td>17903680561304213844</td>\n",
       "    </tr>\n",
       "    <tr>\n",
       "      <td>3</td>\n",
       "      <td>2017-06-01 00:29:00</td>\n",
       "      <td>0.55</td>\n",
       "      <td>16109239769442553005</td>\n",
       "    </tr>\n",
       "    <tr>\n",
       "      <td>4</td>\n",
       "      <td>2017-06-01 07:58:00</td>\n",
       "      <td>0.37</td>\n",
       "      <td>14200605875248379450</td>\n",
       "    </tr>\n",
       "  </tbody>\n",
       "</table>\n",
       "</div>"
      ],
      "text/plain": [
       "                Buy Ts  Revenue                   Uid\n",
       "0  2017-06-01 00:10:00    17.00  10329302124590727494\n",
       "1  2017-06-01 00:25:00     0.55  11627257723692907447\n",
       "2  2017-06-01 00:27:00     0.37  17903680561304213844\n",
       "3  2017-06-01 00:29:00     0.55  16109239769442553005\n",
       "4  2017-06-01 07:58:00     0.37  14200605875248379450"
      ]
     },
     "execution_count": 3,
     "metadata": {},
     "output_type": "execute_result"
    }
   ],
   "source": [
    "orders = pd.read_csv('/datasets/orders_log.csv')\n",
    "orders.head()"
   ]
  },
  {
   "cell_type": "code",
   "execution_count": 4,
   "metadata": {},
   "outputs": [
    {
     "data": {
      "text/html": [
       "<div>\n",
       "<style scoped>\n",
       "    .dataframe tbody tr th:only-of-type {\n",
       "        vertical-align: middle;\n",
       "    }\n",
       "\n",
       "    .dataframe tbody tr th {\n",
       "        vertical-align: top;\n",
       "    }\n",
       "\n",
       "    .dataframe thead th {\n",
       "        text-align: right;\n",
       "    }\n",
       "</style>\n",
       "<table border=\"1\" class=\"dataframe\">\n",
       "  <thead>\n",
       "    <tr style=\"text-align: right;\">\n",
       "      <th></th>\n",
       "      <th>source_id</th>\n",
       "      <th>dt</th>\n",
       "      <th>costs</th>\n",
       "    </tr>\n",
       "  </thead>\n",
       "  <tbody>\n",
       "    <tr>\n",
       "      <td>0</td>\n",
       "      <td>1</td>\n",
       "      <td>2017-06-01</td>\n",
       "      <td>75.20</td>\n",
       "    </tr>\n",
       "    <tr>\n",
       "      <td>1</td>\n",
       "      <td>1</td>\n",
       "      <td>2017-06-02</td>\n",
       "      <td>62.25</td>\n",
       "    </tr>\n",
       "    <tr>\n",
       "      <td>2</td>\n",
       "      <td>1</td>\n",
       "      <td>2017-06-03</td>\n",
       "      <td>36.53</td>\n",
       "    </tr>\n",
       "    <tr>\n",
       "      <td>3</td>\n",
       "      <td>1</td>\n",
       "      <td>2017-06-04</td>\n",
       "      <td>55.00</td>\n",
       "    </tr>\n",
       "    <tr>\n",
       "      <td>4</td>\n",
       "      <td>1</td>\n",
       "      <td>2017-06-05</td>\n",
       "      <td>57.08</td>\n",
       "    </tr>\n",
       "  </tbody>\n",
       "</table>\n",
       "</div>"
      ],
      "text/plain": [
       "   source_id          dt  costs\n",
       "0          1  2017-06-01  75.20\n",
       "1          1  2017-06-02  62.25\n",
       "2          1  2017-06-03  36.53\n",
       "3          1  2017-06-04  55.00\n",
       "4          1  2017-06-05  57.08"
      ]
     },
     "execution_count": 4,
     "metadata": {},
     "output_type": "execute_result"
    }
   ],
   "source": [
    "costs = pd.read_csv('/datasets/costs.csv')\n",
    "costs.head()"
   ]
  },
  {
   "cell_type": "code",
   "execution_count": 5,
   "metadata": {},
   "outputs": [
    {
     "name": "stdout",
     "output_type": "stream",
     "text": [
      "<class 'pandas.core.frame.DataFrame'>\n",
      "RangeIndex: 359400 entries, 0 to 359399\n",
      "Data columns (total 5 columns):\n",
      "Device       359400 non-null object\n",
      "End Ts       359400 non-null object\n",
      "Source Id    359400 non-null int64\n",
      "Start Ts     359400 non-null object\n",
      "Uid          359400 non-null uint64\n",
      "dtypes: int64(1), object(3), uint64(1)\n",
      "memory usage: 13.7+ MB\n",
      "\n",
      "<class 'pandas.core.frame.DataFrame'>\n",
      "RangeIndex: 50415 entries, 0 to 50414\n",
      "Data columns (total 3 columns):\n",
      "Buy Ts     50415 non-null object\n",
      "Revenue    50415 non-null float64\n",
      "Uid        50415 non-null uint64\n",
      "dtypes: float64(1), object(1), uint64(1)\n",
      "memory usage: 1.2+ MB\n",
      "\n",
      "<class 'pandas.core.frame.DataFrame'>\n",
      "RangeIndex: 2542 entries, 0 to 2541\n",
      "Data columns (total 3 columns):\n",
      "source_id    2542 non-null int64\n",
      "dt           2542 non-null object\n",
      "costs        2542 non-null float64\n",
      "dtypes: float64(1), int64(1), object(1)\n",
      "memory usage: 59.7+ KB\n"
     ]
    }
   ],
   "source": [
    "visits.info()\n",
    "print()\n",
    "orders.info()\n",
    "print()\n",
    "costs.info()"
   ]
  },
  {
   "cell_type": "markdown",
   "metadata": {},
   "source": [
    "Количество и названия столбцов совпадает с заявленными."
   ]
  },
  {
   "cell_type": "code",
   "execution_count": 6,
   "metadata": {},
   "outputs": [
    {
     "data": {
      "text/plain": [
       "Device       0\n",
       "End Ts       0\n",
       "Source Id    0\n",
       "Start Ts     0\n",
       "Uid          0\n",
       "dtype: int64"
      ]
     },
     "execution_count": 6,
     "metadata": {},
     "output_type": "execute_result"
    }
   ],
   "source": [
    "visits.isnull().sum()"
   ]
  },
  {
   "cell_type": "code",
   "execution_count": 7,
   "metadata": {},
   "outputs": [
    {
     "data": {
      "text/plain": [
       "Buy Ts     0\n",
       "Revenue    0\n",
       "Uid        0\n",
       "dtype: int64"
      ]
     },
     "execution_count": 7,
     "metadata": {},
     "output_type": "execute_result"
    }
   ],
   "source": [
    "orders.isnull().sum()"
   ]
  },
  {
   "cell_type": "code",
   "execution_count": 8,
   "metadata": {},
   "outputs": [
    {
     "data": {
      "text/plain": [
       "source_id    0\n",
       "dt           0\n",
       "costs        0\n",
       "dtype: int64"
      ]
     },
     "execution_count": 8,
     "metadata": {},
     "output_type": "execute_result"
    }
   ],
   "source": [
    "costs.isnull().sum()"
   ]
  },
  {
   "cell_type": "markdown",
   "metadata": {},
   "source": [
    "Во всех датасетах нет пропущенных значений"
   ]
  },
  {
   "cell_type": "code",
   "execution_count": 9,
   "metadata": {},
   "outputs": [
    {
     "data": {
      "text/plain": [
       "0"
      ]
     },
     "execution_count": 9,
     "metadata": {},
     "output_type": "execute_result"
    }
   ],
   "source": [
    "visits.duplicated().sum()"
   ]
  },
  {
   "cell_type": "code",
   "execution_count": 10,
   "metadata": {},
   "outputs": [
    {
     "data": {
      "text/plain": [
       "0"
      ]
     },
     "execution_count": 10,
     "metadata": {},
     "output_type": "execute_result"
    }
   ],
   "source": [
    "orders.duplicated().sum()"
   ]
  },
  {
   "cell_type": "code",
   "execution_count": 11,
   "metadata": {},
   "outputs": [
    {
     "data": {
      "text/plain": [
       "0"
      ]
     },
     "execution_count": 11,
     "metadata": {},
     "output_type": "execute_result"
    }
   ],
   "source": [
    "costs.duplicated().sum()"
   ]
  },
  {
   "cell_type": "markdown",
   "metadata": {},
   "source": [
    "Во всех датасетах нет повторяющихся значений"
   ]
  },
  {
   "cell_type": "markdown",
   "metadata": {},
   "source": [
    "#### Вывод\n",
    "В данных отсутствуют повторяющиеся значения и пропуски. Однако временные показатели представлены в строковом формате. Данные значения необходимо привести к формату даты. Также, для удобства заменим названия столбцов.  "
   ]
  },
  {
   "cell_type": "markdown",
   "metadata": {},
   "source": [
    "## Глава2. Предобработка данных\n"
   ]
  },
  {
   "cell_type": "code",
   "execution_count": 12,
   "metadata": {},
   "outputs": [],
   "source": [
    "# Заменяем названия столбцов\n",
    "visits.columns = ['device', 'end_ts', 'source_id', 'start_ts', 'uid'] \n",
    "orders.columns = ['buy_ts', 'revenue', 'uid'] \n",
    "costs.columns = ['source_id', 'date', 'costs']"
   ]
  },
  {
   "cell_type": "code",
   "execution_count": 13,
   "metadata": {},
   "outputs": [],
   "source": [
    "# Переводим в формат даты\n",
    "visits['end_ts'] = pd.to_datetime(\n",
    "    visits['end_ts'], \n",
    "    format='%Y-%m-%d %H:%M'\n",
    ")\n",
    "visits['start_ts'] = pd.to_datetime(\n",
    "    visits['start_ts'],\n",
    "    format='%Y-%m-%d %H:%M' \n",
    ")\n",
    "orders['buy_ts'] = pd.to_datetime(\n",
    "    orders['buy_ts'],\n",
    "    format='%Y-%m-%d %H:%M:%S'\n",
    ")\n",
    "costs['date'] = pd.to_datetime(\n",
    "    costs['date'],\n",
    "    format='%Y-%m-%d')"
   ]
  },
  {
   "cell_type": "markdown",
   "metadata": {},
   "source": [
    "### Детальное изучение данных\n"
   ]
  },
  {
   "cell_type": "markdown",
   "metadata": {},
   "source": [
    "#### Изучение перменных "
   ]
  },
  {
   "cell_type": "code",
   "execution_count": 14,
   "metadata": {},
   "outputs": [
    {
     "data": {
      "text/plain": [
       "desktop    262567\n",
       "touch       96833\n",
       "Name: device, dtype: int64"
      ]
     },
     "execution_count": 14,
     "metadata": {},
     "output_type": "execute_result"
    }
   ],
   "source": [
    "# Посмотрим какие технические средства используют пользователи\n",
    "visits['device'].value_counts()"
   ]
  },
  {
   "cell_type": "markdown",
   "metadata": {},
   "source": [
    "В большей степени пользователи переходят на сайт используя ПК (компьютер, ноутбук). Остальные переходы осуществляются через мобильное устройство."
   ]
  },
  {
   "cell_type": "code",
   "execution_count": 15,
   "metadata": {},
   "outputs": [
    {
     "data": {
      "text/html": [
       "<div>\n",
       "<style scoped>\n",
       "    .dataframe tbody tr th:only-of-type {\n",
       "        vertical-align: middle;\n",
       "    }\n",
       "\n",
       "    .dataframe tbody tr th {\n",
       "        vertical-align: top;\n",
       "    }\n",
       "\n",
       "    .dataframe thead th {\n",
       "        text-align: right;\n",
       "    }\n",
       "</style>\n",
       "<table border=\"1\" class=\"dataframe\">\n",
       "  <thead>\n",
       "    <tr style=\"text-align: right;\">\n",
       "      <th></th>\n",
       "      <th>index</th>\n",
       "      <th>source_id</th>\n",
       "    </tr>\n",
       "  </thead>\n",
       "  <tbody>\n",
       "    <tr>\n",
       "      <td>4</td>\n",
       "      <td>1</td>\n",
       "      <td>34121</td>\n",
       "    </tr>\n",
       "    <tr>\n",
       "      <td>3</td>\n",
       "      <td>2</td>\n",
       "      <td>47626</td>\n",
       "    </tr>\n",
       "    <tr>\n",
       "      <td>1</td>\n",
       "      <td>3</td>\n",
       "      <td>85610</td>\n",
       "    </tr>\n",
       "    <tr>\n",
       "      <td>0</td>\n",
       "      <td>4</td>\n",
       "      <td>101794</td>\n",
       "    </tr>\n",
       "    <tr>\n",
       "      <td>2</td>\n",
       "      <td>5</td>\n",
       "      <td>66905</td>\n",
       "    </tr>\n",
       "    <tr>\n",
       "      <td>8</td>\n",
       "      <td>6</td>\n",
       "      <td>6</td>\n",
       "    </tr>\n",
       "    <tr>\n",
       "      <td>7</td>\n",
       "      <td>7</td>\n",
       "      <td>36</td>\n",
       "    </tr>\n",
       "    <tr>\n",
       "      <td>5</td>\n",
       "      <td>9</td>\n",
       "      <td>13277</td>\n",
       "    </tr>\n",
       "    <tr>\n",
       "      <td>6</td>\n",
       "      <td>10</td>\n",
       "      <td>10025</td>\n",
       "    </tr>\n",
       "  </tbody>\n",
       "</table>\n",
       "</div>"
      ],
      "text/plain": [
       "   index  source_id\n",
       "4      1      34121\n",
       "3      2      47626\n",
       "1      3      85610\n",
       "0      4     101794\n",
       "2      5      66905\n",
       "8      6          6\n",
       "7      7         36\n",
       "5      9      13277\n",
       "6     10      10025"
      ]
     },
     "execution_count": 15,
     "metadata": {},
     "output_type": "execute_result"
    }
   ],
   "source": [
    "# Посмотрим количество рекламных источников\n",
    "visits['source_id'].value_counts().reset_index().sort_values('index')"
   ]
  },
  {
   "cell_type": "markdown",
   "metadata": {},
   "source": [
    "Всего 10 рекламных источников. Один из них отсутствует. Возможно, это связано с технической ошибкой или отсутствием переходов с данного рекламного размещения. Также, есть два рекламных источника с наименьшими переходами. "
   ]
  },
  {
   "cell_type": "code",
   "execution_count": 16,
   "metadata": {},
   "outputs": [
    {
     "data": {
      "text/html": [
       "<div>\n",
       "<style scoped>\n",
       "    .dataframe tbody tr th:only-of-type {\n",
       "        vertical-align: middle;\n",
       "    }\n",
       "\n",
       "    .dataframe tbody tr th {\n",
       "        vertical-align: top;\n",
       "    }\n",
       "\n",
       "    .dataframe thead th {\n",
       "        text-align: right;\n",
       "    }\n",
       "</style>\n",
       "<table border=\"1\" class=\"dataframe\">\n",
       "  <thead>\n",
       "    <tr style=\"text-align: right;\">\n",
       "      <th></th>\n",
       "      <th>index</th>\n",
       "      <th>source_id</th>\n",
       "    </tr>\n",
       "  </thead>\n",
       "  <tbody>\n",
       "    <tr>\n",
       "      <td>3</td>\n",
       "      <td>1</td>\n",
       "      <td>363</td>\n",
       "    </tr>\n",
       "    <tr>\n",
       "      <td>6</td>\n",
       "      <td>2</td>\n",
       "      <td>363</td>\n",
       "    </tr>\n",
       "    <tr>\n",
       "      <td>2</td>\n",
       "      <td>3</td>\n",
       "      <td>363</td>\n",
       "    </tr>\n",
       "    <tr>\n",
       "      <td>5</td>\n",
       "      <td>4</td>\n",
       "      <td>363</td>\n",
       "    </tr>\n",
       "    <tr>\n",
       "      <td>0</td>\n",
       "      <td>5</td>\n",
       "      <td>364</td>\n",
       "    </tr>\n",
       "    <tr>\n",
       "      <td>1</td>\n",
       "      <td>9</td>\n",
       "      <td>363</td>\n",
       "    </tr>\n",
       "    <tr>\n",
       "      <td>4</td>\n",
       "      <td>10</td>\n",
       "      <td>363</td>\n",
       "    </tr>\n",
       "  </tbody>\n",
       "</table>\n",
       "</div>"
      ],
      "text/plain": [
       "   index  source_id\n",
       "3      1        363\n",
       "6      2        363\n",
       "2      3        363\n",
       "5      4        363\n",
       "0      5        364\n",
       "1      9        363\n",
       "4     10        363"
      ]
     },
     "execution_count": 16,
     "metadata": {},
     "output_type": "execute_result"
    }
   ],
   "source": [
    "# Посмотрим количество рекламных истончиков, на которые выделяет средства маркетинг\n",
    "costs['source_id'].value_counts().reset_index().sort_values('index')"
   ]
  },
  {
   "cell_type": "markdown",
   "metadata": {},
   "source": [
    "Так же, как и в предыдущей таблице отсутвует 8 рекламный источник. "
   ]
  },
  {
   "cell_type": "code",
   "execution_count": 17,
   "metadata": {},
   "outputs": [
    {
     "data": {
      "text/plain": [
       "count    2542.000000\n",
       "mean      129.477427\n",
       "std       156.296628\n",
       "min         0.540000\n",
       "25%        21.945000\n",
       "50%        77.295000\n",
       "75%       170.065000\n",
       "max      1788.280000\n",
       "Name: costs, dtype: float64"
      ]
     },
     "execution_count": 17,
     "metadata": {},
     "output_type": "execute_result"
    }
   ],
   "source": [
    "costs['costs'].describe() # С помощью метода describe() смотрим на распределение и основные значения"
   ]
  },
  {
   "cell_type": "code",
   "execution_count": 18,
   "metadata": {},
   "outputs": [
    {
     "data": {
      "image/png": "[encoded data removed]",
      "text/plain": [
       "<Figure size 720x360 with 1 Axes>"
      ]
     },
     "metadata": {
      "needs_background": "light"
     },
     "output_type": "display_data"
    }
   ],
   "source": [
    "plt.style.use('bmh')\n",
    "\n",
    "costs.query('100 < costs < 1800').plot(kind='hist', y='costs', figsize=(10, 5)).set(xlabel='Сумма', \n",
    "                                                                                    ylabel='Количество значений')\n",
    "plt.title('Затраты на маркетинг в день')\n",
    "plt.show()\n",
    "\n",
    "# Строим график ориентируясь на примерные значения"
   ]
  },
  {
   "cell_type": "markdown",
   "metadata": {},
   "source": [
    "В целом затраты на маркетинг сосредоточены в районе 200-250 рублей. Также, есть редкие случаи затрат более 1 000  рублей. Рассмотрим подробнее долю распределения затрат на каждый рекламный источник."
   ]
  },
  {
   "cell_type": "code",
   "execution_count": 19,
   "metadata": {},
   "outputs": [
    {
     "data": {
      "image/png": "[encoded data removed]",
      "text/plain": [
       "<Figure size 504x504 with 1 Axes>"
      ]
     },
     "metadata": {},
     "output_type": "display_data"
    }
   ],
   "source": [
    "costs.pivot_table(\n",
    "        index='source_id',\n",
    "        values='costs',\n",
    "        aggfunc='sum'\n",
    ").plot(\n",
    "        kind='pie',\n",
    "        autopct='%1.1f%%',\n",
    "        figsize=(7,7),\n",
    "        title='Затраты маркетинга на рекламный источник',\n",
    "        y='costs',\n",
    "        legend=False,\n",
    "        explode=(0.1, 0.1, 0.1, 0.1, 0.1, 0.1, 0.1),\n",
    "        shadow=True\n",
    "    \n",
    ")\n",
    "plt.ylabel('')\n",
    "plt.show()"
   ]
  },
  {
   "cell_type": "markdown",
   "metadata": {},
   "source": [
    "### Вывод\n",
    "Мы подобробно изучили полученные данные и выявили некоторые особенности. Пользователи чаще используют компьютер/ноутбук во время перехода на сайт. Необходимо обратить внимание на мобильную версию сайта, возможно, проверить приложение на корректную работу. \n",
    "\n",
    "В представленных данных отсутсвует отдин из рекламных источников. Необходимо уточнить про его существование и в целом про типы данных рекламных размещений. Это позволит составить более полную картину работы маркетинга. Помимо этого мы узнали, что в целом ежедневные маркетинговые затраты составляют 200-250 рублей. Также, выявили долю затрат на все рекламные размещения. "
   ]
  },
  {
   "cell_type": "markdown",
   "metadata": {},
   "source": [
    "## Глава 3 Отчеты и метрики о продукте"
   ]
  },
  {
   "cell_type": "markdown",
   "metadata": {},
   "source": [
    "#### Количество уникальных пользователей в день, неделю и месяц"
   ]
  },
  {
   "cell_type": "code",
   "execution_count": 20,
   "metadata": {},
   "outputs": [],
   "source": [
    "# Для подсчета отдельно выделяем день, неделю, месяц, год и полную дату\n",
    "visits['session_year'] = visits['start_ts'].dt.year\n",
    "visits['session_month'] = visits['start_ts'].dt.month\n",
    "visits['sessin_week'] = visits['start_ts'].dt.week\n",
    "visits['session_date'] = visits['start_ts'].dt.date"
   ]
  },
  {
   "cell_type": "code",
   "execution_count": 21,
   "metadata": {},
   "outputs": [],
   "source": [
    "# Уникальные пользователи в день, неделю и месяц\n",
    "dau_total = visits.groupby('session_date').agg({'uid':'nunique'}).mean()\n",
    "wau_total = visits.groupby(['session_year', 'sessin_week']).agg({'uid':'nunique'}).mean()\n",
    "mau_total = visits.groupby(['session_year', 'session_month']).agg({'uid':'nunique'}).mean()"
   ]
  },
  {
   "cell_type": "code",
   "execution_count": 22,
   "metadata": {},
   "outputs": [],
   "source": [
    "sticky_factory_wau = (dau_total / wau_total) * 100\n",
    "sticky_factory_mau = (dau_total / mau_total) * 100"
   ]
  },
  {
   "cell_type": "code",
   "execution_count": 23,
   "metadata": {},
   "outputs": [
    {
     "name": "stdout",
     "output_type": "stream",
     "text": [
      "Кол-во уникальных пользователей в день: 907\n",
      "\n",
      "Кол-во уникальных пользователей в неделю: 5716\n",
      "\n",
      "Кол-во уникальных пользователей в месяц: 23228\n",
      "\n",
      "Регулярность использования приложения в неделю: 15 %\n",
      "\n",
      "Регулярность использования приложения в месяц: 3 %\n"
     ]
    }
   ],
   "source": [
    "print('Кол-во уникальных пользователей в день:', int(dau_total))\n",
    "print()\n",
    "print('Кол-во уникальных пользователей в неделю:', int(wau_total))\n",
    "print()\n",
    "print('Кол-во уникальных пользователей в месяц:', int(mau_total))\n",
    "print()\n",
    "print('Регулярность использования приложения в неделю:', int(sticky_factory_wau), '%')\n",
    "print()\n",
    "print('Регулярность использования приложения в месяц:', int(sticky_factory_mau), '%')"
   ]
  },
  {
   "cell_type": "markdown",
   "metadata": {},
   "source": [
    "### Пользовательские сессии"
   ]
  },
  {
   "cell_type": "markdown",
   "metadata": {},
   "source": [
    "#### Количество сессий в день"
   ]
  },
  {
   "cell_type": "code",
   "execution_count": 24,
   "metadata": {},
   "outputs": [],
   "source": [
    "session_total = visits.groupby('session_date').agg({'uid':['count', 'nunique']})\n",
    "session_total.columns = ('session_number', 'users_number')\n",
    "session_total['session_per_user'] = (session_total['session_number'] / session_total['users_number']).round(2)"
   ]
  },
  {
   "cell_type": "code",
   "execution_count": 25,
   "metadata": {},
   "outputs": [
    {
     "data": {
      "image/png": "[encoded data removed]",
      "text/plain": [
       "<Figure size 1224x360 with 1 Axes>"
      ]
     },
     "metadata": {
      "needs_background": "light"
     },
     "output_type": "display_data"
    }
   ],
   "source": [
    "session_total.plot(y='session_number', \n",
    "                   figsize=(17,5), title='Количество сессий в день',\n",
    "                   legend=False  \n",
    "                  )\n",
    "plt.show()"
   ]
  },
  {
   "cell_type": "markdown",
   "metadata": {},
   "source": [
    "Согласно полученным данным, в 2017 году наблюдается тенденция роста в ежедневном использовании Яндекс.Афиши. Есть отдельные всплески, которые могут быть связаны с акционными предложениями или популярными мероприятиями. После 2018 года, наблюдается снижение количества посещений. И даже некоторые просадки, которые могут быть связаны с техническими поломками сайта. "
   ]
  },
  {
   "cell_type": "code",
   "execution_count": 26,
   "metadata": {},
   "outputs": [
    {
     "data": {
      "text/html": [
       "<div>\n",
       "<style scoped>\n",
       "    .dataframe tbody tr th:only-of-type {\n",
       "        vertical-align: middle;\n",
       "    }\n",
       "\n",
       "    .dataframe tbody tr th {\n",
       "        vertical-align: top;\n",
       "    }\n",
       "\n",
       "    .dataframe thead th {\n",
       "        text-align: right;\n",
       "    }\n",
       "</style>\n",
       "<table border=\"1\" class=\"dataframe\">\n",
       "  <thead>\n",
       "    <tr style=\"text-align: right;\">\n",
       "      <th></th>\n",
       "      <th>session_number</th>\n",
       "      <th>users_number</th>\n",
       "      <th>session_per_user</th>\n",
       "    </tr>\n",
       "    <tr>\n",
       "      <th>session_date</th>\n",
       "      <th></th>\n",
       "      <th></th>\n",
       "      <th></th>\n",
       "    </tr>\n",
       "  </thead>\n",
       "  <tbody>\n",
       "    <tr>\n",
       "      <td>2017-06-01</td>\n",
       "      <td>664</td>\n",
       "      <td>605</td>\n",
       "      <td>1.10</td>\n",
       "    </tr>\n",
       "    <tr>\n",
       "      <td>2017-06-02</td>\n",
       "      <td>658</td>\n",
       "      <td>608</td>\n",
       "      <td>1.08</td>\n",
       "    </tr>\n",
       "    <tr>\n",
       "      <td>2017-06-03</td>\n",
       "      <td>477</td>\n",
       "      <td>445</td>\n",
       "      <td>1.07</td>\n",
       "    </tr>\n",
       "    <tr>\n",
       "      <td>2017-06-04</td>\n",
       "      <td>510</td>\n",
       "      <td>476</td>\n",
       "      <td>1.07</td>\n",
       "    </tr>\n",
       "    <tr>\n",
       "      <td>2017-06-05</td>\n",
       "      <td>893</td>\n",
       "      <td>820</td>\n",
       "      <td>1.09</td>\n",
       "    </tr>\n",
       "    <tr>\n",
       "      <td>...</td>\n",
       "      <td>...</td>\n",
       "      <td>...</td>\n",
       "      <td>...</td>\n",
       "    </tr>\n",
       "    <tr>\n",
       "      <td>2018-05-27</td>\n",
       "      <td>672</td>\n",
       "      <td>620</td>\n",
       "      <td>1.08</td>\n",
       "    </tr>\n",
       "    <tr>\n",
       "      <td>2018-05-28</td>\n",
       "      <td>1156</td>\n",
       "      <td>1039</td>\n",
       "      <td>1.11</td>\n",
       "    </tr>\n",
       "    <tr>\n",
       "      <td>2018-05-29</td>\n",
       "      <td>1035</td>\n",
       "      <td>948</td>\n",
       "      <td>1.09</td>\n",
       "    </tr>\n",
       "    <tr>\n",
       "      <td>2018-05-30</td>\n",
       "      <td>1410</td>\n",
       "      <td>1289</td>\n",
       "      <td>1.09</td>\n",
       "    </tr>\n",
       "    <tr>\n",
       "      <td>2018-05-31</td>\n",
       "      <td>2256</td>\n",
       "      <td>1997</td>\n",
       "      <td>1.13</td>\n",
       "    </tr>\n",
       "  </tbody>\n",
       "</table>\n",
       "<p>364 rows × 3 columns</p>\n",
       "</div>"
      ],
      "text/plain": [
       "              session_number  users_number  session_per_user\n",
       "session_date                                                \n",
       "2017-06-01               664           605              1.10\n",
       "2017-06-02               658           608              1.08\n",
       "2017-06-03               477           445              1.07\n",
       "2017-06-04               510           476              1.07\n",
       "2017-06-05               893           820              1.09\n",
       "...                      ...           ...               ...\n",
       "2018-05-27               672           620              1.08\n",
       "2018-05-28              1156          1039              1.11\n",
       "2018-05-29              1035           948              1.09\n",
       "2018-05-30              1410          1289              1.09\n",
       "2018-05-31              2256          1997              1.13\n",
       "\n",
       "[364 rows x 3 columns]"
      ]
     },
     "execution_count": 26,
     "metadata": {},
     "output_type": "execute_result"
    }
   ],
   "source": [
    "session_total"
   ]
  },
  {
   "cell_type": "code",
   "execution_count": 27,
   "metadata": {},
   "outputs": [
    {
     "data": {
      "image/png": "[encoded data removed]",
      "text/plain": [
       "<Figure size 720x360 with 1 Axes>"
      ]
     },
     "metadata": {
      "needs_background": "light"
     },
     "output_type": "display_data"
    }
   ],
   "source": [
    "# Для учета всех значений построим распределение количества сессий на пользователя в день\n",
    "session_total.boxplot('session_per_user', figsize=(10, 5))\n",
    "plt.show()"
   ]
  },
  {
   "cell_type": "code",
   "execution_count": 28,
   "metadata": {},
   "outputs": [
    {
     "data": {
      "text/plain": [
       "1.0823901098901099"
      ]
     },
     "execution_count": 28,
     "metadata": {},
     "output_type": "execute_result"
    }
   ],
   "source": [
    "session_total.session_per_user.mean()"
   ]
  },
  {
   "cell_type": "markdown",
   "metadata": {},
   "source": [
    "В целом, один пользователь в среднем проводит максимум 1,08 сессии в день. Это говорит нам о том, что данный продукт используется не регулярно. "
   ]
  },
  {
   "cell_type": "markdown",
   "metadata": {},
   "source": [
    "#### Длительность одной сессии"
   ]
  },
  {
   "cell_type": "markdown",
   "metadata": {},
   "source": [
    "Находим ASL (англ. average session length) — средняя продолжительность сессии. Для этого нужно посчитать длину всех сессий и вычислить среднее."
   ]
  },
  {
   "cell_type": "code",
   "execution_count": 29,
   "metadata": {},
   "outputs": [],
   "source": [
    "visits['sess_duration'] = (visits['end_ts'] - visits['start_ts']).dt.seconds"
   ]
  },
  {
   "cell_type": "code",
   "execution_count": 30,
   "metadata": {},
   "outputs": [
    {
     "data": {
      "image/png": "[encoded data removed]",
      "text/plain": [
       "<Figure size 1224x360 with 2 Axes>"
      ]
     },
     "metadata": {
      "needs_background": "light"
     },
     "output_type": "display_data"
    }
   ],
   "source": [
    "plt.subplots(figsize=(17,5))\n",
    "plot = visits.boxplot(\n",
    "    'sess_duration',\n",
    "    ax = plt.subplot(1,2,1)\n",
    ")\n",
    "plt.title('Распределение значений продолжительности сессии')\n",
    "plt.ylim(0,3000)\n",
    "plot = visits.hist(\n",
    "    'sess_duration',\n",
    "    ax = plt.subplot(1,2,2),\n",
    "    range=(0,3000)\n",
    ")\n",
    "plt.title('Распределение значений продолжительности сессии');"
   ]
  },
  {
   "cell_type": "markdown",
   "metadata": {},
   "source": [
    "Самая частая продолжительность сессии составляет 200-300 секунд ~ 4 минуты."
   ]
  },
  {
   "cell_type": "code",
   "execution_count": 31,
   "metadata": {},
   "outputs": [
    {
     "data": {
      "text/plain": [
       "643.506488592098"
      ]
     },
     "execution_count": 31,
     "metadata": {},
     "output_type": "execute_result"
    }
   ],
   "source": [
    "# Посмотрим среднее по всем сессиям\n",
    "visits['sess_duration'].mean()"
   ]
  },
  {
   "cell_type": "markdown",
   "metadata": {},
   "source": [
    "Средняя продолжительность 643 секунды ~ 10 минут. Изучим более детально временную продолжительность за счет выделения определенной доли сессий"
   ]
  },
  {
   "cell_type": "code",
   "execution_count": 32,
   "metadata": {},
   "outputs": [
    {
     "name": "stdout",
     "output_type": "stream",
     "text": [
      "Распространенность сессий с дилтельностью до 500 секунд от общего числа сессий: 63.4%\n"
     ]
    }
   ],
   "source": [
    "session_ratio = visits.query('sess_duration < 500')['sess_duration'].count() / visits['sess_duration'].count()\n",
    "print('Распространенность сессий с дилтельностью до 500 секунд от общего числа сессий: {:.1%}'.format(session_ratio))"
   ]
  },
  {
   "cell_type": "markdown",
   "metadata": {},
   "source": [
    "То есть, коротких временных сессий гораздо больше чем длительных (от 10 и более минут). Необходимо узнать медианные значения."
   ]
  },
  {
   "cell_type": "code",
   "execution_count": 33,
   "metadata": {},
   "outputs": [
    {
     "data": {
      "text/plain": [
       "120.0"
      ]
     },
     "execution_count": 33,
     "metadata": {},
     "output_type": "execute_result"
    }
   ],
   "source": [
    "visits.query('sess_duration < 500')['sess_duration'].median()"
   ]
  },
  {
   "cell_type": "code",
   "execution_count": 34,
   "metadata": {},
   "outputs": [
    {
     "data": {
      "text/plain": [
       "60"
      ]
     },
     "execution_count": 34,
     "metadata": {},
     "output_type": "execute_result"
    }
   ],
   "source": [
    "visits['sess_duration'].mode()[0]"
   ]
  },
  {
   "cell_type": "markdown",
   "metadata": {},
   "source": [
    "Итак, основная продолжительность сессии составляет около 2х минут. А самое встречаемое значение в данной выборке равно 1 минуте. Это означает, что большая часть сессий — короткие. "
   ]
  },
  {
   "cell_type": "markdown",
   "metadata": {},
   "source": [
    "### Retention Rate"
   ]
  },
  {
   "cell_type": "markdown",
   "metadata": {},
   "source": [
    "Рассчитываем коэффициент удержания (возвращаемость пользователей). Для этого, разобъем пользователей на определенные когорты. Поскольку у нас годовой объем данных, мы сформируем когорты по месяцам. Визуализацию когортного анализа сделаем с помощью тепловой карты (heatmap)."
   ]
  },
  {
   "cell_type": "code",
   "execution_count": 35,
   "metadata": {},
   "outputs": [],
   "source": [
    "# Вычисляем дату первой сессии для каждого пользователя\n",
    "first_action_date = visits.groupby('uid')['start_ts'].min()\n",
    "first_action_date.name = 'first_action_date'"
   ]
  },
  {
   "cell_type": "code",
   "execution_count": 36,
   "metadata": {},
   "outputs": [],
   "source": [
    "# Прикрепляем эту дату к исходному датасету\n",
    "visits = visits.join(first_action_date, on='uid')\n",
    "visits['first_session_month'] = visits['first_action_date'].astype('datetime64[M]')"
   ]
  },
  {
   "cell_type": "code",
   "execution_count": 37,
   "metadata": {},
   "outputs": [],
   "source": [
    "# Формируем lifetime — период за месяц\n",
    "visits['cohort_lifetime'] = (visits['start_ts'] - visits['first_action_date']) / np.timedelta64(1, 'M')\n",
    "visits['cohort_lifetime'] = visits['cohort_lifetime'].round().astype('int')"
   ]
  },
  {
   "cell_type": "code",
   "execution_count": 38,
   "metadata": {},
   "outputs": [],
   "source": [
    "# Посчитаем для каждой когорты количество активных пользователей на определённый «месяц жизни»\n",
    "cohorts = visits.groupby(['first_session_month', 'cohort_lifetime']).agg({'uid':'nunique'}).reset_index()"
   ]
  },
  {
   "cell_type": "code",
   "execution_count": 39,
   "metadata": {},
   "outputs": [],
   "source": [
    "# Находим число пользователей, изначально бывших в когорте.\n",
    "# Чтобы потом разделить на него число пользователей каждого следующего месяца.\n",
    "initial_users_count = cohorts[cohorts['cohort_lifetime'] == 0][['first_session_month', 'uid']]\n",
    "initial_users_count = initial_users_count.rename(columns={'uid':'number_cohort_users'}) # Переименовываем"
   ]
  },
  {
   "cell_type": "code",
   "execution_count": 40,
   "metadata": {},
   "outputs": [],
   "source": [
    "# Объединим данные по когортам с исходным количеством пользователей в когорте\n",
    "cohorts = cohorts.merge(initial_users_count, on='first_session_month')"
   ]
  },
  {
   "cell_type": "code",
   "execution_count": 41,
   "metadata": {},
   "outputs": [],
   "source": [
    "# Рассчитаем Retention Rate. \n",
    "# Разделим количество активных пользователей по каждому месяцу на исходное число пользователей в когорте\n",
    "cohorts['retention'] = cohorts['uid'] / cohorts['number_cohort_users']\n",
    "cohorts['first_session_month'] = cohorts['first_session_month'].dt.strftime('%Y-%m')"
   ]
  },
  {
   "cell_type": "code",
   "execution_count": 42,
   "metadata": {},
   "outputs": [
    {
     "data": {
      "image/png": "[encoded data removed]",
      "text/plain": [
       "<Figure size 1080x504 with 2 Axes>"
      ]
     },
     "metadata": {},
     "output_type": "display_data"
    }
   ],
   "source": [
    "# Строим сводную таблицу и создаем тепловую карту\n",
    "retention_pivot = cohorts.pivot_table(\n",
    "        index = 'first_session_month',\n",
    "        columns = 'cohort_lifetime',\n",
    "        values = 'retention',\n",
    "        aggfunc = 'sum'\n",
    ")\n",
    "sns.set(style='white')\n",
    "plt.figure(figsize=(15,7))\n",
    "plt.title('Количество возвращающихся пользователей')\n",
    "sns.heatmap(\n",
    "    retention_pivot,\n",
    "    annot = True,\n",
    "    fmt='.1%',\n",
    "    linewidths = 1,\n",
    "    linecolor = 'silver'\n",
    ")\n",
    "plt.xlabel('Возраст')\n",
    "plt.ylabel('Когорта');"
   ]
  },
  {
   "cell_type": "markdown",
   "metadata": {},
   "source": [
    "## Вывод"
   ]
  },
  {
   "cell_type": "markdown",
   "metadata": {},
   "source": [
    "Итак, за рассматриваемый период среднее количество уникальных пользователей составляет 907 человек за день. Недельное посещение составляет 5 716 человек, а месячное — около 23 тыс. человек. При этом регулярность использования «Яндекс.Афиши» довольно низкая и составляет 15% в неделю, и 3% в месяц. Это означает, что пользователи редко обращаются к приложению/сайту.\n",
    "\n",
    "В среднем в день совершается примерно 1 000 сессий. Однако, в период с 2018 года наблюдается снижение количества посещений и даже некоторые просадки. При этом самая частая продолжительность сессии составляет примерно 4 минуты. А медианное значение равно 2м минутам. То есть, короткие временные сессии значительно преобладают. Редкие сессии длящиеся более 10 минут составляют около 30% от общего числа.\n",
    "\n",
    "Все это говорит нам о том, что данный продукт используется не регулярно. \n",
    "\n",
    "\n",
    "Коэффициент удержания пользователей — низкий, также наблюдается тенденция падения показателей с течением времени. Так, в майской когорте 2018 года уже в первый месяц низкий коэффициент возвращающихся пользователей — 0,7%. В сравнении с первой когортой июнь 2017 года — 7,4%. Стоит отметить, что до октября 2017 года наблюдается рост в возращении пользователей, но после этой даты идет стремительное снижение. Таким образом, отмечается быстроее сокращение коэффициента удержания у более молодых когорт. \n",
    "\n",
    "Возможно, это связано наступлением праздников, появлением популярных мероприятий, а также, акциями и распродажами на сайте. Помимо этого, могут наблюдаться технические ошибки в работе сайта, которые негативно влияют на восприятие пользоватлей. И появление новых платформ-агрегаторов по продаже биллетов. Необходимо уточнить с чем связано такое поведение когорт.\n"
   ]
  },
  {
   "cell_type": "markdown",
   "metadata": {},
   "source": [
    "## Глава 4 Отчеты и метрики о продажах"
   ]
  },
  {
   "cell_type": "markdown",
   "metadata": {},
   "source": [
    "### Период перед первой покупкой"
   ]
  },
  {
   "cell_type": "code",
   "execution_count": 43,
   "metadata": {},
   "outputs": [],
   "source": [
    "# Группировка визитов по посетителям и выбор первой даты визита\n",
    "customer_grouped = visits.groupby('uid').agg({'start_ts':'min'}).reset_index()\n",
    "\n",
    "# Группировка заказов по покупателям и выбор первой даты заказа\n",
    "buyers_grouped = orders.groupby('uid').agg({'buy_ts':'min'})"
   ]
  },
  {
   "cell_type": "code",
   "execution_count": 44,
   "metadata": {},
   "outputs": [],
   "source": [
    "# Объединяем данные о первом визите и первой покупке в одну таблицу\n",
    "customer_to_buyers = pd.merge(customer_grouped, buyers_grouped, on='uid')"
   ]
  },
  {
   "cell_type": "code",
   "execution_count": 45,
   "metadata": {},
   "outputs": [],
   "source": [
    "# Рассчитываем время между визитом и покупкой\n",
    "customer_to_buyers['time_deal'] = customer_to_buyers['buy_ts'] - customer_to_buyers['start_ts']"
   ]
  },
  {
   "cell_type": "code",
   "execution_count": 46,
   "metadata": {},
   "outputs": [
    {
     "data": {
      "text/html": [
       "<div>\n",
       "<style scoped>\n",
       "    .dataframe tbody tr th:only-of-type {\n",
       "        vertical-align: middle;\n",
       "    }\n",
       "\n",
       "    .dataframe tbody tr th {\n",
       "        vertical-align: top;\n",
       "    }\n",
       "\n",
       "    .dataframe thead th {\n",
       "        text-align: right;\n",
       "    }\n",
       "</style>\n",
       "<table border=\"1\" class=\"dataframe\">\n",
       "  <thead>\n",
       "    <tr style=\"text-align: right;\">\n",
       "      <th></th>\n",
       "      <th>uid</th>\n",
       "      <th>start_ts</th>\n",
       "      <th>buy_ts</th>\n",
       "      <th>time_deal</th>\n",
       "    </tr>\n",
       "  </thead>\n",
       "  <tbody>\n",
       "    <tr>\n",
       "      <td>0</td>\n",
       "      <td>313578113262317</td>\n",
       "      <td>2017-09-18 22:49:00</td>\n",
       "      <td>2018-01-03 21:51:00</td>\n",
       "      <td>106 days 23:02:00</td>\n",
       "    </tr>\n",
       "    <tr>\n",
       "      <td>1</td>\n",
       "      <td>1575281904278712</td>\n",
       "      <td>2017-06-03 10:13:00</td>\n",
       "      <td>2017-06-03 10:13:00</td>\n",
       "      <td>0 days 00:00:00</td>\n",
       "    </tr>\n",
       "    <tr>\n",
       "      <td>2</td>\n",
       "      <td>2429014661409475</td>\n",
       "      <td>2017-10-11 17:14:00</td>\n",
       "      <td>2017-10-11 18:33:00</td>\n",
       "      <td>0 days 01:19:00</td>\n",
       "    </tr>\n",
       "    <tr>\n",
       "      <td>3</td>\n",
       "      <td>2464366381792757</td>\n",
       "      <td>2018-01-27 20:10:00</td>\n",
       "      <td>2018-01-28 15:54:00</td>\n",
       "      <td>0 days 19:44:00</td>\n",
       "    </tr>\n",
       "    <tr>\n",
       "      <td>4</td>\n",
       "      <td>2551852515556206</td>\n",
       "      <td>2017-11-24 10:14:00</td>\n",
       "      <td>2017-11-24 10:14:00</td>\n",
       "      <td>0 days 00:00:00</td>\n",
       "    </tr>\n",
       "  </tbody>\n",
       "</table>\n",
       "</div>"
      ],
      "text/plain": [
       "                uid            start_ts              buy_ts         time_deal\n",
       "0   313578113262317 2017-09-18 22:49:00 2018-01-03 21:51:00 106 days 23:02:00\n",
       "1  1575281904278712 2017-06-03 10:13:00 2017-06-03 10:13:00   0 days 00:00:00\n",
       "2  2429014661409475 2017-10-11 17:14:00 2017-10-11 18:33:00   0 days 01:19:00\n",
       "3  2464366381792757 2018-01-27 20:10:00 2018-01-28 15:54:00   0 days 19:44:00\n",
       "4  2551852515556206 2017-11-24 10:14:00 2017-11-24 10:14:00   0 days 00:00:00"
      ]
     },
     "execution_count": 46,
     "metadata": {},
     "output_type": "execute_result"
    }
   ],
   "source": [
    "customer_to_buyers.head() # Проверяем"
   ]
  },
  {
   "cell_type": "markdown",
   "metadata": {},
   "source": [
    "Как мы видим, пользователи могут сделать первую покупку как через несколько минут, так и через пару дней. Поэтому рассчитаем time delta для минут, часов и дней"
   ]
  },
  {
   "cell_type": "code",
   "execution_count": 47,
   "metadata": {},
   "outputs": [],
   "source": [
    "customer_to_buyers['time_deal_min'] = (customer_to_buyers['buy_ts'] - customer_to_buyers['start_ts']) / np.timedelta64(1, 'm')\n",
    "customer_to_buyers['time_deal_hours'] = (customer_to_buyers['buy_ts'] - customer_to_buyers['start_ts']) / np.timedelta64(1, 'h')\n",
    "customer_to_buyers['time_deal_day'] = (customer_to_buyers['buy_ts'] - customer_to_buyers['start_ts']) / np.timedelta64(1, 'D')"
   ]
  },
  {
   "cell_type": "code",
   "execution_count": 48,
   "metadata": {},
   "outputs": [
    {
     "data": {
      "text/html": [
       "<div>\n",
       "<style scoped>\n",
       "    .dataframe tbody tr th:only-of-type {\n",
       "        vertical-align: middle;\n",
       "    }\n",
       "\n",
       "    .dataframe tbody tr th {\n",
       "        vertical-align: top;\n",
       "    }\n",
       "\n",
       "    .dataframe thead th {\n",
       "        text-align: right;\n",
       "    }\n",
       "</style>\n",
       "<table border=\"1\" class=\"dataframe\">\n",
       "  <thead>\n",
       "    <tr style=\"text-align: right;\">\n",
       "      <th></th>\n",
       "      <th>uid</th>\n",
       "      <th>start_ts</th>\n",
       "      <th>buy_ts</th>\n",
       "      <th>time_deal</th>\n",
       "      <th>time_deal_min</th>\n",
       "      <th>time_deal_hours</th>\n",
       "      <th>time_deal_day</th>\n",
       "    </tr>\n",
       "  </thead>\n",
       "  <tbody>\n",
       "    <tr>\n",
       "      <td>0</td>\n",
       "      <td>313578113262317</td>\n",
       "      <td>2017-09-18 22:49:00</td>\n",
       "      <td>2018-01-03 21:51:00</td>\n",
       "      <td>106 days 23:02:00</td>\n",
       "      <td>154022.0</td>\n",
       "      <td>2567.033333</td>\n",
       "      <td>106.959722</td>\n",
       "    </tr>\n",
       "    <tr>\n",
       "      <td>1</td>\n",
       "      <td>1575281904278712</td>\n",
       "      <td>2017-06-03 10:13:00</td>\n",
       "      <td>2017-06-03 10:13:00</td>\n",
       "      <td>0 days 00:00:00</td>\n",
       "      <td>0.0</td>\n",
       "      <td>0.000000</td>\n",
       "      <td>0.000000</td>\n",
       "    </tr>\n",
       "    <tr>\n",
       "      <td>2</td>\n",
       "      <td>2429014661409475</td>\n",
       "      <td>2017-10-11 17:14:00</td>\n",
       "      <td>2017-10-11 18:33:00</td>\n",
       "      <td>0 days 01:19:00</td>\n",
       "      <td>79.0</td>\n",
       "      <td>1.316667</td>\n",
       "      <td>0.054861</td>\n",
       "    </tr>\n",
       "    <tr>\n",
       "      <td>3</td>\n",
       "      <td>2464366381792757</td>\n",
       "      <td>2018-01-27 20:10:00</td>\n",
       "      <td>2018-01-28 15:54:00</td>\n",
       "      <td>0 days 19:44:00</td>\n",
       "      <td>1184.0</td>\n",
       "      <td>19.733333</td>\n",
       "      <td>0.822222</td>\n",
       "    </tr>\n",
       "    <tr>\n",
       "      <td>4</td>\n",
       "      <td>2551852515556206</td>\n",
       "      <td>2017-11-24 10:14:00</td>\n",
       "      <td>2017-11-24 10:14:00</td>\n",
       "      <td>0 days 00:00:00</td>\n",
       "      <td>0.0</td>\n",
       "      <td>0.000000</td>\n",
       "      <td>0.000000</td>\n",
       "    </tr>\n",
       "  </tbody>\n",
       "</table>\n",
       "</div>"
      ],
      "text/plain": [
       "                uid            start_ts              buy_ts         time_deal  \\\n",
       "0   313578113262317 2017-09-18 22:49:00 2018-01-03 21:51:00 106 days 23:02:00   \n",
       "1  1575281904278712 2017-06-03 10:13:00 2017-06-03 10:13:00   0 days 00:00:00   \n",
       "2  2429014661409475 2017-10-11 17:14:00 2017-10-11 18:33:00   0 days 01:19:00   \n",
       "3  2464366381792757 2018-01-27 20:10:00 2018-01-28 15:54:00   0 days 19:44:00   \n",
       "4  2551852515556206 2017-11-24 10:14:00 2017-11-24 10:14:00   0 days 00:00:00   \n",
       "\n",
       "   time_deal_min  time_deal_hours  time_deal_day  \n",
       "0       154022.0      2567.033333     106.959722  \n",
       "1            0.0         0.000000       0.000000  \n",
       "2           79.0         1.316667       0.054861  \n",
       "3         1184.0        19.733333       0.822222  \n",
       "4            0.0         0.000000       0.000000  "
      ]
     },
     "execution_count": 48,
     "metadata": {},
     "output_type": "execute_result"
    }
   ],
   "source": [
    "customer_to_buyers.head()"
   ]
  },
  {
   "cell_type": "code",
   "execution_count": 49,
   "metadata": {},
   "outputs": [
    {
     "data": {
      "text/plain": [
       "count                      36523\n",
       "mean     16 days 21:40:10.550064\n",
       "std      47 days 01:44:46.481416\n",
       "min              0 days 00:00:00\n",
       "25%              0 days 00:04:00\n",
       "50%              0 days 00:16:00\n",
       "75%              2 days 00:17:00\n",
       "max            363 days 07:04:00\n",
       "Name: time_deal, dtype: object"
      ]
     },
     "execution_count": 49,
     "metadata": {},
     "output_type": "execute_result"
    }
   ],
   "source": [
    "customer_to_buyers['time_deal'].describe()"
   ]
  },
  {
   "cell_type": "code",
   "execution_count": 50,
   "metadata": {},
   "outputs": [
    {
     "data": {
      "image/png": "[encoded data removed]",
      "text/plain": [
       "<Figure size 1224x360 with 2 Axes>"
      ]
     },
     "metadata": {},
     "output_type": "display_data"
    }
   ],
   "source": [
    "# Строим график распределния в первые минуты. Делаем срез по минутам от 0 до 60 мин.\n",
    "plt.subplots(figsize=(17,5))\n",
    "plot = customer_to_buyers.query('0 < time_deal_min < 60 ').boxplot('time_deal_min',\n",
    "                                                                  ax = plt.subplot(1,2,1)\n",
    "                                                                  )\n",
    "plt.ylim(0,60)\n",
    "plt.xlabel('Временной промежуток между визитом и покупкой')\n",
    "\n",
    "plot = customer_to_buyers.query('0 < time_deal_min < 60 ').hist(\n",
    "    'time_deal_min', \n",
    "     range=(1,60), \n",
    "     ax = plt.subplot(1,2,2)\n",
    ")\n",
    "plt.title('Распределение временных промежутков между визитом и покупкой')\n",
    "plt.xlabel('Время в минутах');\n",
    "plt.show()"
   ]
  },
  {
   "cell_type": "markdown",
   "metadata": {},
   "source": [
    "В целом, большая часть людей совершает первый заказ в течение 4-8 минут. В основном, пользователи во время первого посещения совершают заказ в небольшой временой промежуток — не более 10-15 минут. "
   ]
  },
  {
   "cell_type": "code",
   "execution_count": 51,
   "metadata": {},
   "outputs": [
    {
     "data": {
      "image/png": "[encoded data removed]",
      "text/plain": [
       "<Figure size 1224x360 with 2 Axes>"
      ]
     },
     "metadata": {},
     "output_type": "display_data"
    }
   ],
   "source": [
    "# Строим график распределения в первые несколько часов\n",
    "plt.subplots(figsize=(17,5))\n",
    "plot = customer_to_buyers.query('1 < time_deal_hours < 24').boxplot('time_deal_hours',\n",
    "                                                                  ax = plt.subplot(1,2,1)\n",
    "                                                                  )\n",
    "plt.ylim(0,30)\n",
    "plt.xlabel('Временной промежуток между визитом и покупкой')\n",
    "\n",
    "plot = customer_to_buyers.query('0 < time_deal_hours < 24 ').hist(\n",
    "    'time_deal_hours', \n",
    "     range=(1,30), \n",
    "     ax = plt.subplot(1,2,2)\n",
    ")\n",
    "plt.title('Распределение временных промежутков между визитом и покупкой')\n",
    "plt.xlabel('Время в часах');\n",
    "plt.show()"
   ]
  },
  {
   "cell_type": "markdown",
   "metadata": {},
   "source": [
    "Основная часть пользователей совершает покупку в первые несколько часов, во время первого посещения."
   ]
  },
  {
   "cell_type": "code",
   "execution_count": 52,
   "metadata": {},
   "outputs": [
    {
     "data": {
      "image/png": "[encoded data removed]",
      "text/plain": [
       "<Figure size 1224x360 with 2 Axes>"
      ]
     },
     "metadata": {},
     "output_type": "display_data"
    }
   ],
   "source": [
    "plt.subplots(figsize=(17,5))\n",
    "plot = customer_to_buyers.query('1 < time_deal_day').boxplot('time_deal_day',\n",
    "                                                                  ax = plt.subplot(1,2,1)\n",
    "                                                                  )\n",
    "plt.ylim(0,150)\n",
    "plt.xlabel('Временной промежуток между визитом и покупкой')\n",
    "\n",
    "plot = customer_to_buyers.query('0 < time_deal_day').hist(\n",
    "    'time_deal_day', \n",
    "     range=(1,60), \n",
    "     ax = plt.subplot(1,2,2)\n",
    ")\n",
    "plt.title('Распределение временных промежутков между визитом и покупкой')\n",
    "plt.xlabel('День');\n",
    "plt.show()"
   ]
  },
  {
   "cell_type": "markdown",
   "metadata": {},
   "source": [
    "Основная часть пользователей, совершает заказ в первые пять дней, во время первого посещения. Возможно, нужно дополнительно прогревать их на покупку в это время. "
   ]
  },
  {
   "cell_type": "code",
   "execution_count": 53,
   "metadata": {},
   "outputs": [],
   "source": [
    "# Посмотрим долю пользователей совершающую заказ в указанные периоды, во время первого посещения. \n",
    "minute = ((customer_to_buyers.query('time_deal_min < 60')['time_deal_min'].count()\n",
    "          / customer_to_buyers.query('time_deal_min > 0')['time_deal_min'].count())\n",
    "          * 100)\n",
    "\n",
    "hours = ((customer_to_buyers.query('1 < time_deal_hours')['time_deal_hours'].count()\n",
    "          / customer_to_buyers.query('time_deal_hours > 0')['time_deal_hours'].count())\n",
    "          * 100)\n",
    "\n",
    "days = ((customer_to_buyers.query('1 < time_deal_day < 24')['time_deal_day'].count()\n",
    "          / customer_to_buyers.query('time_deal_day > 0')['time_deal_day'].count())\n",
    "          * 100)\n",
    "\n"
   ]
  },
  {
   "cell_type": "code",
   "execution_count": 54,
   "metadata": {},
   "outputs": [
    {
     "name": "stdout",
     "output_type": "stream",
     "text": [
      "Процент пользователей, которые делают заказ в первые минуты: 66 %\n",
      "\n",
      "Процент пользователей, которые делают заказ в первые несколько часов: 40 %\n",
      "\n",
      "Процент пользователей, которые делают заказ в первые несколько дней: 14 %\n"
     ]
    }
   ],
   "source": [
    "print('Процент пользователей, которые делают заказ в первые минуты:', int(minute), '%')\n",
    "print()\n",
    "print('Процент пользователей, которые делают заказ в первые несколько часов:', int(hours), '%')\n",
    "print()\n",
    "print('Процент пользователей, которые делают заказ в первые несколько дней:', int(days), '%')"
   ]
  },
  {
   "cell_type": "markdown",
   "metadata": {},
   "source": [
    "### Рассчитываем средний чек"
   ]
  },
  {
   "cell_type": "markdown",
   "metadata": {},
   "source": [
    "Рассчитаем средний чек в динамике по месяцам, чтобы учесть сезонность продаж и сложить целостную картину."
   ]
  },
  {
   "cell_type": "code",
   "execution_count": 55,
   "metadata": {},
   "outputs": [],
   "source": [
    "orders['sale_month'] = pd.to_datetime(orders['buy_ts'].dt.date) - pd.to_timedelta(orders['buy_ts'].dt.dayofweek, unit='d')\n",
    "orders['sale_month'] = orders['sale_month'].dt.to_period('M')"
   ]
  },
  {
   "cell_type": "code",
   "execution_count": 56,
   "metadata": {},
   "outputs": [
    {
     "data": {
      "text/html": [
       "<div>\n",
       "<style scoped>\n",
       "    .dataframe tbody tr th:only-of-type {\n",
       "        vertical-align: middle;\n",
       "    }\n",
       "\n",
       "    .dataframe tbody tr th {\n",
       "        vertical-align: top;\n",
       "    }\n",
       "\n",
       "    .dataframe thead th {\n",
       "        text-align: right;\n",
       "    }\n",
       "</style>\n",
       "<table border=\"1\" class=\"dataframe\">\n",
       "  <thead>\n",
       "    <tr style=\"text-align: right;\">\n",
       "      <th></th>\n",
       "      <th>buy_ts</th>\n",
       "      <th>revenue</th>\n",
       "      <th>uid</th>\n",
       "      <th>sale_month</th>\n",
       "    </tr>\n",
       "  </thead>\n",
       "  <tbody>\n",
       "    <tr>\n",
       "      <td>0</td>\n",
       "      <td>2017-06-01 00:10:00</td>\n",
       "      <td>17.00</td>\n",
       "      <td>10329302124590727494</td>\n",
       "      <td>2017-05</td>\n",
       "    </tr>\n",
       "    <tr>\n",
       "      <td>1</td>\n",
       "      <td>2017-06-01 00:25:00</td>\n",
       "      <td>0.55</td>\n",
       "      <td>11627257723692907447</td>\n",
       "      <td>2017-05</td>\n",
       "    </tr>\n",
       "    <tr>\n",
       "      <td>2</td>\n",
       "      <td>2017-06-01 00:27:00</td>\n",
       "      <td>0.37</td>\n",
       "      <td>17903680561304213844</td>\n",
       "      <td>2017-05</td>\n",
       "    </tr>\n",
       "    <tr>\n",
       "      <td>3</td>\n",
       "      <td>2017-06-01 00:29:00</td>\n",
       "      <td>0.55</td>\n",
       "      <td>16109239769442553005</td>\n",
       "      <td>2017-05</td>\n",
       "    </tr>\n",
       "    <tr>\n",
       "      <td>4</td>\n",
       "      <td>2017-06-01 07:58:00</td>\n",
       "      <td>0.37</td>\n",
       "      <td>14200605875248379450</td>\n",
       "      <td>2017-05</td>\n",
       "    </tr>\n",
       "  </tbody>\n",
       "</table>\n",
       "</div>"
      ],
      "text/plain": [
       "               buy_ts  revenue                   uid sale_month\n",
       "0 2017-06-01 00:10:00    17.00  10329302124590727494    2017-05\n",
       "1 2017-06-01 00:25:00     0.55  11627257723692907447    2017-05\n",
       "2 2017-06-01 00:27:00     0.37  17903680561304213844    2017-05\n",
       "3 2017-06-01 00:29:00     0.55  16109239769442553005    2017-05\n",
       "4 2017-06-01 07:58:00     0.37  14200605875248379450    2017-05"
      ]
     },
     "execution_count": 56,
     "metadata": {},
     "output_type": "execute_result"
    }
   ],
   "source": [
    "orders.head() # Проверяем"
   ]
  },
  {
   "cell_type": "code",
   "execution_count": 57,
   "metadata": {},
   "outputs": [
    {
     "data": {
      "text/html": [
       "<div>\n",
       "<style scoped>\n",
       "    .dataframe tbody tr th:only-of-type {\n",
       "        vertical-align: middle;\n",
       "    }\n",
       "\n",
       "    .dataframe tbody tr th {\n",
       "        vertical-align: top;\n",
       "    }\n",
       "\n",
       "    .dataframe thead th {\n",
       "        text-align: right;\n",
       "    }\n",
       "</style>\n",
       "<table border=\"1\" class=\"dataframe\">\n",
       "  <thead>\n",
       "    <tr style=\"text-align: right;\">\n",
       "      <th></th>\n",
       "      <th>sale_month</th>\n",
       "      <th>sum</th>\n",
       "      <th>amount</th>\n",
       "      <th>mean_check</th>\n",
       "    </tr>\n",
       "  </thead>\n",
       "  <tbody>\n",
       "    <tr>\n",
       "      <td>0</td>\n",
       "      <td>568</td>\n",
       "      <td>1075</td>\n",
       "      <td>340</td>\n",
       "      <td>3</td>\n",
       "    </tr>\n",
       "    <tr>\n",
       "      <td>1</td>\n",
       "      <td>569</td>\n",
       "      <td>8951</td>\n",
       "      <td>2112</td>\n",
       "      <td>4</td>\n",
       "    </tr>\n",
       "    <tr>\n",
       "      <td>2</td>\n",
       "      <td>570</td>\n",
       "      <td>13311</td>\n",
       "      <td>2524</td>\n",
       "      <td>5</td>\n",
       "    </tr>\n",
       "    <tr>\n",
       "      <td>3</td>\n",
       "      <td>571</td>\n",
       "      <td>8550</td>\n",
       "      <td>1785</td>\n",
       "      <td>4</td>\n",
       "    </tr>\n",
       "    <tr>\n",
       "      <td>4</td>\n",
       "      <td>572</td>\n",
       "      <td>17739</td>\n",
       "      <td>3270</td>\n",
       "      <td>5</td>\n",
       "    </tr>\n",
       "    <tr>\n",
       "      <td>5</td>\n",
       "      <td>573</td>\n",
       "      <td>30802</td>\n",
       "      <td>6267</td>\n",
       "      <td>4</td>\n",
       "    </tr>\n",
       "    <tr>\n",
       "      <td>6</td>\n",
       "      <td>574</td>\n",
       "      <td>26157</td>\n",
       "      <td>5457</td>\n",
       "      <td>4</td>\n",
       "    </tr>\n",
       "    <tr>\n",
       "      <td>7</td>\n",
       "      <td>575</td>\n",
       "      <td>34057</td>\n",
       "      <td>5712</td>\n",
       "      <td>5</td>\n",
       "    </tr>\n",
       "    <tr>\n",
       "      <td>8</td>\n",
       "      <td>576</td>\n",
       "      <td>23437</td>\n",
       "      <td>5509</td>\n",
       "      <td>4</td>\n",
       "    </tr>\n",
       "    <tr>\n",
       "      <td>9</td>\n",
       "      <td>577</td>\n",
       "      <td>24996</td>\n",
       "      <td>5239</td>\n",
       "      <td>4</td>\n",
       "    </tr>\n",
       "    <tr>\n",
       "      <td>10</td>\n",
       "      <td>578</td>\n",
       "      <td>25378</td>\n",
       "      <td>4580</td>\n",
       "      <td>5</td>\n",
       "    </tr>\n",
       "    <tr>\n",
       "      <td>11</td>\n",
       "      <td>579</td>\n",
       "      <td>19059</td>\n",
       "      <td>3758</td>\n",
       "      <td>5</td>\n",
       "    </tr>\n",
       "    <tr>\n",
       "      <td>12</td>\n",
       "      <td>580</td>\n",
       "      <td>18537</td>\n",
       "      <td>3862</td>\n",
       "      <td>4</td>\n",
       "    </tr>\n",
       "  </tbody>\n",
       "</table>\n",
       "</div>"
      ],
      "text/plain": [
       "    sale_month    sum  amount  mean_check\n",
       "0          568   1075     340           3\n",
       "1          569   8951    2112           4\n",
       "2          570  13311    2524           5\n",
       "3          571   8550    1785           4\n",
       "4          572  17739    3270           5\n",
       "5          573  30802    6267           4\n",
       "6          574  26157    5457           4\n",
       "7          575  34057    5712           5\n",
       "8          576  23437    5509           4\n",
       "9          577  24996    5239           4\n",
       "10         578  25378    4580           5\n",
       "11         579  19059    3758           5\n",
       "12         580  18537    3862           4"
      ]
     },
     "execution_count": 57,
     "metadata": {},
     "output_type": "execute_result"
    }
   ],
   "source": [
    "mean_check = orders.pivot_table(index='sale_month',\n",
    "                                values = 'revenue',\n",
    "                                aggfunc = ['sum', 'count']).reset_index()\n",
    "\n",
    "mean_check.columns = ['sale_month', 'sum', 'amount']\n",
    "mean_check['mean_check'] = mean_check['sum'] / mean_check['amount']\n",
    "mean_check.astype('int')"
   ]
  },
  {
   "cell_type": "code",
   "execution_count": 58,
   "metadata": {},
   "outputs": [
    {
     "data": {
      "image/png": "[encoded data removed]",
      "text/plain": [
       "<Figure size 432x288 with 1 Axes>"
      ]
     },
     "metadata": {},
     "output_type": "display_data"
    }
   ],
   "source": [
    "(mean_check.plot(x='sale_month', y='mean_check', color='red', grid=True, title='Динамика продаж')\n",
    "           .set(xlabel='Месяц', ylabel='Средний чек')\n",
    "\n",
    ")\n",
    "plt.show()"
   ]
  },
  {
   "cell_type": "markdown",
   "metadata": {},
   "source": [
    "С мая 2017 года средний чек имеет тенденцию к росту. Начиная с 3,1 (первый месяц работы сервиса), средний чек достигает 5,3 условных единиц. Также, максимальный средний чек наблюдается в декабре 2017, с последующей просадкой в январе 2018 года. Предполагаем, что это связано с новогодними праздниками и акционными предложениями. \n",
    "\n",
    "В феврале 2018 года, снова отмечается рост среднего чека до марта месяца. После, идет планомерное стремительное снижение. Необходимо изучить данный период подробнее. Для предположения о влиянии сезонности продаж, у нас недостаточно данных. Так как, мы видим тенденцию роста в самом начале работы сервиса, приходящуюся на летние месяцы, легкую просадку осенью, и бурный рост в начале зимы. С 2018 года, картина меняется. Снижение среднего чека приближается к летним месяцам. \n",
    "\n",
    "Помимо этого, мы должны учесть когорты активных покупателей и коэффициент удержания пользователей. Предположительно, последующий средний чек делают платежеспособные клиенты, которые продолжают использовать сервис. "
   ]
  },
  {
   "cell_type": "markdown",
   "metadata": {},
   "source": [
    "### Количество покупок за период"
   ]
  },
  {
   "cell_type": "code",
   "execution_count": 59,
   "metadata": {},
   "outputs": [],
   "source": [
    "first_orders = orders.groupby('uid')['buy_ts'].min().reset_index()\n",
    "first_orders.columns = ['uid', 'first_orders']\n",
    "orders_check = pd.merge(orders, first_orders, on='uid')"
   ]
  },
  {
   "cell_type": "code",
   "execution_count": 60,
   "metadata": {},
   "outputs": [],
   "source": [
    "orders_check['first_sale_month'] = orders_check['first_orders'].astype('datetime64[M]')\n",
    "orders_check['order_month'] = orders_check['buy_ts'].astype('datetime64[M]')\n"
   ]
  },
  {
   "cell_type": "code",
   "execution_count": 61,
   "metadata": {},
   "outputs": [],
   "source": [
    "orders_check_cohort = orders_check.groupby(\n",
    "    ['first_sale_month', 'order_month']).agg({'uid':'count'}).reset_index()\n",
    "\n",
    "orders_check_cohort['cohort_lifetime'] = (\n",
    "    (orders_check_cohort['order_month'] - orders_check_cohort['first_sale_month'])\n",
    "    / np.timedelta64(1, 'M')\n",
    ").round().astype('int')"
   ]
  },
  {
   "cell_type": "code",
   "execution_count": 62,
   "metadata": {},
   "outputs": [],
   "source": [
    "orders_check_cohort['first_sale_month'] = orders_check_cohort['first_sale_month'].dt.strftime('%Y-%m')"
   ]
  },
  {
   "cell_type": "code",
   "execution_count": 63,
   "metadata": {},
   "outputs": [
    {
     "name": "stdout",
     "output_type": "stream",
     "text": [
      "Количество покупок в когортах за период по месяцам\n"
     ]
    },
    {
     "data": {
      "text/html": [
       "<div>\n",
       "<style scoped>\n",
       "    .dataframe tbody tr th:only-of-type {\n",
       "        vertical-align: middle;\n",
       "    }\n",
       "\n",
       "    .dataframe tbody tr th {\n",
       "        vertical-align: top;\n",
       "    }\n",
       "\n",
       "    .dataframe thead th {\n",
       "        text-align: right;\n",
       "    }\n",
       "</style>\n",
       "<table border=\"1\" class=\"dataframe\">\n",
       "  <thead>\n",
       "    <tr style=\"text-align: right;\">\n",
       "      <th>Месячный возраст когорты</th>\n",
       "      <th>0</th>\n",
       "      <th>1</th>\n",
       "      <th>2</th>\n",
       "      <th>3</th>\n",
       "      <th>4</th>\n",
       "      <th>5</th>\n",
       "      <th>6</th>\n",
       "      <th>7</th>\n",
       "      <th>8</th>\n",
       "      <th>9</th>\n",
       "      <th>10</th>\n",
       "      <th>11</th>\n",
       "    </tr>\n",
       "    <tr>\n",
       "      <th>Когорта</th>\n",
       "      <th></th>\n",
       "      <th></th>\n",
       "      <th></th>\n",
       "      <th></th>\n",
       "      <th></th>\n",
       "      <th></th>\n",
       "      <th></th>\n",
       "      <th></th>\n",
       "      <th></th>\n",
       "      <th></th>\n",
       "      <th></th>\n",
       "      <th></th>\n",
       "    </tr>\n",
       "  </thead>\n",
       "  <tbody>\n",
       "    <tr>\n",
       "      <td>2017-06</td>\n",
       "      <td>2354.0</td>\n",
       "      <td>177</td>\n",
       "      <td>174</td>\n",
       "      <td>226</td>\n",
       "      <td>292</td>\n",
       "      <td>218</td>\n",
       "      <td>276</td>\n",
       "      <td>174</td>\n",
       "      <td>212</td>\n",
       "      <td>153</td>\n",
       "      <td>96</td>\n",
       "      <td>86</td>\n",
       "    </tr>\n",
       "    <tr>\n",
       "      <td>2017-07</td>\n",
       "      <td>2186.0</td>\n",
       "      <td>100</td>\n",
       "      <td>120</td>\n",
       "      <td>104</td>\n",
       "      <td>72</td>\n",
       "      <td>82</td>\n",
       "      <td>61</td>\n",
       "      <td>50</td>\n",
       "      <td>58</td>\n",
       "      <td>24</td>\n",
       "      <td>53</td>\n",
       "      <td></td>\n",
       "    </tr>\n",
       "    <tr>\n",
       "      <td>2017-08</td>\n",
       "      <td>1533.0</td>\n",
       "      <td>108</td>\n",
       "      <td>100</td>\n",
       "      <td>81</td>\n",
       "      <td>85</td>\n",
       "      <td>62</td>\n",
       "      <td>49</td>\n",
       "      <td>78</td>\n",
       "      <td>46</td>\n",
       "      <td>46</td>\n",
       "      <td></td>\n",
       "      <td></td>\n",
       "    </tr>\n",
       "    <tr>\n",
       "      <td>2017-09</td>\n",
       "      <td>2933.0</td>\n",
       "      <td>219</td>\n",
       "      <td>161</td>\n",
       "      <td>164</td>\n",
       "      <td>67</td>\n",
       "      <td>109</td>\n",
       "      <td>108</td>\n",
       "      <td>56</td>\n",
       "      <td>61</td>\n",
       "      <td></td>\n",
       "      <td></td>\n",
       "      <td></td>\n",
       "    </tr>\n",
       "    <tr>\n",
       "      <td>2017-10</td>\n",
       "      <td>4964.0</td>\n",
       "      <td>314</td>\n",
       "      <td>162</td>\n",
       "      <td>122</td>\n",
       "      <td>129</td>\n",
       "      <td>103</td>\n",
       "      <td>86</td>\n",
       "      <td>125</td>\n",
       "      <td></td>\n",
       "      <td></td>\n",
       "      <td></td>\n",
       "      <td></td>\n",
       "    </tr>\n",
       "    <tr>\n",
       "      <td>2017-11</td>\n",
       "      <td>4813.0</td>\n",
       "      <td>397</td>\n",
       "      <td>182</td>\n",
       "      <td>211</td>\n",
       "      <td>136</td>\n",
       "      <td>59</td>\n",
       "      <td>102</td>\n",
       "      <td></td>\n",
       "      <td></td>\n",
       "      <td></td>\n",
       "      <td></td>\n",
       "      <td></td>\n",
       "    </tr>\n",
       "    <tr>\n",
       "      <td>2017-12</td>\n",
       "      <td>5052.0</td>\n",
       "      <td>270</td>\n",
       "      <td>202</td>\n",
       "      <td>179</td>\n",
       "      <td>86</td>\n",
       "      <td>105</td>\n",
       "      <td></td>\n",
       "      <td></td>\n",
       "      <td></td>\n",
       "      <td></td>\n",
       "      <td></td>\n",
       "      <td></td>\n",
       "    </tr>\n",
       "    <tr>\n",
       "      <td>2018-01</td>\n",
       "      <td>3783.0</td>\n",
       "      <td>224</td>\n",
       "      <td>159</td>\n",
       "      <td>64</td>\n",
       "      <td>78</td>\n",
       "      <td></td>\n",
       "      <td></td>\n",
       "      <td></td>\n",
       "      <td></td>\n",
       "      <td></td>\n",
       "      <td></td>\n",
       "      <td></td>\n",
       "    </tr>\n",
       "    <tr>\n",
       "      <td>2018-02</td>\n",
       "      <td>4095.0</td>\n",
       "      <td>222</td>\n",
       "      <td>83</td>\n",
       "      <td>70</td>\n",
       "      <td></td>\n",
       "      <td></td>\n",
       "      <td></td>\n",
       "      <td></td>\n",
       "      <td></td>\n",
       "      <td></td>\n",
       "      <td></td>\n",
       "      <td></td>\n",
       "    </tr>\n",
       "    <tr>\n",
       "      <td>2018-03</td>\n",
       "      <td>4130.0</td>\n",
       "      <td>178</td>\n",
       "      <td>176</td>\n",
       "      <td></td>\n",
       "      <td></td>\n",
       "      <td></td>\n",
       "      <td></td>\n",
       "      <td></td>\n",
       "      <td></td>\n",
       "      <td></td>\n",
       "      <td></td>\n",
       "      <td></td>\n",
       "    </tr>\n",
       "    <tr>\n",
       "      <td>2018-04</td>\n",
       "      <td>2495.0</td>\n",
       "      <td>195</td>\n",
       "      <td></td>\n",
       "      <td></td>\n",
       "      <td></td>\n",
       "      <td></td>\n",
       "      <td></td>\n",
       "      <td></td>\n",
       "      <td></td>\n",
       "      <td></td>\n",
       "      <td></td>\n",
       "      <td></td>\n",
       "    </tr>\n",
       "    <tr>\n",
       "      <td>2018-05</td>\n",
       "      <td>3249.0</td>\n",
       "      <td></td>\n",
       "      <td></td>\n",
       "      <td></td>\n",
       "      <td></td>\n",
       "      <td></td>\n",
       "      <td></td>\n",
       "      <td></td>\n",
       "      <td></td>\n",
       "      <td></td>\n",
       "      <td></td>\n",
       "      <td></td>\n",
       "    </tr>\n",
       "    <tr>\n",
       "      <td>2018-06</td>\n",
       "      <td>1.0</td>\n",
       "      <td></td>\n",
       "      <td></td>\n",
       "      <td></td>\n",
       "      <td></td>\n",
       "      <td></td>\n",
       "      <td></td>\n",
       "      <td></td>\n",
       "      <td></td>\n",
       "      <td></td>\n",
       "      <td></td>\n",
       "      <td></td>\n",
       "    </tr>\n",
       "  </tbody>\n",
       "</table>\n",
       "</div>"
      ],
      "text/plain": [
       "Месячный возраст когорты      0    1    2    3    4    5    6    7    8    9   \\\n",
       "Когорта                                                                         \n",
       "2017-06                   2354.0  177  174  226  292  218  276  174  212  153   \n",
       "2017-07                   2186.0  100  120  104   72   82   61   50   58   24   \n",
       "2017-08                   1533.0  108  100   81   85   62   49   78   46   46   \n",
       "2017-09                   2933.0  219  161  164   67  109  108   56   61        \n",
       "2017-10                   4964.0  314  162  122  129  103   86  125             \n",
       "2017-11                   4813.0  397  182  211  136   59  102                  \n",
       "2017-12                   5052.0  270  202  179   86  105                       \n",
       "2018-01                   3783.0  224  159   64   78                            \n",
       "2018-02                   4095.0  222   83   70                                 \n",
       "2018-03                   4130.0  178  176                                      \n",
       "2018-04                   2495.0  195                                           \n",
       "2018-05                   3249.0                                                \n",
       "2018-06                      1.0                                                \n",
       "\n",
       "Месячный возраст когорты  10  11  \n",
       "Когорта                           \n",
       "2017-06                   96  86  \n",
       "2017-07                   53      \n",
       "2017-08                           \n",
       "2017-09                           \n",
       "2017-10                           \n",
       "2017-11                           \n",
       "2017-12                           \n",
       "2018-01                           \n",
       "2018-02                           \n",
       "2018-03                           \n",
       "2018-04                           \n",
       "2018-05                           \n",
       "2018-06                           "
      ]
     },
     "execution_count": 63,
     "metadata": {},
     "output_type": "execute_result"
    }
   ],
   "source": [
    "orders_pivot = orders_check_cohort.pivot_table(\n",
    "        index='first_sale_month',\n",
    "        columns='cohort_lifetime',\n",
    "        values='uid',\n",
    "        aggfunc='mean'\n",
    ")\n",
    "orders_pivot.columns.name = 'Месячный возраст когорты'\n",
    "orders_pivot.index.name = 'Когорта'\n",
    "orders_pivot = orders_pivot.fillna('')\n",
    "print('Количество покупок в когортах за период по месяцам')\n",
    "orders_pivot"
   ]
  },
  {
   "cell_type": "markdown",
   "metadata": {},
   "source": [
    "Количество покупок за данный период соответвует результатам о коэффициенте удержания пользователей (Retantion). Выделяются отдельные значения по месяцам. Так, в мае 2017 (первый месяц) количество покупок держится на одном уровне достаточно длительное время. Наиболее покупающими оказались когорты начала зимы (ноябрь-декабрь) 2017 года. Это связано с проведением массовых праздничных мероприятий, акционными прлеожениями и возможно, с сезонностью. \n",
    "\n",
    "В целом, между когортами наблюдается увеличение покупок, а затем планомерное снижение. \n",
    "\n",
    "Таким образом, мы видим как с каждым разом уменьшается количество повторных заказов и уменьшается возвращение пользователей. "
   ]
  },
  {
   "cell_type": "markdown",
   "metadata": {},
   "source": [
    "### Рассчитываем метрику LTV"
   ]
  },
  {
   "cell_type": "markdown",
   "metadata": {},
   "source": [
    "Нам необходимо посчитать экономику одного покупателя. Для этого, мы должны рассчитать LTV (от англ. lifetime value) — «пожизненная»ценность клиента. Это — итоговая сумма денег, которую один клиент приносит в среднем со всех своих покупок. "
   ]
  },
  {
   "cell_type": "code",
   "execution_count": 64,
   "metadata": {},
   "outputs": [],
   "source": [
    "orders['order_month'] = orders['buy_ts'].astype('datetime64[M]')\n",
    "initial_order = orders.groupby('uid').agg({'order_month':'min'}).reset_index()\n",
    "initial_order.columns = ['uid', 'initial_order_month']"
   ]
  },
  {
   "cell_type": "code",
   "execution_count": 65,
   "metadata": {},
   "outputs": [],
   "source": [
    "order_sale_cohort = initial_order.groupby('initial_order_month').agg({'uid':'nunique'}).reset_index()\n",
    "order_sale_cohort.columns = ['initial_order_month', 'number_users']"
   ]
  },
  {
   "cell_type": "code",
   "execution_count": 66,
   "metadata": {},
   "outputs": [],
   "source": [
    "ltv = pd.merge(orders, initial_order, on='uid')\n",
    "cohorts = ltv.groupby(['initial_order_month', 'order_month']).agg({'revenue':'sum'}).reset_index()"
   ]
  },
  {
   "cell_type": "code",
   "execution_count": 67,
   "metadata": {},
   "outputs": [],
   "source": [
    "report = pd.merge(order_sale_cohort, cohorts, on='initial_order_month')\n",
    "report['age'] = (report['order_month'] - report['initial_order_month'])/np.timedelta64(1, 'M')\n",
    "report['age'] = report['age'].round().astype('int')\n",
    "report['ltv'] = report['revenue'] / report['number_users']"
   ]
  },
  {
   "cell_type": "code",
   "execution_count": 68,
   "metadata": {},
   "outputs": [
    {
     "data": {
      "text/html": [
       "<div>\n",
       "<style scoped>\n",
       "    .dataframe tbody tr th:only-of-type {\n",
       "        vertical-align: middle;\n",
       "    }\n",
       "\n",
       "    .dataframe tbody tr th {\n",
       "        vertical-align: top;\n",
       "    }\n",
       "\n",
       "    .dataframe thead th {\n",
       "        text-align: right;\n",
       "    }\n",
       "</style>\n",
       "<table border=\"1\" class=\"dataframe\">\n",
       "  <thead>\n",
       "    <tr style=\"text-align: right;\">\n",
       "      <th>Возраст</th>\n",
       "      <th>0</th>\n",
       "      <th>1</th>\n",
       "      <th>2</th>\n",
       "      <th>3</th>\n",
       "      <th>4</th>\n",
       "      <th>5</th>\n",
       "      <th>6</th>\n",
       "      <th>7</th>\n",
       "      <th>8</th>\n",
       "      <th>9</th>\n",
       "      <th>10</th>\n",
       "      <th>11</th>\n",
       "    </tr>\n",
       "    <tr>\n",
       "      <th>Когорта</th>\n",
       "      <th></th>\n",
       "      <th></th>\n",
       "      <th></th>\n",
       "      <th></th>\n",
       "      <th></th>\n",
       "      <th></th>\n",
       "      <th></th>\n",
       "      <th></th>\n",
       "      <th></th>\n",
       "      <th></th>\n",
       "      <th></th>\n",
       "      <th></th>\n",
       "    </tr>\n",
       "  </thead>\n",
       "  <tbody>\n",
       "    <tr>\n",
       "      <td>2017-06-01</td>\n",
       "      <td>4.72</td>\n",
       "      <td>0.49</td>\n",
       "      <td>0.44</td>\n",
       "      <td>0.95</td>\n",
       "      <td>1.02</td>\n",
       "      <td>0.74</td>\n",
       "      <td>0.95</td>\n",
       "      <td>0.58</td>\n",
       "      <td>0.55</td>\n",
       "      <td>0.61</td>\n",
       "      <td>0.57</td>\n",
       "      <td>0.26</td>\n",
       "    </tr>\n",
       "    <tr>\n",
       "      <td>2017-07-01</td>\n",
       "      <td>6.01</td>\n",
       "      <td>0.34</td>\n",
       "      <td>0.62</td>\n",
       "      <td>0.36</td>\n",
       "      <td>0.18</td>\n",
       "      <td>0.16</td>\n",
       "      <td>0.12</td>\n",
       "      <td>0.14</td>\n",
       "      <td>0.16</td>\n",
       "      <td>0.15</td>\n",
       "      <td>0.16</td>\n",
       "      <td></td>\n",
       "    </tr>\n",
       "    <tr>\n",
       "      <td>2017-08-01</td>\n",
       "      <td>5.28</td>\n",
       "      <td>0.47</td>\n",
       "      <td>0.46</td>\n",
       "      <td>0.39</td>\n",
       "      <td>0.49</td>\n",
       "      <td>0.28</td>\n",
       "      <td>0.21</td>\n",
       "      <td>0.41</td>\n",
       "      <td>0.29</td>\n",
       "      <td>0.19</td>\n",
       "      <td></td>\n",
       "      <td></td>\n",
       "    </tr>\n",
       "    <tr>\n",
       "      <td>2017-09-01</td>\n",
       "      <td>5.64</td>\n",
       "      <td>1.12</td>\n",
       "      <td>0.52</td>\n",
       "      <td>3.98</td>\n",
       "      <td>0.4</td>\n",
       "      <td>0.65</td>\n",
       "      <td>0.7</td>\n",
       "      <td>0.24</td>\n",
       "      <td>0.18</td>\n",
       "      <td></td>\n",
       "      <td></td>\n",
       "      <td></td>\n",
       "    </tr>\n",
       "    <tr>\n",
       "      <td>2017-10-01</td>\n",
       "      <td>5.00</td>\n",
       "      <td>0.54</td>\n",
       "      <td>0.19</td>\n",
       "      <td>0.16</td>\n",
       "      <td>0.15</td>\n",
       "      <td>0.12</td>\n",
       "      <td>0.08</td>\n",
       "      <td>0.12</td>\n",
       "      <td></td>\n",
       "      <td></td>\n",
       "      <td></td>\n",
       "      <td></td>\n",
       "    </tr>\n",
       "    <tr>\n",
       "      <td>2017-11-01</td>\n",
       "      <td>5.15</td>\n",
       "      <td>0.4</td>\n",
       "      <td>0.2</td>\n",
       "      <td>0.32</td>\n",
       "      <td>0.15</td>\n",
       "      <td>0.05</td>\n",
       "      <td>0.11</td>\n",
       "      <td></td>\n",
       "      <td></td>\n",
       "      <td></td>\n",
       "      <td></td>\n",
       "      <td></td>\n",
       "    </tr>\n",
       "    <tr>\n",
       "      <td>2017-12-01</td>\n",
       "      <td>4.74</td>\n",
       "      <td>0.26</td>\n",
       "      <td>0.93</td>\n",
       "      <td>1.07</td>\n",
       "      <td>0.31</td>\n",
       "      <td>0.34</td>\n",
       "      <td></td>\n",
       "      <td></td>\n",
       "      <td></td>\n",
       "      <td></td>\n",
       "      <td></td>\n",
       "      <td></td>\n",
       "    </tr>\n",
       "    <tr>\n",
       "      <td>2018-01-01</td>\n",
       "      <td>4.14</td>\n",
       "      <td>0.29</td>\n",
       "      <td>0.3</td>\n",
       "      <td>0.14</td>\n",
       "      <td>0.06</td>\n",
       "      <td></td>\n",
       "      <td></td>\n",
       "      <td></td>\n",
       "      <td></td>\n",
       "      <td></td>\n",
       "      <td></td>\n",
       "      <td></td>\n",
       "    </tr>\n",
       "    <tr>\n",
       "      <td>2018-02-01</td>\n",
       "      <td>4.16</td>\n",
       "      <td>0.28</td>\n",
       "      <td>0.08</td>\n",
       "      <td>0.07</td>\n",
       "      <td></td>\n",
       "      <td></td>\n",
       "      <td></td>\n",
       "      <td></td>\n",
       "      <td></td>\n",
       "      <td></td>\n",
       "      <td></td>\n",
       "      <td></td>\n",
       "    </tr>\n",
       "    <tr>\n",
       "      <td>2018-03-01</td>\n",
       "      <td>4.84</td>\n",
       "      <td>0.3</td>\n",
       "      <td>0.32</td>\n",
       "      <td></td>\n",
       "      <td></td>\n",
       "      <td></td>\n",
       "      <td></td>\n",
       "      <td></td>\n",
       "      <td></td>\n",
       "      <td></td>\n",
       "      <td></td>\n",
       "      <td></td>\n",
       "    </tr>\n",
       "    <tr>\n",
       "      <td>2018-04-01</td>\n",
       "      <td>4.66</td>\n",
       "      <td>0.53</td>\n",
       "      <td></td>\n",
       "      <td></td>\n",
       "      <td></td>\n",
       "      <td></td>\n",
       "      <td></td>\n",
       "      <td></td>\n",
       "      <td></td>\n",
       "      <td></td>\n",
       "      <td></td>\n",
       "      <td></td>\n",
       "    </tr>\n",
       "    <tr>\n",
       "      <td>2018-05-01</td>\n",
       "      <td>4.66</td>\n",
       "      <td></td>\n",
       "      <td></td>\n",
       "      <td></td>\n",
       "      <td></td>\n",
       "      <td></td>\n",
       "      <td></td>\n",
       "      <td></td>\n",
       "      <td></td>\n",
       "      <td></td>\n",
       "      <td></td>\n",
       "      <td></td>\n",
       "    </tr>\n",
       "    <tr>\n",
       "      <td>2018-06-01</td>\n",
       "      <td>3.42</td>\n",
       "      <td></td>\n",
       "      <td></td>\n",
       "      <td></td>\n",
       "      <td></td>\n",
       "      <td></td>\n",
       "      <td></td>\n",
       "      <td></td>\n",
       "      <td></td>\n",
       "      <td></td>\n",
       "      <td></td>\n",
       "      <td></td>\n",
       "    </tr>\n",
       "  </tbody>\n",
       "</table>\n",
       "</div>"
      ],
      "text/plain": [
       "Возраст       0     1     2     3     4     5     6     7     8     9     10  \\\n",
       "Когорта                                                                        \n",
       "2017-06-01  4.72  0.49  0.44  0.95  1.02  0.74  0.95  0.58  0.55  0.61  0.57   \n",
       "2017-07-01  6.01  0.34  0.62  0.36  0.18  0.16  0.12  0.14  0.16  0.15  0.16   \n",
       "2017-08-01  5.28  0.47  0.46  0.39  0.49  0.28  0.21  0.41  0.29  0.19         \n",
       "2017-09-01  5.64  1.12  0.52  3.98   0.4  0.65   0.7  0.24  0.18               \n",
       "2017-10-01  5.00  0.54  0.19  0.16  0.15  0.12  0.08  0.12                     \n",
       "2017-11-01  5.15   0.4   0.2  0.32  0.15  0.05  0.11                           \n",
       "2017-12-01  4.74  0.26  0.93  1.07  0.31  0.34                                 \n",
       "2018-01-01  4.14  0.29   0.3  0.14  0.06                                       \n",
       "2018-02-01  4.16  0.28  0.08  0.07                                             \n",
       "2018-03-01  4.84   0.3  0.32                                                   \n",
       "2018-04-01  4.66  0.53                                                         \n",
       "2018-05-01  4.66                                                               \n",
       "2018-06-01  3.42                                                               \n",
       "\n",
       "Возраст       11  \n",
       "Когорта           \n",
       "2017-06-01  0.26  \n",
       "2017-07-01        \n",
       "2017-08-01        \n",
       "2017-09-01        \n",
       "2017-10-01        \n",
       "2017-11-01        \n",
       "2017-12-01        \n",
       "2018-01-01        \n",
       "2018-02-01        \n",
       "2018-03-01        \n",
       "2018-04-01        \n",
       "2018-05-01        \n",
       "2018-06-01        "
      ]
     },
     "execution_count": 68,
     "metadata": {},
     "output_type": "execute_result"
    }
   ],
   "source": [
    "display = report.pivot_table(\n",
    "        index = 'initial_order_month',\n",
    "        columns = 'age',\n",
    "        values = 'ltv',\n",
    "        aggfunc = 'mean'\n",
    ").round(2)\n",
    "display.columns.name = 'Возраст'\n",
    "display.index.name = 'Когорта'\n",
    "display = display.fillna('')\n",
    "display"
   ]
  },
  {
   "cell_type": "markdown",
   "metadata": {},
   "source": [
    "Показатель LTV снижается в когортах в соответсвии с возрастом. Это связано с тем, что активных пользователей со временем становится меньше. Наибольшую прибыль LTV принесла сентябрьская когорта в 2017 году. Также, неплохой показатель у декабрьской когорты 2017 года.\n",
    "Наименьшую прибыль LTV показали январская и февральская когорты 2018 года. \n",
    "\n",
    "Таким образом, скорее всего многие пользователи покупали билеты на мероприятия заранее, осенью. Потом, докупали их зимой, на новые мероприятия и используя акционные предложения. После продажи значительно проседают. В целом, показатель LTV довольно низкий. "
   ]
  },
  {
   "cell_type": "markdown",
   "metadata": {},
   "source": [
    "### Вывод"
   ]
  },
  {
   "cell_type": "markdown",
   "metadata": {},
   "source": [
    "В целом, большая часть 66 % пользователей совершают первый заказ в течение 4-8 минут. В основном, клиенты во время первого посещения совершают заказ в небольшой временой промежуток — не более 10-15 минут. Или в первые несколько часов (40% пользователей). Возможно, это и не плохо, пользователь проходит путь: выбор нужного раздела, прочтение краткой информации о мероприятии, выбор места в зале, переход на онлайн-кассу.\n",
    "\n",
    "Конечно же, можно оптимизировать перход в оплату, например вести клиента сразу на прайсовую с рекламного баннера. \n",
    "\n",
    "Также, мы узнали, что 14% пользователей, совершает заказ в первые пять дней, во время первого посещения. Возможно, нужно дополнительно прогревать данных пользователей на покупку в этот временной период. \n",
    "\n",
    "С мая 2017 года средний чек имеет тенденцию к росту. Начиная с 3,1 (первый месяц работы сервиса), средний чек достигает 5,3 условных единиц. Также, максимальный средний чек наблюдается в декабре 2017, с последующей просадкой в январе 2018 года. Предполагаем, что это связано с новогодними праздниками и акционными предложениями.\n",
    "В феврале 2018 года, снова отмечается рост среднего чека до марта месяца. После, идет планомерное стремительное снижение. Необходимо изучить данный период подробнее. \n",
    "\n",
    "Мы видим тенденцию роста в самом начале работы сервиса, приходящуюся на летние месяцы, легкую просадку осенью, и бурный рост в начале зимы. С 2018 года, картина меняется. Снижение среднего чека приближается к летним месяцам.\n",
    "\n",
    "\n",
    "Количество покупок за данный период соответвует результатам о коэффициенте удержания пользователей (Retantion). Выделяются отдельные значения по месяцам. Так, в мае 2017 (первый месяц) количество покупок держится на одном уровне достаточно длительное время. Наиболее покупающими оказались когорты начала зимы (ноябрь-декабрь) 2017 года. Это связано с проведением массовых праздничных мероприятий, акционными прлеожениями и возможно, с сезонностью.\n",
    "\n",
    "В целом, между когортами наблюдается увеличение покупок, а затем планомерное снижение.\n",
    "\n",
    "Таким образом, мы видим как с каждым разом уменьшается количество повторных заказов и уменьшается возвращение пользователей.\n",
    "\n",
    "Показатель LTV снижается в когортах в соответсвии с возрастом когорты. Это связано с тем, что активных пользователей со временем становится меньше. Наибольшую прибыль LTV принесла сентябрьская когорта в 2017 году. Также, неплохой показатель у декабрьской когорты 2017 года. Наименьшую прибыль LTV показали январская и февральская когорты 2018 года.\n",
    "\n",
    "Таким образом, скорее всего многие пользователи покупали билеты на мероприятия заранее, осенью. Потом, докупали их зимой, на новые мероприятия и используя акционные предложения. После продажи значительно проседают. В целом, показатель LTV довольно низкий."
   ]
  },
  {
   "cell_type": "markdown",
   "metadata": {},
   "source": [
    "## Глава 5. Анализ маркетинговых показателей"
   ]
  },
  {
   "cell_type": "markdown",
   "metadata": {},
   "source": [
    "### Суммарные рассходы с разбивкой по рекламным источникам и месяцам"
   ]
  },
  {
   "cell_type": "code",
   "execution_count": 69,
   "metadata": {},
   "outputs": [
    {
     "data": {
      "image/png": "[encoded data removed]",
      "text/plain": [
       "<Figure size 1224x576 with 2 Axes>"
      ]
     },
     "metadata": {},
     "output_type": "display_data"
    }
   ],
   "source": [
    "# Ранее мы уже анализировали рекламные источники, рассчитывали траты на каждый из них и строиили соответствующие диаграммы. \n",
    "# Поэтому, сейчас мы скопируем ту часть работы с новыми добавлениями для рассчета.\n",
    "costs['month'] = costs['date'].astype('datetime64[M]')\n",
    "costs_sum = costs['costs'].sum()\n",
    "plt.subplots(figsize=(17, 8))\n",
    "plot = costs.pivot_table(\n",
    "        index='source_id',\n",
    "        values='costs',\n",
    "        aggfunc='sum'\n",
    ").plot(\n",
    "        kind='pie',\n",
    "        autopct='%1.1f%%',\n",
    "        title='Затраты маркетинга на рекламный источник',\n",
    "        y='costs',\n",
    "        legend=False,\n",
    "        explode=(0.1, 0.1, 0.1, 0.1, 0.1, 0.1, 0.1),\n",
    "        shadow=True,\n",
    "        ax=plt.subplot(1,2,1)\n",
    ")\n",
    "plt.ylabel('')\n",
    "plot = costs.pivot_table(\n",
    "    index='month',\n",
    "    values='costs',\n",
    "    aggfunc='sum'    \n",
    ").reset_index().plot(\n",
    "                    x='month',\n",
    "                    y='costs',\n",
    "                    grid=True,\n",
    "                    legend=False,\n",
    "                    color='gold',\n",
    "                    ax = plt.subplot(1,2,2), title = 'Затраты маркетинга по месяцам' \n",
    ")\n",
    "plt.ylabel('Затраты в рублях')\n",
    "plt.xlabel('Месяц');"
   ]
  },
  {
   "cell_type": "code",
   "execution_count": 70,
   "metadata": {},
   "outputs": [
    {
     "name": "stdout",
     "output_type": "stream",
     "text": [
      "Суммарные затраты на маркетинг за данный период 329131.62 рублей\n"
     ]
    }
   ],
   "source": [
    "print('Суммарные затраты на маркетинг за данный период', costs_sum, 'рублей')"
   ]
  },
  {
   "cell_type": "markdown",
   "metadata": {},
   "source": [
    "Затраты на рекламу имеют явную сезонную стратегию — повышаются с осени, достигая максимума к зимнему периоду праздников. Далее идет снижение с весны по летний период. Большая часть вложений приходится на рекламное размещение № 3, после чего равные доли распределяются по № 4, №5, и № 2. На остальные источники уходит остаток маркетингового бюджета (надеемся это делается не для отчетности). \n",
    "\n",
    "Суммарные затраты на маркетинг за данный период составляют 329 тыс. рублей."
   ]
  },
  {
   "cell_type": "code",
   "execution_count": 71,
   "metadata": {},
   "outputs": [
    {
     "data": {
      "image/png": "[encoded data removed]",
      "text/plain": [
       "<Figure size 1440x720 with 1 Axes>"
      ]
     },
     "metadata": {},
     "output_type": "display_data"
    }
   ],
   "source": [
    "# Построим график отображающий траты по каждому рекламному размещению и по всем месяцам за данный период.\n",
    "costs.pivot_table(\n",
    "    index='month',\n",
    "    columns='source_id',\n",
    "    values='costs',\n",
    "    aggfunc='sum'    \n",
    ").reset_index().plot(kind='bar',\n",
    "                    x='month', figsize=(20, 10), stacked=True, rot=45).set(xlabel='Месяц', \n",
    "                                                                                    ylabel='Сумма')\n",
    "plt.show()"
   ]
  },
  {
   "cell_type": "markdown",
   "metadata": {},
   "source": [
    "Наибольшие траты осущетвляются на рекламный источник №3 в течение всего временного периода. "
   ]
  },
  {
   "cell_type": "markdown",
   "metadata": {},
   "source": [
    "### Стоимость привлечения одного покупателя из каждого рекламного источника "
   ]
  },
  {
   "cell_type": "code",
   "execution_count": 72,
   "metadata": {},
   "outputs": [],
   "source": [
    "# Соотносим посетителя рекламному источнику из условия. Предположительно самый ранний переходи приводит к покупке\n",
    "clients_group_id = visits.groupby(['uid', 'source_id']).agg({'start_ts':'min'}).reset_index()\n",
    "clients_source = clients_group_id[['uid', 'source_id']]\n",
    "\n",
    "# Сумма потраченных средств на каждый рекламный источник\n",
    "cost_sources = costs.groupby('source_id').agg({'costs':'sum'}).reset_index()\n",
    "\n",
    "# Собираем все в один сет по соответвию ракламного источника заказу\n",
    "orders_sources = pd.merge(clients_source, orders, on='uid')"
   ]
  },
  {
   "cell_type": "code",
   "execution_count": 73,
   "metadata": {},
   "outputs": [],
   "source": [
    "# Группируем по рекламному источнику, подсчитываем число уникальных покупателей и суммарную выручку из 1 источника\n",
    "orders_group_sources = orders_sources.groupby('source_id').agg({'uid':'nunique', 'revenue':'sum'}).reset_index()\n",
    "orders_group_sources.columns = ['source_id', 'number_buyers', 'sum_revenue']"
   ]
  },
  {
   "cell_type": "code",
   "execution_count": 74,
   "metadata": {},
   "outputs": [],
   "source": [
    "report_cost = pd.merge(orders_group_sources, cost_sources, on='source_id')\n",
    "\n",
    "report_cost['per_user_cost'] = report_cost['costs'] / report_cost['number_buyers']\n",
    "\n",
    "report_cost['per_user_revenue'] = report_cost['sum_revenue'] / report_cost['number_buyers']"
   ]
  },
  {
   "cell_type": "code",
   "execution_count": 75,
   "metadata": {},
   "outputs": [
    {
     "data": {
      "text/html": [
       "<div>\n",
       "<style scoped>\n",
       "    .dataframe tbody tr th:only-of-type {\n",
       "        vertical-align: middle;\n",
       "    }\n",
       "\n",
       "    .dataframe tbody tr th {\n",
       "        vertical-align: top;\n",
       "    }\n",
       "\n",
       "    .dataframe thead th {\n",
       "        text-align: right;\n",
       "    }\n",
       "</style>\n",
       "<table border=\"1\" class=\"dataframe\">\n",
       "  <thead>\n",
       "    <tr style=\"text-align: right;\">\n",
       "      <th></th>\n",
       "      <th>Номер рекламного размещения</th>\n",
       "      <th>Кол-во покупателей</th>\n",
       "      <th>Выручка</th>\n",
       "      <th>Затраты</th>\n",
       "      <th>Уд.затраты</th>\n",
       "      <th>Уд.выручка</th>\n",
       "    </tr>\n",
       "  </thead>\n",
       "  <tbody>\n",
       "    <tr>\n",
       "      <td>0</td>\n",
       "      <td>1</td>\n",
       "      <td>7138</td>\n",
       "      <td>101631.38</td>\n",
       "      <td>20833.27</td>\n",
       "      <td>2.92</td>\n",
       "      <td>14.24</td>\n",
       "    </tr>\n",
       "    <tr>\n",
       "      <td>1</td>\n",
       "      <td>2</td>\n",
       "      <td>7305</td>\n",
       "      <td>113524.51</td>\n",
       "      <td>42806.04</td>\n",
       "      <td>5.86</td>\n",
       "      <td>15.54</td>\n",
       "    </tr>\n",
       "    <tr>\n",
       "      <td>2</td>\n",
       "      <td>3</td>\n",
       "      <td>13846</td>\n",
       "      <td>119193.48</td>\n",
       "      <td>141321.63</td>\n",
       "      <td>10.21</td>\n",
       "      <td>8.61</td>\n",
       "    </tr>\n",
       "    <tr>\n",
       "      <td>3</td>\n",
       "      <td>4</td>\n",
       "      <td>14253</td>\n",
       "      <td>119899.47</td>\n",
       "      <td>61073.60</td>\n",
       "      <td>4.28</td>\n",
       "      <td>8.41</td>\n",
       "    </tr>\n",
       "    <tr>\n",
       "      <td>4</td>\n",
       "      <td>5</td>\n",
       "      <td>10156</td>\n",
       "      <td>111532.65</td>\n",
       "      <td>51757.10</td>\n",
       "      <td>5.10</td>\n",
       "      <td>10.98</td>\n",
       "    </tr>\n",
       "    <tr>\n",
       "      <td>5</td>\n",
       "      <td>9</td>\n",
       "      <td>2793</td>\n",
       "      <td>18809.68</td>\n",
       "      <td>5517.49</td>\n",
       "      <td>1.98</td>\n",
       "      <td>6.73</td>\n",
       "    </tr>\n",
       "    <tr>\n",
       "      <td>6</td>\n",
       "      <td>10</td>\n",
       "      <td>1773</td>\n",
       "      <td>8218.72</td>\n",
       "      <td>5822.49</td>\n",
       "      <td>3.28</td>\n",
       "      <td>4.64</td>\n",
       "    </tr>\n",
       "  </tbody>\n",
       "</table>\n",
       "</div>"
      ],
      "text/plain": [
       "   Номер рекламного размещения  Кол-во покупателей    Выручка    Затраты  \\\n",
       "0                            1                7138  101631.38   20833.27   \n",
       "1                            2                7305  113524.51   42806.04   \n",
       "2                            3               13846  119193.48  141321.63   \n",
       "3                            4               14253  119899.47   61073.60   \n",
       "4                            5               10156  111532.65   51757.10   \n",
       "5                            9                2793   18809.68    5517.49   \n",
       "6                           10                1773    8218.72    5822.49   \n",
       "\n",
       "   Уд.затраты  Уд.выручка  \n",
       "0        2.92       14.24  \n",
       "1        5.86       15.54  \n",
       "2       10.21        8.61  \n",
       "3        4.28        8.41  \n",
       "4        5.10       10.98  \n",
       "5        1.98        6.73  \n",
       "6        3.28        4.64  "
      ]
     },
     "execution_count": 75,
     "metadata": {},
     "output_type": "execute_result"
    }
   ],
   "source": [
    "report_cost['per_user_cost'] = report_cost['per_user_cost'].round(2)\n",
    "report_cost['per_user_revenue'] = report_cost['per_user_revenue'].round(2)\n",
    "report_cost.columns = ['Номер рекламного размещения', 'Кол-во покупателей', 'Выручка', 'Затраты', 'Уд.затраты', 'Уд.выручка']\n",
    "report_cost"
   ]
  },
  {
   "cell_type": "markdown",
   "metadata": {},
   "source": [
    "Несмотря на то, что большая часть вложений приходится на рекламное размещение № 3, на данный момент оно еще не окупилось. При этом, даже большое количество покупателей (13 тыс.) пришедших с данного рекламного источника не покрывает сумму затрат. \n",
    "\n",
    "Остальные рекламные источники отлично отработали. Некоторые из них, например размещение № 1, окупились сполна. \n",
    "\n",
    "Помимо этого, стоит отметить рекламные источники № 9 и 10, те, на которые тратится остаток рекламного бюджета. Они оказались довольно прибыльными.\n",
    "\n",
    "Лучше всего сработал рекламный источник № 4. Он привел больше всего покупателей и окупился.\n",
    "\n",
    "Необходимо пересмотреть распределение рекламного бюджета."
   ]
  },
  {
   "cell_type": "markdown",
   "metadata": {},
   "source": [
    "### Рассчитываем метрику ROI"
   ]
  },
  {
   "cell_type": "code",
   "execution_count": 76,
   "metadata": {},
   "outputs": [
    {
     "data": {
      "text/html": [
       "<div>\n",
       "<style scoped>\n",
       "    .dataframe tbody tr th:only-of-type {\n",
       "        vertical-align: middle;\n",
       "    }\n",
       "\n",
       "    .dataframe tbody tr th {\n",
       "        vertical-align: top;\n",
       "    }\n",
       "\n",
       "    .dataframe thead th {\n",
       "        text-align: right;\n",
       "    }\n",
       "</style>\n",
       "<table border=\"1\" class=\"dataframe\">\n",
       "  <thead>\n",
       "    <tr style=\"text-align: right;\">\n",
       "      <th>Месячный возраст когорты</th>\n",
       "      <th>0</th>\n",
       "      <th>1</th>\n",
       "      <th>2</th>\n",
       "      <th>3</th>\n",
       "      <th>4</th>\n",
       "      <th>5</th>\n",
       "      <th>6</th>\n",
       "      <th>7</th>\n",
       "      <th>8</th>\n",
       "      <th>9</th>\n",
       "      <th>10</th>\n",
       "      <th>11</th>\n",
       "    </tr>\n",
       "    <tr>\n",
       "      <th>Когорта</th>\n",
       "      <th></th>\n",
       "      <th></th>\n",
       "      <th></th>\n",
       "      <th></th>\n",
       "      <th></th>\n",
       "      <th></th>\n",
       "      <th></th>\n",
       "      <th></th>\n",
       "      <th></th>\n",
       "      <th></th>\n",
       "      <th></th>\n",
       "      <th></th>\n",
       "    </tr>\n",
       "  </thead>\n",
       "  <tbody>\n",
       "    <tr>\n",
       "      <td>2017-06-01</td>\n",
       "      <td>0.53</td>\n",
       "      <td>0.59</td>\n",
       "      <td>0.63</td>\n",
       "      <td>0.74</td>\n",
       "      <td>0.86</td>\n",
       "      <td>0.94</td>\n",
       "      <td>1.05</td>\n",
       "      <td>1.11</td>\n",
       "      <td>1.17</td>\n",
       "      <td>1.24</td>\n",
       "      <td>1.31</td>\n",
       "      <td>1.33</td>\n",
       "    </tr>\n",
       "    <tr>\n",
       "      <td>2017-07-01</td>\n",
       "      <td>0.63</td>\n",
       "      <td>0.67</td>\n",
       "      <td>0.73</td>\n",
       "      <td>0.77</td>\n",
       "      <td>0.79</td>\n",
       "      <td>0.81</td>\n",
       "      <td>0.82</td>\n",
       "      <td>0.84</td>\n",
       "      <td>0.85</td>\n",
       "      <td>0.87</td>\n",
       "      <td>0.88</td>\n",
       "      <td></td>\n",
       "    </tr>\n",
       "    <tr>\n",
       "      <td>2017-08-01</td>\n",
       "      <td>0.49</td>\n",
       "      <td>0.53</td>\n",
       "      <td>0.57</td>\n",
       "      <td>0.61</td>\n",
       "      <td>0.66</td>\n",
       "      <td>0.68</td>\n",
       "      <td>0.7</td>\n",
       "      <td>0.74</td>\n",
       "      <td>0.77</td>\n",
       "      <td>0.78</td>\n",
       "      <td></td>\n",
       "      <td></td>\n",
       "    </tr>\n",
       "    <tr>\n",
       "      <td>2017-09-01</td>\n",
       "      <td>0.60</td>\n",
       "      <td>0.72</td>\n",
       "      <td>0.77</td>\n",
       "      <td>1.19</td>\n",
       "      <td>1.23</td>\n",
       "      <td>1.3</td>\n",
       "      <td>1.38</td>\n",
       "      <td>1.4</td>\n",
       "      <td>1.42</td>\n",
       "      <td></td>\n",
       "      <td></td>\n",
       "      <td></td>\n",
       "    </tr>\n",
       "    <tr>\n",
       "      <td>2017-10-01</td>\n",
       "      <td>0.60</td>\n",
       "      <td>0.66</td>\n",
       "      <td>0.68</td>\n",
       "      <td>0.7</td>\n",
       "      <td>0.72</td>\n",
       "      <td>0.74</td>\n",
       "      <td>0.75</td>\n",
       "      <td>0.76</td>\n",
       "      <td></td>\n",
       "      <td></td>\n",
       "      <td></td>\n",
       "      <td></td>\n",
       "    </tr>\n",
       "    <tr>\n",
       "      <td>2017-11-01</td>\n",
       "      <td>0.55</td>\n",
       "      <td>0.6</td>\n",
       "      <td>0.62</td>\n",
       "      <td>0.65</td>\n",
       "      <td>0.67</td>\n",
       "      <td>0.68</td>\n",
       "      <td>0.69</td>\n",
       "      <td></td>\n",
       "      <td></td>\n",
       "      <td></td>\n",
       "      <td></td>\n",
       "      <td></td>\n",
       "    </tr>\n",
       "    <tr>\n",
       "      <td>2017-12-01</td>\n",
       "      <td>0.54</td>\n",
       "      <td>0.57</td>\n",
       "      <td>0.68</td>\n",
       "      <td>0.8</td>\n",
       "      <td>0.84</td>\n",
       "      <td>0.87</td>\n",
       "      <td></td>\n",
       "      <td></td>\n",
       "      <td></td>\n",
       "      <td></td>\n",
       "      <td></td>\n",
       "      <td></td>\n",
       "    </tr>\n",
       "    <tr>\n",
       "      <td>2018-01-01</td>\n",
       "      <td>0.42</td>\n",
       "      <td>0.45</td>\n",
       "      <td>0.48</td>\n",
       "      <td>0.49</td>\n",
       "      <td>0.5</td>\n",
       "      <td></td>\n",
       "      <td></td>\n",
       "      <td></td>\n",
       "      <td></td>\n",
       "      <td></td>\n",
       "      <td></td>\n",
       "      <td></td>\n",
       "    </tr>\n",
       "    <tr>\n",
       "      <td>2018-02-01</td>\n",
       "      <td>0.46</td>\n",
       "      <td>0.49</td>\n",
       "      <td>0.5</td>\n",
       "      <td>0.51</td>\n",
       "      <td></td>\n",
       "      <td></td>\n",
       "      <td></td>\n",
       "      <td></td>\n",
       "      <td></td>\n",
       "      <td></td>\n",
       "      <td></td>\n",
       "      <td></td>\n",
       "    </tr>\n",
       "    <tr>\n",
       "      <td>2018-03-01</td>\n",
       "      <td>0.56</td>\n",
       "      <td>0.6</td>\n",
       "      <td>0.63</td>\n",
       "      <td></td>\n",
       "      <td></td>\n",
       "      <td></td>\n",
       "      <td></td>\n",
       "      <td></td>\n",
       "      <td></td>\n",
       "      <td></td>\n",
       "      <td></td>\n",
       "      <td></td>\n",
       "    </tr>\n",
       "    <tr>\n",
       "      <td>2018-04-01</td>\n",
       "      <td>0.48</td>\n",
       "      <td>0.53</td>\n",
       "      <td></td>\n",
       "      <td></td>\n",
       "      <td></td>\n",
       "      <td></td>\n",
       "      <td></td>\n",
       "      <td></td>\n",
       "      <td></td>\n",
       "      <td></td>\n",
       "      <td></td>\n",
       "      <td></td>\n",
       "    </tr>\n",
       "    <tr>\n",
       "      <td>2018-05-01</td>\n",
       "      <td>0.63</td>\n",
       "      <td></td>\n",
       "      <td></td>\n",
       "      <td></td>\n",
       "      <td></td>\n",
       "      <td></td>\n",
       "      <td></td>\n",
       "      <td></td>\n",
       "      <td></td>\n",
       "      <td></td>\n",
       "      <td></td>\n",
       "      <td></td>\n",
       "    </tr>\n",
       "  </tbody>\n",
       "</table>\n",
       "</div>"
      ],
      "text/plain": [
       "Месячный возраст когорты    0     1     2     3     4     5     6     7   \\\n",
       "Когорта                                                                    \n",
       "2017-06-01                0.53  0.59  0.63  0.74  0.86  0.94  1.05  1.11   \n",
       "2017-07-01                0.63  0.67  0.73  0.77  0.79  0.81  0.82  0.84   \n",
       "2017-08-01                0.49  0.53  0.57  0.61  0.66  0.68   0.7  0.74   \n",
       "2017-09-01                0.60  0.72  0.77  1.19  1.23   1.3  1.38   1.4   \n",
       "2017-10-01                0.60  0.66  0.68   0.7  0.72  0.74  0.75  0.76   \n",
       "2017-11-01                0.55   0.6  0.62  0.65  0.67  0.68  0.69         \n",
       "2017-12-01                0.54  0.57  0.68   0.8  0.84  0.87               \n",
       "2018-01-01                0.42  0.45  0.48  0.49   0.5                     \n",
       "2018-02-01                0.46  0.49   0.5  0.51                           \n",
       "2018-03-01                0.56   0.6  0.63                                 \n",
       "2018-04-01                0.48  0.53                                       \n",
       "2018-05-01                0.63                                             \n",
       "\n",
       "Месячный возраст когорты    8     9     10    11  \n",
       "Когорта                                           \n",
       "2017-06-01                1.17  1.24  1.31  1.33  \n",
       "2017-07-01                0.85  0.87  0.88        \n",
       "2017-08-01                0.77  0.78              \n",
       "2017-09-01                1.42                    \n",
       "2017-10-01                                        \n",
       "2017-11-01                                        \n",
       "2017-12-01                                        \n",
       "2018-01-01                                        \n",
       "2018-02-01                                        \n",
       "2018-03-01                                        \n",
       "2018-04-01                                        \n",
       "2018-05-01                                        "
      ]
     },
     "execution_count": 76,
     "metadata": {},
     "output_type": "execute_result"
    }
   ],
   "source": [
    "cost_month = costs.groupby('month').agg({'costs':'sum'}).reset_index()\n",
    "roi_report = pd.merge(report, cost_month, left_on='initial_order_month', right_on='month')\n",
    "\n",
    "roi_report['cac'] = roi_report['costs'] / roi_report['number_users']\n",
    "roi_report['roi'] = roi_report['ltv'] / roi_report['cac']\n",
    "\n",
    "roi_output = roi_report.pivot_table(\n",
    "        index='initial_order_month',\n",
    "        columns= 'age',\n",
    "        values = 'roi',\n",
    "        aggfunc = 'mean'\n",
    ")\n",
    "roi_output.columns.name = 'Месячный возраст когорты'\n",
    "roi_output.index.name = 'Когорта'\n",
    "roi_output.cumsum(axis=1).round(2).fillna('')"
   ]
  },
  {
   "cell_type": "code",
   "execution_count": 77,
   "metadata": {},
   "outputs": [
    {
     "data": {
      "text/plain": [
       "Месячный возраст когорты\n",
       "0     0.540816\n",
       "1     0.581985\n",
       "2     0.631069\n",
       "3     0.719740\n",
       "4     0.782946\n",
       "5     0.859876\n",
       "6     0.896819\n",
       "7     0.969951\n",
       "8     1.053871\n",
       "9     0.964488\n",
       "10    1.094658\n",
       "11    1.333982\n",
       "dtype: float64"
      ]
     },
     "execution_count": 77,
     "metadata": {},
     "output_type": "execute_result"
    }
   ],
   "source": [
    "roi_output.cumsum(axis=1).mean(axis=0)"
   ]
  },
  {
   "cell_type": "markdown",
   "metadata": {},
   "source": [
    "В основном ни одна когорта не окупает инвестиций в собственное привлечение. В среднем, период окупаемости составляет около 10 месяцев (практически год). То есть, даже в дальнейшей перспективе, затраты на маркетинг не окупают себя. Лишь рекламный источник №1 и №4 показывают положительную тенденцию, возможно использовать лучше именно его. Сопоставляя все полученные данные и финансирование рекламных вложений, удельные затраты и выручку, мы приходим к выводу, что рекламный источник № 3 не является прибыльным. Это ошибочная рекламная стратегия, ее необходимо пересмотреть. "
   ]
  },
  {
   "cell_type": "code",
   "execution_count": 78,
   "metadata": {},
   "outputs": [],
   "source": [
    "visits1 = pd.read_csv('/datasets/visits_log.csv')\n",
    "orders1 = pd.read_csv('/datasets/orders_log.csv')\n",
    "costs1 = pd.read_csv('/datasets/costs.csv')\n",
    "\n",
    "\n"
   ]
  },
  {
   "cell_type": "code",
   "execution_count": 79,
   "metadata": {},
   "outputs": [],
   "source": [
    "# Будем копировать определенную часть действий сделанных ранее\n",
    "visits1.columns = ['device', 'end_ts', 'source_id', 'start_ts', 'uid'] \n",
    "orders1.columns = ['buy_ts', 'revenue', 'uid'] \n",
    "costs1.columns = ['source_id', 'date', 'costs']"
   ]
  },
  {
   "cell_type": "code",
   "execution_count": 80,
   "metadata": {},
   "outputs": [],
   "source": [
    "\n",
    "# Переводим в формат даты\n",
    "visits1['end_ts'] = pd.to_datetime(\n",
    "    visits1['end_ts'], \n",
    "    format='%Y-%m-%d %H:%M'\n",
    ")\n",
    "visits1['start_ts'] = pd.to_datetime(\n",
    "    visits1['start_ts'],\n",
    "    format='%Y-%m-%d %H:%M' \n",
    ")\n",
    "orders1['buy_ts'] = pd.to_datetime(\n",
    "    orders1['buy_ts'],\n",
    "    format='%Y-%m-%d %H:%M:%S'\n",
    ")\n",
    "costs1['date'] = pd.to_datetime(\n",
    "    costs1['date'],\n",
    "    format='%Y-%m-%d')"
   ]
  },
  {
   "cell_type": "code",
   "execution_count": 81,
   "metadata": {},
   "outputs": [],
   "source": [
    "visits_lol = visits1.query(\"device == 'touch'\")\n",
    "orders2 = orders1.merge(visits_lol, on='uid')"
   ]
  },
  {
   "cell_type": "code",
   "execution_count": 82,
   "metadata": {},
   "outputs": [],
   "source": [
    "first_order_date = orders2.groupby('uid')['buy_ts'].min().reset_index() # Группируем по первому заказу\n",
    "first_order_date.columns = ['uid','first_order_date']\n",
    "orders_check = pd.merge(orders2,first_order_date, on='uid')\n",
    "\n"
   ]
  },
  {
   "cell_type": "code",
   "execution_count": 83,
   "metadata": {},
   "outputs": [
    {
     "data": {
      "image/png": "[encoded data removed]",
      "text/plain": [
       "<Figure size 1080x504 with 2 Axes>"
      ]
     },
     "metadata": {},
     "output_type": "display_data"
    }
   ],
   "source": [
    "# Рассчитываем средний чек и сразу проводим когортный анализ\n",
    "orders_check['first_order_month'] = orders_check['first_order_date'].astype('datetime64[M]')\n",
    "orders_check['order_month'] = orders_check['buy_ts'].astype('datetime64[M]')\n",
    "orders_group_by_cohorts = orders_check.groupby(\n",
    "    ['first_order_month','order_month']).agg({'uid':'nunique','revenue':'sum'}).reset_index()\n",
    "orders_group_by_cohorts['revenue_per_user'] = orders_group_by_cohorts['revenue'] / orders_group_by_cohorts['uid']\n",
    "orders_group_by_cohorts['cohort_lifetime'] = (\n",
    "    (orders_group_by_cohorts['order_month'] - \n",
    "    orders_group_by_cohorts['first_order_month'])/np.timedelta64(1,'M')\n",
    ").round().astype('int')\n",
    "orders_group_by_cohorts['first_order_month'] = orders_group_by_cohorts['first_order_month'].dt.strftime('%Y-%m')\n",
    "orders_pivot_revenue = orders_group_by_cohorts.pivot_table(\n",
    "    index = 'first_order_month',\n",
    "    columns = 'cohort_lifetime',\n",
    "    values = 'revenue_per_user',\n",
    "    aggfunc = 'mean'\n",
    ")\n",
    "plt.figure(figsize=(15,7))\n",
    "plt.title('Средний чек')\n",
    "sns.heatmap(\n",
    "    orders_pivot_revenue,\n",
    "    annot = True,\n",
    "    fmt='.1f',\n",
    "    linewidths = 1,\n",
    "    linecolor = 'silver'\n",
    ")\n",
    "plt.xlabel('Возраст')\n",
    "plt.ylabel('Когорта');"
   ]
  },
  {
   "cell_type": "markdown",
   "metadata": {},
   "source": [
    "В целом средний чек по мобильному приложению гораздо выше чем по декстопной версии. Выделяется самая первая майская когорта 17 года. Также, хорошо себя показывает сентябрьская когорта 17го и бурный рост по продажам в марте 18го. Есть небольшая просадка по декабрю.\n",
    "\n",
    "Таким образом, мобилка хорошо отработала в самом начале, осенью, и в первый месяц весны. При этом, мы помним, что общие данные по двум устройствам показывают просадку в весеннее время, видимо мобильное приложение спасает продажи в данный период. А в декабрьский месяц лучше работает декстопная версия.\n",
    "\n",
    "Также, мы видим отдельные высокие значения по молодым когортам. В некоторых случаях они сменяют спад. Возможно, в данных случаях срабатывает реклама.\n",
    "\n",
    "Отдельный положительный выборос в марте, возможно связан с популярным мероприятием."
   ]
  },
  {
   "cell_type": "code",
   "execution_count": 84,
   "metadata": {},
   "outputs": [],
   "source": [
    "orders2['sales_month'] = pd.to_datetime(orders2['buy_ts'].dt.date) - pd.to_timedelta(orders2['buy_ts'].dt.dayofweek, unit='d')\n",
    "orders2['sales_month'] = orders2['sales_month'].dt.to_period('M')\n"
   ]
  },
  {
   "cell_type": "code",
   "execution_count": 85,
   "metadata": {},
   "outputs": [
    {
     "data": {
      "text/html": [
       "<div>\n",
       "<style scoped>\n",
       "    .dataframe tbody tr th:only-of-type {\n",
       "        vertical-align: middle;\n",
       "    }\n",
       "\n",
       "    .dataframe tbody tr th {\n",
       "        vertical-align: top;\n",
       "    }\n",
       "\n",
       "    .dataframe thead th {\n",
       "        text-align: right;\n",
       "    }\n",
       "</style>\n",
       "<table border=\"1\" class=\"dataframe\">\n",
       "  <thead>\n",
       "    <tr style=\"text-align: right;\">\n",
       "      <th></th>\n",
       "      <th>sales_month</th>\n",
       "      <th>sum</th>\n",
       "      <th>amount</th>\n",
       "      <th>mean_check</th>\n",
       "    </tr>\n",
       "  </thead>\n",
       "  <tbody>\n",
       "    <tr>\n",
       "      <td>0</td>\n",
       "      <td>568</td>\n",
       "      <td>577</td>\n",
       "      <td>251</td>\n",
       "      <td>2</td>\n",
       "    </tr>\n",
       "    <tr>\n",
       "      <td>1</td>\n",
       "      <td>569</td>\n",
       "      <td>11162</td>\n",
       "      <td>1349</td>\n",
       "      <td>8</td>\n",
       "    </tr>\n",
       "    <tr>\n",
       "      <td>2</td>\n",
       "      <td>570</td>\n",
       "      <td>14805</td>\n",
       "      <td>1964</td>\n",
       "      <td>7</td>\n",
       "    </tr>\n",
       "    <tr>\n",
       "      <td>3</td>\n",
       "      <td>571</td>\n",
       "      <td>8293</td>\n",
       "      <td>1307</td>\n",
       "      <td>6</td>\n",
       "    </tr>\n",
       "    <tr>\n",
       "      <td>4</td>\n",
       "      <td>572</td>\n",
       "      <td>29367</td>\n",
       "      <td>2336</td>\n",
       "      <td>12</td>\n",
       "    </tr>\n",
       "    <tr>\n",
       "      <td>5</td>\n",
       "      <td>573</td>\n",
       "      <td>74660</td>\n",
       "      <td>6541</td>\n",
       "      <td>11</td>\n",
       "    </tr>\n",
       "    <tr>\n",
       "      <td>6</td>\n",
       "      <td>574</td>\n",
       "      <td>59906</td>\n",
       "      <td>6783</td>\n",
       "      <td>8</td>\n",
       "    </tr>\n",
       "    <tr>\n",
       "      <td>7</td>\n",
       "      <td>575</td>\n",
       "      <td>29381</td>\n",
       "      <td>4969</td>\n",
       "      <td>5</td>\n",
       "    </tr>\n",
       "    <tr>\n",
       "      <td>8</td>\n",
       "      <td>576</td>\n",
       "      <td>26380</td>\n",
       "      <td>4695</td>\n",
       "      <td>5</td>\n",
       "    </tr>\n",
       "    <tr>\n",
       "      <td>9</td>\n",
       "      <td>577</td>\n",
       "      <td>31382</td>\n",
       "      <td>4163</td>\n",
       "      <td>7</td>\n",
       "    </tr>\n",
       "    <tr>\n",
       "      <td>10</td>\n",
       "      <td>578</td>\n",
       "      <td>112553</td>\n",
       "      <td>6373</td>\n",
       "      <td>17</td>\n",
       "    </tr>\n",
       "    <tr>\n",
       "      <td>11</td>\n",
       "      <td>579</td>\n",
       "      <td>82591</td>\n",
       "      <td>3949</td>\n",
       "      <td>20</td>\n",
       "    </tr>\n",
       "    <tr>\n",
       "      <td>12</td>\n",
       "      <td>580</td>\n",
       "      <td>33251</td>\n",
       "      <td>3935</td>\n",
       "      <td>8</td>\n",
       "    </tr>\n",
       "  </tbody>\n",
       "</table>\n",
       "</div>"
      ],
      "text/plain": [
       "    sales_month     sum  amount  mean_check\n",
       "0           568     577     251           2\n",
       "1           569   11162    1349           8\n",
       "2           570   14805    1964           7\n",
       "3           571    8293    1307           6\n",
       "4           572   29367    2336          12\n",
       "5           573   74660    6541          11\n",
       "6           574   59906    6783           8\n",
       "7           575   29381    4969           5\n",
       "8           576   26380    4695           5\n",
       "9           577   31382    4163           7\n",
       "10          578  112553    6373          17\n",
       "11          579   82591    3949          20\n",
       "12          580   33251    3935           8"
      ]
     },
     "execution_count": 85,
     "metadata": {},
     "output_type": "execute_result"
    }
   ],
   "source": [
    "mean_check_lol = orders2.pivot_table(index='sales_month',\n",
    "                                values = 'revenue',\n",
    "                                aggfunc = ['sum', 'count']).reset_index()\n",
    "\n",
    "mean_check_lol.columns = ['sales_month', 'sum', 'amount']\n",
    "mean_check_lol['mean_check'] = mean_check_lol['sum'] / mean_check_lol['amount']\n",
    "mean_check_lol.astype('int')"
   ]
  },
  {
   "cell_type": "code",
   "execution_count": 86,
   "metadata": {},
   "outputs": [
    {
     "data": {
      "image/png": "[encoded data removed]",
      "text/plain": [
       "<Figure size 432x288 with 1 Axes>"
      ]
     },
     "metadata": {},
     "output_type": "display_data"
    }
   ],
   "source": [
    "(mean_check_lol.plot(x='sales_month', y='mean_check', color='red', grid=True, title='Динамика продаж')\n",
    "           .set(xlabel='Месяц', ylabel='Средний чек')\n",
    "\n",
    ")\n",
    "plt.show()"
   ]
  },
  {
   "cell_type": "markdown",
   "metadata": {},
   "source": [
    "Стоимость привлечения одного покупателя из каждого рекламного источника\n",
    "\n"
   ]
  },
  {
   "cell_type": "code",
   "execution_count": 87,
   "metadata": {},
   "outputs": [
    {
     "data": {
      "text/html": [
       "<div>\n",
       "<style scoped>\n",
       "    .dataframe tbody tr th:only-of-type {\n",
       "        vertical-align: middle;\n",
       "    }\n",
       "\n",
       "    .dataframe tbody tr th {\n",
       "        vertical-align: top;\n",
       "    }\n",
       "\n",
       "    .dataframe thead th {\n",
       "        text-align: right;\n",
       "    }\n",
       "</style>\n",
       "<table border=\"1\" class=\"dataframe\">\n",
       "  <thead>\n",
       "    <tr style=\"text-align: right;\">\n",
       "      <th></th>\n",
       "      <th>Номер рекламного размещения</th>\n",
       "      <th>Кол-во покупателей</th>\n",
       "      <th>Выручка</th>\n",
       "      <th>Затраты</th>\n",
       "      <th>Уд.затраты</th>\n",
       "      <th>Уд.выручка</th>\n",
       "    </tr>\n",
       "  </thead>\n",
       "  <tbody>\n",
       "    <tr>\n",
       "      <td>0</td>\n",
       "      <td>1</td>\n",
       "      <td>1778</td>\n",
       "      <td>21297.24</td>\n",
       "      <td>20833.27</td>\n",
       "      <td>11.72</td>\n",
       "      <td>11.98</td>\n",
       "    </tr>\n",
       "    <tr>\n",
       "      <td>1</td>\n",
       "      <td>2</td>\n",
       "      <td>1981</td>\n",
       "      <td>22564.12</td>\n",
       "      <td>42806.04</td>\n",
       "      <td>21.61</td>\n",
       "      <td>11.39</td>\n",
       "    </tr>\n",
       "    <tr>\n",
       "      <td>2</td>\n",
       "      <td>3</td>\n",
       "      <td>2714</td>\n",
       "      <td>19921.37</td>\n",
       "      <td>141321.63</td>\n",
       "      <td>52.07</td>\n",
       "      <td>7.34</td>\n",
       "    </tr>\n",
       "    <tr>\n",
       "      <td>3</td>\n",
       "      <td>4</td>\n",
       "      <td>3654</td>\n",
       "      <td>28249.98</td>\n",
       "      <td>61073.60</td>\n",
       "      <td>16.71</td>\n",
       "      <td>7.73</td>\n",
       "    </tr>\n",
       "    <tr>\n",
       "      <td>4</td>\n",
       "      <td>5</td>\n",
       "      <td>1877</td>\n",
       "      <td>13149.67</td>\n",
       "      <td>51757.10</td>\n",
       "      <td>27.57</td>\n",
       "      <td>7.01</td>\n",
       "    </tr>\n",
       "    <tr>\n",
       "      <td>5</td>\n",
       "      <td>9</td>\n",
       "      <td>633</td>\n",
       "      <td>3471.04</td>\n",
       "      <td>5517.49</td>\n",
       "      <td>8.72</td>\n",
       "      <td>5.48</td>\n",
       "    </tr>\n",
       "    <tr>\n",
       "      <td>6</td>\n",
       "      <td>10</td>\n",
       "      <td>397</td>\n",
       "      <td>1832.34</td>\n",
       "      <td>5822.49</td>\n",
       "      <td>14.67</td>\n",
       "      <td>4.62</td>\n",
       "    </tr>\n",
       "  </tbody>\n",
       "</table>\n",
       "</div>"
      ],
      "text/plain": [
       "   Номер рекламного размещения  Кол-во покупателей   Выручка    Затраты  \\\n",
       "0                            1                1778  21297.24   20833.27   \n",
       "1                            2                1981  22564.12   42806.04   \n",
       "2                            3                2714  19921.37  141321.63   \n",
       "3                            4                3654  28249.98   61073.60   \n",
       "4                            5                1877  13149.67   51757.10   \n",
       "5                            9                 633   3471.04    5517.49   \n",
       "6                           10                 397   1832.34    5822.49   \n",
       "\n",
       "   Уд.затраты  Уд.выручка  \n",
       "0       11.72       11.98  \n",
       "1       21.61       11.39  \n",
       "2       52.07        7.34  \n",
       "3       16.71        7.73  \n",
       "4       27.57        7.01  \n",
       "5        8.72        5.48  \n",
       "6       14.67        4.62  "
      ]
     },
     "execution_count": 87,
     "metadata": {},
     "output_type": "execute_result"
    }
   ],
   "source": [
    "# Соотносим посетителя рекламному источнику из условия. Предположительно самый ранний переход приводит к покупке\n",
    "clients_group_idi = visits_lol.groupby(['uid', 'source_id']).agg({'start_ts':'min'}).reset_index()\n",
    "clients_sources = clients_group_idi[['uid', 'source_id']]\n",
    "\n",
    "# Сумма потраченных средств на каждый рекламный источник\n",
    "cost_sourcess = costs1.groupby('source_id').agg({'costs':'sum'}).reset_index()\n",
    "\n",
    "# Собираем все в один сет по соответвию ракламного источника заказу\n",
    "orders_sourcess = pd.merge(clients_sources, orders1, on='uid')\n",
    "\n",
    "# Группируем по рекламному источнику, подсчитываем число уникальных покупателей и суммарную выручку из 1 источника\n",
    "orders_group_sourcess = orders_sourcess.groupby('source_id').agg({'uid':'nunique', 'revenue':'sum'}).reset_index()\n",
    "orders_group_sourcess.columns = ['source_id', 'number_buyers', 'sum_revenue']\n",
    "\n",
    "report_costs = pd.merge(orders_group_sourcess, cost_sourcess, on='source_id')\n",
    "\n",
    "report_costs['per_user_cost'] = report_costs['costs'] / report_costs['number_buyers']\n",
    "\n",
    "report_costs['per_user_revenue'] = report_costs['sum_revenue'] / report_costs['number_buyers']\n",
    "report_costs['per_user_cost'] = report_costs['per_user_cost'].round(2)\n",
    "report_costs['per_user_revenue'] = report_costs['per_user_revenue'].round(2)\n",
    "report_costs.columns = ['Номер рекламного размещения', 'Кол-во покупателей', 'Выручка', 'Затраты', 'Уд.затраты', 'Уд.выручка']\n",
    "report_costs"
   ]
  },
  {
   "cell_type": "code",
   "execution_count": 88,
   "metadata": {},
   "outputs": [],
   "source": [
    "visits_desktop = visits1.query(\"device == 'desktop'\")\n",
    "orders_desktop = orders1.merge(visits_desktop, on='uid')\n"
   ]
  },
  {
   "cell_type": "code",
   "execution_count": 89,
   "metadata": {},
   "outputs": [],
   "source": [
    "orders_desktop['buy_month'] = pd.to_datetime(orders_desktop['buy_ts'].dt.date) - pd.to_timedelta(orders_desktop['buy_ts'].dt.dayofweek, unit='d')\n",
    "orders_desktop['buy_month'] = orders_desktop['buy_month'].dt.to_period('M')"
   ]
  },
  {
   "cell_type": "code",
   "execution_count": 90,
   "metadata": {},
   "outputs": [
    {
     "data": {
      "text/html": [
       "<div>\n",
       "<style scoped>\n",
       "    .dataframe tbody tr th:only-of-type {\n",
       "        vertical-align: middle;\n",
       "    }\n",
       "\n",
       "    .dataframe tbody tr th {\n",
       "        vertical-align: top;\n",
       "    }\n",
       "\n",
       "    .dataframe thead th {\n",
       "        text-align: right;\n",
       "    }\n",
       "</style>\n",
       "<table border=\"1\" class=\"dataframe\">\n",
       "  <thead>\n",
       "    <tr style=\"text-align: right;\">\n",
       "      <th></th>\n",
       "      <th>buy_month</th>\n",
       "      <th>sum</th>\n",
       "      <th>amount</th>\n",
       "      <th>mean_check</th>\n",
       "    </tr>\n",
       "  </thead>\n",
       "  <tbody>\n",
       "    <tr>\n",
       "      <td>0</td>\n",
       "      <td>568</td>\n",
       "      <td>18733</td>\n",
       "      <td>3378</td>\n",
       "      <td>5</td>\n",
       "    </tr>\n",
       "    <tr>\n",
       "      <td>1</td>\n",
       "      <td>569</td>\n",
       "      <td>125321</td>\n",
       "      <td>22329</td>\n",
       "      <td>5</td>\n",
       "    </tr>\n",
       "    <tr>\n",
       "      <td>2</td>\n",
       "      <td>570</td>\n",
       "      <td>253793</td>\n",
       "      <td>37575</td>\n",
       "      <td>6</td>\n",
       "    </tr>\n",
       "    <tr>\n",
       "      <td>3</td>\n",
       "      <td>571</td>\n",
       "      <td>210899</td>\n",
       "      <td>32013</td>\n",
       "      <td>6</td>\n",
       "    </tr>\n",
       "    <tr>\n",
       "      <td>4</td>\n",
       "      <td>572</td>\n",
       "      <td>682141</td>\n",
       "      <td>59461</td>\n",
       "      <td>11</td>\n",
       "    </tr>\n",
       "    <tr>\n",
       "      <td>5</td>\n",
       "      <td>573</td>\n",
       "      <td>650015</td>\n",
       "      <td>73300</td>\n",
       "      <td>8</td>\n",
       "    </tr>\n",
       "    <tr>\n",
       "      <td>6</td>\n",
       "      <td>574</td>\n",
       "      <td>484648</td>\n",
       "      <td>63939</td>\n",
       "      <td>7</td>\n",
       "    </tr>\n",
       "    <tr>\n",
       "      <td>7</td>\n",
       "      <td>575</td>\n",
       "      <td>1329014</td>\n",
       "      <td>86776</td>\n",
       "      <td>15</td>\n",
       "    </tr>\n",
       "    <tr>\n",
       "      <td>8</td>\n",
       "      <td>576</td>\n",
       "      <td>603317</td>\n",
       "      <td>76757</td>\n",
       "      <td>7</td>\n",
       "    </tr>\n",
       "    <tr>\n",
       "      <td>9</td>\n",
       "      <td>577</td>\n",
       "      <td>580775</td>\n",
       "      <td>86049</td>\n",
       "      <td>6</td>\n",
       "    </tr>\n",
       "    <tr>\n",
       "      <td>10</td>\n",
       "      <td>578</td>\n",
       "      <td>632748</td>\n",
       "      <td>63005</td>\n",
       "      <td>10</td>\n",
       "    </tr>\n",
       "    <tr>\n",
       "      <td>11</td>\n",
       "      <td>579</td>\n",
       "      <td>552928</td>\n",
       "      <td>55626</td>\n",
       "      <td>9</td>\n",
       "    </tr>\n",
       "    <tr>\n",
       "      <td>12</td>\n",
       "      <td>580</td>\n",
       "      <td>323554</td>\n",
       "      <td>52984</td>\n",
       "      <td>6</td>\n",
       "    </tr>\n",
       "  </tbody>\n",
       "</table>\n",
       "</div>"
      ],
      "text/plain": [
       "    buy_month      sum  amount  mean_check\n",
       "0         568    18733    3378           5\n",
       "1         569   125321   22329           5\n",
       "2         570   253793   37575           6\n",
       "3         571   210899   32013           6\n",
       "4         572   682141   59461          11\n",
       "5         573   650015   73300           8\n",
       "6         574   484648   63939           7\n",
       "7         575  1329014   86776          15\n",
       "8         576   603317   76757           7\n",
       "9         577   580775   86049           6\n",
       "10        578   632748   63005          10\n",
       "11        579   552928   55626           9\n",
       "12        580   323554   52984           6"
      ]
     },
     "execution_count": 90,
     "metadata": {},
     "output_type": "execute_result"
    }
   ],
   "source": [
    "mean_check_desktop = orders_desktop.pivot_table(index='buy_month',\n",
    "                                values = 'revenue',\n",
    "                                aggfunc = ['sum', 'count']).reset_index()\n",
    "\n",
    "mean_check_desktop.columns = ['buy_month', 'sum', 'amount']\n",
    "mean_check_desktop['mean_check'] = mean_check_desktop['sum'] / mean_check_desktop['amount']\n",
    "mean_check_desktop.astype('int')"
   ]
  },
  {
   "cell_type": "code",
   "execution_count": 91,
   "metadata": {},
   "outputs": [
    {
     "data": {
      "image/png": "[encoded data removed]",
      "text/plain": [
       "<Figure size 1224x360 with 2 Axes>"
      ]
     },
     "metadata": {},
     "output_type": "display_data"
    }
   ],
   "source": [
    "plt.subplots(figsize=(17,5))\n",
    "plot = (mean_check_desktop.plot(x='buy_month', y='mean_check', \n",
    "                                color='red', grid=True, \n",
    "                                title='Динамика продаж по декстопной версии', ax = plt.subplot(1,2,1))\n",
    "           .set(xlabel='Месяц', ylabel='Средний чек')\n",
    "\n",
    ")\n",
    "plot = (mean_check_lol.plot(x='sales_month', y='mean_check', \n",
    "                            color='blue', grid=True, title='Динамика продаж по мобильному приложению',\n",
    "                           ax = plt.subplot(1,2,2))\n",
    "           .set(xlabel='Месяц', ylabel='Средний чек')\n",
    "\n",
    ") \n",
    "plt.show();"
   ]
  },
  {
   "cell_type": "code",
   "execution_count": 92,
   "metadata": {},
   "outputs": [
    {
     "name": "stdout",
     "output_type": "stream",
     "text": [
      "Средний чек по декстопу за данный период: 108.43\n",
      "Средний чек по мобильному приложению за данный период: 123.37\n"
     ]
    }
   ],
   "source": [
    "print('Средний чек по декстопу за данный период: {:.2f}'.format(mean_check_desktop['mean_check'].sum()))\n",
    "print('Средний чек по мобильному приложению за данный период: {:.2f}'.format(mean_check_lol['mean_check'].sum()))"
   ]
  },
  {
   "cell_type": "markdown",
   "metadata": {},
   "source": [
    "В сумме по месяцам средний чек мобилки выше, чем у декстопной версии. Но все же работают они взаимодополняюще. Там, где проседают продажи по декстопу прибыль показывает мобилка, и наоборот."
   ]
  },
  {
   "cell_type": "markdown",
   "metadata": {},
   "source": [
    "### Вывод\n",
    "Похоже в случае мобильного приложения реклама слабо срабатывает. Пользователи с рекламы идут на декстопную версию, узнают про мероприятие, а покупки совершают позже и с мобильного приложения. Видимо активно используют кэшбек приложения.\n",
    "\n",
    "Помимо этого, приложение спасает продажи в периоды просадок по декстопной версии."
   ]
  },
  {
   "cell_type": "markdown",
   "metadata": {},
   "source": [
    "## Финальный вывод\n",
    "**Тезисно:**\n",
    "\n",
    "- Платформа «Яндекс.Афиши» может быть успешна и имеет потенциал для роста. Но на данный момент, обладает **крайне мылым количеством клиентов** и это повторяется системно за весь рассмотренный период — 2017-2018 год. \n",
    "\n",
    "\n",
    "\n",
    "\n",
    "- Пользователи чаще используют **компьютер/ноутбук** во время перехода на сайт. *Необходимо обратить внимание на мобильную версию сайта, возможно, проверить приложение на корректную работу.*\n",
    "\n",
    "\n",
    "\n",
    "- За рассматриваемый период среднее количество уникальных пользователей составляет **907 человек за день.** Недельное посещение составляет 5 716 человек, а месячное — около 23 тыс. человек. **При этом регулярность использования «Яндекс.Афиши» довольно низкая и составляет 15% в неделю, и 3% в месяц. Это означает, что пользователи редко обращаются к приложению/сайту.** *Необходимо обратить внимание на конкурирующие агрегаторы и приложения-афиши, изучить их специфику.*\n",
    "\n",
    "\n",
    "\n",
    "- Самая частая продолжительность сессии составляет примерно **4 минуты.** А самое встречаемое значение в данной выборке равно **1 минуте.** **То есть, короткие временные сессии значительно преобладают.** Редкие сессии длящиеся более 10 минут составляют около 30% от общего числа. **Это говорит нам о том, что на сайте «Яндекс.Афиши» есть существенные недоработки или тех. ошибки отталкивающие пользователей.** *Возможно, неудобный интерфейс, неудобные кнопки переходов, большой выбор контента, который путает пользователя. Необходимо давать готовые решения и сокращать действия пользователя, например учитывая его предыдущие выборы мероприятий и даты (праздничный день, день рождения и т.д.), подавать нативную рекламу по схожим условиям. Давать сразу готовый выбор и вести на оплату. На данный момент, короткое время использования сервиса за сессию говорит нам, что пользователь узнает о предстоящем мероприятии на сторонних ресурсах, и переходит лишь для разовый оплаты.* \n",
    "\n",
    "\n",
    "\n",
    "- Коэффициент удержания пользователей — **низкий, также наблюдается тенденция падения показателей с течением времени.** Стоит отметить, что до октября-декабря 2017 года наблюдается рост в возращении пользователей, но после этой даты идет стремительное снижение. Таким образом, отмечается быстроее сокращение коэффициента удержания у более молодых когорт. *Возможно, это связано наступлением праздников, появлением популярных мероприятий, а также, акциями и распродажами на сайте. Необходимо повышать лояльность пользователей. Например, делать более понятный контент, особенно в описании предстоящих мероприятий. Сейчас, читая описание театральных постановок, преобладают возвышенные и абстрактные слова, которые не дают понимания события. Хороший редакционный состав, думаю здесь поможет. Также, проводить различные конкурсы/розыгрыши, развлекательные тесты, письменную рассылку и пр. Возможно, нужно ввести систему кэшбека и подардков.*\n",
    "\n",
    "\n",
    "\n",
    "- В целом, большая часть людей совершает первый заказ в течение **4-8 минут.** В основном, пользователи во время первого посещения совершают заказ в небольшой временой промежуток — не более 10-15 минут. С мая 2017 года средний чек имеет тенденцию к росту. Также, **максимальный средний чек наблюдается в декабре 2017, с последующей просадкой в январе 2018 года.** Предполагаем, что это связано с новогодними праздниками и акционными предложениями. Количество покупок за данный период соответвует результатам о коэффициенте удержания пользователей (Retantion). Выделяются отдельные значения по месяцам. Так, в мае 2017 (первый месяц) количество покупок держится на одном уровне достаточно длительное время. Наиболее покупающими оказались когорты начала зимы (ноябрь-декабрь) 2017 года. Это связано с проведением массовых праздничных мероприятий, акционными прлеожениями и возможно, с сезонностью. В целом, между когортами наблюдается увеличение покупок, а затем планомерное снижение.**Таким образом, мы видим как с каждым разом уменьшается количество повторных заказов и уменьшается возвращение пользователей.**\n",
    "\n",
    "\n",
    "- Показатель LTV снижается в когортах в соответсвии с возрастом. Это связано с тем, что активных пользователей со временем становится меньше. Наибольшую прибыль LTV принесла сентябрьская когорта в 2017 году. Также, неплохой показатель у декабрьской когорты 2017 года. Наименьшую прибыль LTV показали январская и февральская когорты 2018 года. *Таким образом, скорее всего многие пользователи покупали билеты на мероприятия заранее, осенью. Потом, докупали их зимой, на новые мероприятия и используя акционные предложения. После, продажи значительно проседают. В целом, показатель LTV довольно низкий. Нужно дополнительно прогревать данных пользователей на покупку в первые пять дней после захода на сайт, если не совершил покупку. Например, доп. рассылка, pop-up при повторном заходе, забытая корзина (отметка, что вы смотрели такие-то мероприятия, а билеты сгорают). Также, прогревать пользователей в месяци просадок, то есть готовить к покупкам.* \n",
    "\n",
    "\n",
    "\n",
    "- Затраты на рекламу имеют явную сезонную стратегию — повышаются с осени, достигая максимума к зимнему периоду праздников. Далее идет снижение с весны по летний период. Большая часть вложений приходится на рекламное размещение **№ 3**, после чего равные доли распределяются по № 4, №5, и № 2. На остальные источники уходит остаток маркетингового бюджета. Несмотря на то, что большая часть вложений приходится на **рекламное размещение № 3**, на данный момент оно **убыточное.** При этом, даже большое количество покупателей (13 тыс.) пришедших с данного рекламного источника **не покрывает сумму затрат.** Остальные рекламные источники отлично отработали. Некоторые из них, например размещение № 1, окупились сполна. Помимо этого, стоит отметить рекламные источники № 9 и 10, те, на которые тратится остаток рекламного бюджета. Они оказались довольно прибыльными. Лучше всего сработал рекламный источник № 4. Он привел больше всего покупателей и окупился. *Необходимо пересмотреть распределение рекламного бюджета.*\n",
    "\n",
    "\n",
    "- Суммарные затраты на маркетинг за данный период составляют **329 тыс. рублей.** В основном ни одна когорта не окупает инвестиций в собственное привлечение. В среднем, период окупаемости составляет около 10 месяцев (практически год). То есть, даже в дальнейшей перспективе, затраты на маркетинг **не окупают себя.** *Это ошибочная рекламная стратегия, ее необходимо пересмотреть. Лишь рекламный источник №1 и №4 показывают положительную тенденцию, возможно использовать лучше именно их.*"
   ]
  },
  {
   "cell_type": "markdown",
   "metadata": {},
   "source": [
    "\n",
    "\n",
    "\n",
    "\n",
    "\n",
    "\n",
    "\n"
   ]
  },
  {
   "cell_type": "code",
   "execution_count": null,
   "metadata": {},
   "outputs": [],
   "source": []
  }
 ],
 "metadata": {
  "kernelspec": {
   "display_name": "Python 3",
   "language": "python",
   "name": "python3"
  },
  "language_info": {
   "codemirror_mode": {
    "name": "ipython",
    "version": 3
   },
   "file_extension": ".py",
   "mimetype": "text/x-python",
   "name": "python",
   "nbconvert_exporter": "python",
   "pygments_lexer": "ipython3",
   "version": "3.7.4"
  }
 },
 "nbformat": 4,
 "nbformat_minor": 2
}
