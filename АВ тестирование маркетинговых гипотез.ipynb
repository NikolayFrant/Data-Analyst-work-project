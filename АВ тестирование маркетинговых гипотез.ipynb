{
 "cells": [
  {
   "cell_type": "markdown",
   "metadata": {},
   "source": [
    "# A/B-тестирование"
   ]
  },
  {
   "cell_type": "markdown",
   "metadata": {},
   "source": [
    "Отдел маркетинга подготовил список гипотез для увеличения выручки. Необходимо приоритизировать гипотезы, запустить А/В-тест и проанализировать результаты.\n",
    "\n",
    "\n"
   ]
  },
  {
   "cell_type": "markdown",
   "metadata": {},
   "source": [
    "### Описание данных"
   ]
  },
  {
   "cell_type": "markdown",
   "metadata": {},
   "source": [
    "- Hypothesis — краткое описание гипотезы;\n",
    "- Reach — охват пользователей по 10-балльной шкале;\n",
    "- Impact — влияние на пользователей по 10-балльной шкале;\n",
    "- Confidence — уверенность в гипотезе по 10-балльной шкале;\n",
    "- Efforts — затраты ресурсов на проверку гипотезы по 10-балльной шкале. Чем больше значение Efforts, тем дороже проверка гипотезы.\n"
   ]
  },
  {
   "cell_type": "markdown",
   "metadata": {},
   "source": [
    "- transactionId — идентификатор заказа;\n",
    "- visitorId — идентификатор пользователя, совершившего заказ;\n",
    "- date — дата, когда был совершён заказ;\n",
    "- revenue — выручка заказа;\n",
    "- group — группа A/B-теста, в которую попал заказ.\n",
    "\n",
    "\n",
    "\n",
    "- date — дата;\n",
    "- group — группа A/B-теста;\n",
    "- visitors — количество пользователей в указанную дату в указанной группе A/B-теста\n"
   ]
  },
  {
   "cell_type": "markdown",
   "metadata": {},
   "source": [
    "## Оглавление"
   ]
  },
  {
   "cell_type": "markdown",
   "metadata": {},
   "source": [
    "#### Глава 1. Загрузка библиотек и данных\n",
    "\n",
    "- Импорт библиотек\n",
    "- Загрузка данных и изучение общей информации\n",
    "\n",
    "#### Глава 2. Приоритезация гипотез\n",
    "\n",
    "- Используем фреймворк ICE\n",
    "- Используем фреймворк RICE\n",
    "- Вывод\n",
    "\n",
    "#### Глава 3. Анализ A/B-теста\n",
    "\n",
    "- Строим график коммулятивной выручки по группам\n",
    "- Строим график кумулятивного среднего чека\n",
    "- Строим график относительного изменения кумулятивного среднего чека группы B к группе A\n",
    "- Строим график кумулятивной конверсии по группам\n",
    "- Строим график относительного изменения кумулятивной конверсии группы B к группе A\n",
    "- Строим точечный график количества заказов по пользователям\n",
    "- Рассчитываем 95-й и 99-й перцентили количества заказов на пользователя\n",
    "- Строим точечный график количества заказов по пользователям\n",
    "- Рассчитываем 95-й и 99-й перцентили количества заказов на пользователя\n",
    "- Строим точечный график стоимостей заказов\n",
    "- Рассчитываем 95-й и 99-й перцентили стоимости заказов\n",
    "- Рассчитываем статистическую значимость различий в конверсии между группами по «сырым» данным\n",
    "- Рассчитываем статистическую значимость различий в среднем чеке заказа между группами по «сырым» данным\n",
    "- Рассчитываем статистическую значимость различий в конверсии между группами по «очищенным» данным\n",
    "- Рассчитываем статистическую значимость различий в среднем чеке заказа между группами по «очищенным» данным\n",
    "\n",
    "- Вывод"
   ]
  },
  {
   "cell_type": "markdown",
   "metadata": {},
   "source": [
    "### Глава 1. Загрузка библиотек и данных\n"
   ]
  },
  {
   "cell_type": "markdown",
   "metadata": {},
   "source": [
    "## Импорт библиотек\n"
   ]
  },
  {
   "cell_type": "code",
   "execution_count": 1,
   "metadata": {},
   "outputs": [],
   "source": [
    "import pandas as pd\n",
    "import matplotlib.pyplot as plt\n",
    "import numpy as np\n",
    "import math \n",
    "from scipy import stats as st\n",
    "import datetime as dt"
   ]
  },
  {
   "cell_type": "markdown",
   "metadata": {},
   "source": [
    "### Загрузка данных и изучение общей информации\n"
   ]
  },
  {
   "cell_type": "code",
   "execution_count": 2,
   "metadata": {},
   "outputs": [
    {
     "data": {
      "text/html": [
       "<div>\n",
       "<style scoped>\n",
       "    .dataframe tbody tr th:only-of-type {\n",
       "        vertical-align: middle;\n",
       "    }\n",
       "\n",
       "    .dataframe tbody tr th {\n",
       "        vertical-align: top;\n",
       "    }\n",
       "\n",
       "    .dataframe thead th {\n",
       "        text-align: right;\n",
       "    }\n",
       "</style>\n",
       "<table border=\"1\" class=\"dataframe\">\n",
       "  <thead>\n",
       "    <tr style=\"text-align: right;\">\n",
       "      <th></th>\n",
       "      <th>Hypothesis</th>\n",
       "      <th>Reach</th>\n",
       "      <th>Impact</th>\n",
       "      <th>Confidence</th>\n",
       "      <th>Efforts</th>\n",
       "    </tr>\n",
       "  </thead>\n",
       "  <tbody>\n",
       "    <tr>\n",
       "      <td>0</td>\n",
       "      <td>Добавить два новых канала привлечения трафика, что позволит привлекать на 30% больше пользователей</td>\n",
       "      <td>3</td>\n",
       "      <td>10</td>\n",
       "      <td>8</td>\n",
       "      <td>6</td>\n",
       "    </tr>\n",
       "    <tr>\n",
       "      <td>1</td>\n",
       "      <td>Запустить собственную службу доставки, что сократит срок доставки заказов</td>\n",
       "      <td>2</td>\n",
       "      <td>5</td>\n",
       "      <td>4</td>\n",
       "      <td>10</td>\n",
       "    </tr>\n",
       "    <tr>\n",
       "      <td>2</td>\n",
       "      <td>Добавить блоки рекомендаций товаров на сайт интернет магазина, чтобы повысить конверсию и средний чек заказа</td>\n",
       "      <td>8</td>\n",
       "      <td>3</td>\n",
       "      <td>7</td>\n",
       "      <td>3</td>\n",
       "    </tr>\n",
       "    <tr>\n",
       "      <td>3</td>\n",
       "      <td>Изменить структура категорий, что увеличит конверсию, т.к. пользователи быстрее найдут нужный товар</td>\n",
       "      <td>8</td>\n",
       "      <td>3</td>\n",
       "      <td>3</td>\n",
       "      <td>8</td>\n",
       "    </tr>\n",
       "    <tr>\n",
       "      <td>4</td>\n",
       "      <td>Изменить цвет фона главной страницы, чтобы увеличить вовлеченность пользователей</td>\n",
       "      <td>3</td>\n",
       "      <td>1</td>\n",
       "      <td>1</td>\n",
       "      <td>1</td>\n",
       "    </tr>\n",
       "    <tr>\n",
       "      <td>5</td>\n",
       "      <td>Добавить страницу отзывов клиентов о магазине, что позволит увеличить количество заказов</td>\n",
       "      <td>3</td>\n",
       "      <td>2</td>\n",
       "      <td>2</td>\n",
       "      <td>3</td>\n",
       "    </tr>\n",
       "    <tr>\n",
       "      <td>6</td>\n",
       "      <td>Показать на главной странице баннеры с актуальными акциями и распродажами, чтобы увеличить конверсию</td>\n",
       "      <td>5</td>\n",
       "      <td>3</td>\n",
       "      <td>8</td>\n",
       "      <td>3</td>\n",
       "    </tr>\n",
       "    <tr>\n",
       "      <td>7</td>\n",
       "      <td>Добавить форму подписки на все основные страницы, чтобы собрать базу клиентов для email-рассылок</td>\n",
       "      <td>10</td>\n",
       "      <td>7</td>\n",
       "      <td>8</td>\n",
       "      <td>5</td>\n",
       "    </tr>\n",
       "    <tr>\n",
       "      <td>8</td>\n",
       "      <td>Запустить акцию, дающую скидку на товар в день рождения</td>\n",
       "      <td>1</td>\n",
       "      <td>9</td>\n",
       "      <td>9</td>\n",
       "      <td>5</td>\n",
       "    </tr>\n",
       "  </tbody>\n",
       "</table>\n",
       "</div>"
      ],
      "text/plain": [
       "                                                                                                     Hypothesis  \\\n",
       "0            Добавить два новых канала привлечения трафика, что позволит привлекать на 30% больше пользователей   \n",
       "1                                     Запустить собственную службу доставки, что сократит срок доставки заказов   \n",
       "2  Добавить блоки рекомендаций товаров на сайт интернет магазина, чтобы повысить конверсию и средний чек заказа   \n",
       "3           Изменить структура категорий, что увеличит конверсию, т.к. пользователи быстрее найдут нужный товар   \n",
       "4                              Изменить цвет фона главной страницы, чтобы увеличить вовлеченность пользователей   \n",
       "5                      Добавить страницу отзывов клиентов о магазине, что позволит увеличить количество заказов   \n",
       "6          Показать на главной странице баннеры с актуальными акциями и распродажами, чтобы увеличить конверсию   \n",
       "7              Добавить форму подписки на все основные страницы, чтобы собрать базу клиентов для email-рассылок   \n",
       "8                                                       Запустить акцию, дающую скидку на товар в день рождения   \n",
       "\n",
       "   Reach  Impact  Confidence  Efforts  \n",
       "0      3      10           8        6  \n",
       "1      2       5           4       10  \n",
       "2      8       3           7        3  \n",
       "3      8       3           3        8  \n",
       "4      3       1           1        1  \n",
       "5      3       2           2        3  \n",
       "6      5       3           8        3  \n",
       "7     10       7           8        5  \n",
       "8      1       9           9        5  "
      ]
     },
     "execution_count": 2,
     "metadata": {},
     "output_type": "execute_result"
    }
   ],
   "source": [
    "hypothesis = pd.read_csv('/datasets/hypothesis.csv')\n",
    "pd.options.display.max_colwidth = 150\n",
    "hypothesis"
   ]
  },
  {
   "cell_type": "code",
   "execution_count": 3,
   "metadata": {},
   "outputs": [
    {
     "data": {
      "text/html": [
       "<div>\n",
       "<style scoped>\n",
       "    .dataframe tbody tr th:only-of-type {\n",
       "        vertical-align: middle;\n",
       "    }\n",
       "\n",
       "    .dataframe tbody tr th {\n",
       "        vertical-align: top;\n",
       "    }\n",
       "\n",
       "    .dataframe thead th {\n",
       "        text-align: right;\n",
       "    }\n",
       "</style>\n",
       "<table border=\"1\" class=\"dataframe\">\n",
       "  <thead>\n",
       "    <tr style=\"text-align: right;\">\n",
       "      <th></th>\n",
       "      <th>date</th>\n",
       "      <th>group</th>\n",
       "      <th>visitors</th>\n",
       "    </tr>\n",
       "  </thead>\n",
       "  <tbody>\n",
       "    <tr>\n",
       "      <td>0</td>\n",
       "      <td>2019-08-01</td>\n",
       "      <td>A</td>\n",
       "      <td>719</td>\n",
       "    </tr>\n",
       "    <tr>\n",
       "      <td>1</td>\n",
       "      <td>2019-08-02</td>\n",
       "      <td>A</td>\n",
       "      <td>619</td>\n",
       "    </tr>\n",
       "    <tr>\n",
       "      <td>2</td>\n",
       "      <td>2019-08-03</td>\n",
       "      <td>A</td>\n",
       "      <td>507</td>\n",
       "    </tr>\n",
       "    <tr>\n",
       "      <td>3</td>\n",
       "      <td>2019-08-04</td>\n",
       "      <td>A</td>\n",
       "      <td>717</td>\n",
       "    </tr>\n",
       "    <tr>\n",
       "      <td>4</td>\n",
       "      <td>2019-08-05</td>\n",
       "      <td>A</td>\n",
       "      <td>756</td>\n",
       "    </tr>\n",
       "  </tbody>\n",
       "</table>\n",
       "</div>"
      ],
      "text/plain": [
       "         date group  visitors\n",
       "0  2019-08-01     A       719\n",
       "1  2019-08-02     A       619\n",
       "2  2019-08-03     A       507\n",
       "3  2019-08-04     A       717\n",
       "4  2019-08-05     A       756"
      ]
     },
     "execution_count": 3,
     "metadata": {},
     "output_type": "execute_result"
    }
   ],
   "source": [
    "visitors = pd.read_csv('/datasets/visitors.csv')\n",
    "visitors.head()"
   ]
  },
  {
   "cell_type": "code",
   "execution_count": 4,
   "metadata": {},
   "outputs": [
    {
     "data": {
      "text/html": [
       "<div>\n",
       "<style scoped>\n",
       "    .dataframe tbody tr th:only-of-type {\n",
       "        vertical-align: middle;\n",
       "    }\n",
       "\n",
       "    .dataframe tbody tr th {\n",
       "        vertical-align: top;\n",
       "    }\n",
       "\n",
       "    .dataframe thead th {\n",
       "        text-align: right;\n",
       "    }\n",
       "</style>\n",
       "<table border=\"1\" class=\"dataframe\">\n",
       "  <thead>\n",
       "    <tr style=\"text-align: right;\">\n",
       "      <th></th>\n",
       "      <th>transactionId</th>\n",
       "      <th>visitorId</th>\n",
       "      <th>date</th>\n",
       "      <th>revenue</th>\n",
       "      <th>group</th>\n",
       "    </tr>\n",
       "  </thead>\n",
       "  <tbody>\n",
       "    <tr>\n",
       "      <td>0</td>\n",
       "      <td>3667963787</td>\n",
       "      <td>3312258926</td>\n",
       "      <td>2019-08-15</td>\n",
       "      <td>1650</td>\n",
       "      <td>B</td>\n",
       "    </tr>\n",
       "    <tr>\n",
       "      <td>1</td>\n",
       "      <td>2804400009</td>\n",
       "      <td>3642806036</td>\n",
       "      <td>2019-08-15</td>\n",
       "      <td>730</td>\n",
       "      <td>B</td>\n",
       "    </tr>\n",
       "    <tr>\n",
       "      <td>2</td>\n",
       "      <td>2961555356</td>\n",
       "      <td>4069496402</td>\n",
       "      <td>2019-08-15</td>\n",
       "      <td>400</td>\n",
       "      <td>A</td>\n",
       "    </tr>\n",
       "    <tr>\n",
       "      <td>3</td>\n",
       "      <td>3797467345</td>\n",
       "      <td>1196621759</td>\n",
       "      <td>2019-08-15</td>\n",
       "      <td>9759</td>\n",
       "      <td>B</td>\n",
       "    </tr>\n",
       "    <tr>\n",
       "      <td>4</td>\n",
       "      <td>2282983706</td>\n",
       "      <td>2322279887</td>\n",
       "      <td>2019-08-15</td>\n",
       "      <td>2308</td>\n",
       "      <td>B</td>\n",
       "    </tr>\n",
       "  </tbody>\n",
       "</table>\n",
       "</div>"
      ],
      "text/plain": [
       "   transactionId   visitorId        date  revenue group\n",
       "0     3667963787  3312258926  2019-08-15     1650     B\n",
       "1     2804400009  3642806036  2019-08-15      730     B\n",
       "2     2961555356  4069496402  2019-08-15      400     A\n",
       "3     3797467345  1196621759  2019-08-15     9759     B\n",
       "4     2282983706  2322279887  2019-08-15     2308     B"
      ]
     },
     "execution_count": 4,
     "metadata": {},
     "output_type": "execute_result"
    }
   ],
   "source": [
    "orders = pd.read_csv('/datasets/orders.csv')\n",
    "orders.head()"
   ]
  },
  {
   "cell_type": "code",
   "execution_count": 5,
   "metadata": {},
   "outputs": [
    {
     "name": "stdout",
     "output_type": "stream",
     "text": [
      "<class 'pandas.core.frame.DataFrame'>\n",
      "RangeIndex: 62 entries, 0 to 61\n",
      "Data columns (total 3 columns):\n",
      "date        62 non-null object\n",
      "group       62 non-null object\n",
      "visitors    62 non-null int64\n",
      "dtypes: int64(1), object(2)\n",
      "memory usage: 1.6+ KB\n",
      "\n",
      "<class 'pandas.core.frame.DataFrame'>\n",
      "RangeIndex: 1197 entries, 0 to 1196\n",
      "Data columns (total 5 columns):\n",
      "transactionId    1197 non-null int64\n",
      "visitorId        1197 non-null int64\n",
      "date             1197 non-null object\n",
      "revenue          1197 non-null int64\n",
      "group            1197 non-null object\n",
      "dtypes: int64(3), object(2)\n",
      "memory usage: 46.9+ KB\n"
     ]
    }
   ],
   "source": [
    "visitors.info()\n",
    "print()\n",
    "orders.info()"
   ]
  },
  {
   "cell_type": "code",
   "execution_count": 6,
   "metadata": {},
   "outputs": [
    {
     "data": {
      "text/plain": [
       "date        0\n",
       "group       0\n",
       "visitors    0\n",
       "dtype: int64"
      ]
     },
     "execution_count": 6,
     "metadata": {},
     "output_type": "execute_result"
    }
   ],
   "source": [
    "visitors.isnull().sum()"
   ]
  },
  {
   "cell_type": "code",
   "execution_count": 7,
   "metadata": {},
   "outputs": [
    {
     "data": {
      "text/plain": [
       "transactionId    0\n",
       "visitorId        0\n",
       "date             0\n",
       "revenue          0\n",
       "group            0\n",
       "dtype: int64"
      ]
     },
     "execution_count": 7,
     "metadata": {},
     "output_type": "execute_result"
    }
   ],
   "source": [
    "orders.isnull().sum()"
   ]
  },
  {
   "cell_type": "markdown",
   "metadata": {},
   "source": [
    "Количество столбцов совпадает с заявленным. Пропущенных значений не обнаружено. Однако временные показатели представлены в строковом формате. Данные значения необходимо привести к формату даты."
   ]
  },
  {
   "cell_type": "code",
   "execution_count": 8,
   "metadata": {},
   "outputs": [],
   "source": [
    "# Переводим в формат даты\n",
    "visitors['date'] = pd.to_datetime(\n",
    "    visitors['date'],\n",
    "    format = '%Y-%m-%d'\n",
    ")\n",
    "orders['date'] = pd.to_datetime(\n",
    "    orders['date'],\n",
    "    format = '%Y-%m-%d'\n",
    ")"
   ]
  },
  {
   "cell_type": "markdown",
   "metadata": {},
   "source": [
    "Для того, чтобы избежать ошибок при дальнейшем анализе и проведении А/В-теста, мы должны убедиться в равном количестве пользователей из двух групп. \n",
    "\n"
   ]
  },
  {
   "cell_type": "code",
   "execution_count": 9,
   "metadata": {},
   "outputs": [
    {
     "name": "stdout",
     "output_type": "stream",
     "text": [
      "Разделение на группы неравномерное, относительная разница (А-В)/А = -0.96%\n"
     ]
    }
   ],
   "source": [
    "if (visitors[visitors['group'] == 'A']['visitors'].sum()) == (visitors[\n",
    "    visitors['group'] == 'B']['visitors'].sum()):\n",
    "    print('Разделение на группы равномерное')\n",
    "else:\n",
    "    print('Разделение на группы неравномерное, относительная разница (А-В)/А = {:.2%}'.format(\n",
    "    (visitors[\n",
    "        visitors['group'] == 'A']['visitors'].sum() - visitors[\n",
    "        visitors['group'] == 'B']['visitors'].sum()) / visitors[\n",
    "        visitors['group'] == 'A']['visitors'].sum()))"
   ]
  },
  {
   "cell_type": "markdown",
   "metadata": {},
   "source": [
    "Данная разница принимается, так как не превышает 1 %. Таким образом, группы формируются относительно равномерно. "
   ]
  },
  {
   "cell_type": "markdown",
   "metadata": {},
   "source": [
    "## Глава 2. Приоритезация гипотез"
   ]
  },
  {
   "cell_type": "markdown",
   "metadata": {},
   "source": [
    "### Используем фреймворк ICE"
   ]
  },
  {
   "cell_type": "markdown",
   "metadata": {},
   "source": [
    "ICE (от англ. impact, confidence, effort / ease «влияние, уверенность, усилия / простота») — один из самых популярных способов приоритизации задач. Рассчитывается по следующией формуле: ICE = Impact * Confidence / Effort"
   ]
  },
  {
   "cell_type": "code",
   "execution_count": 10,
   "metadata": {},
   "outputs": [
    {
     "data": {
      "text/html": [
       "<div>\n",
       "<style scoped>\n",
       "    .dataframe tbody tr th:only-of-type {\n",
       "        vertical-align: middle;\n",
       "    }\n",
       "\n",
       "    .dataframe tbody tr th {\n",
       "        vertical-align: top;\n",
       "    }\n",
       "\n",
       "    .dataframe thead th {\n",
       "        text-align: right;\n",
       "    }\n",
       "</style>\n",
       "<table border=\"1\" class=\"dataframe\">\n",
       "  <thead>\n",
       "    <tr style=\"text-align: right;\">\n",
       "      <th></th>\n",
       "      <th>index</th>\n",
       "      <th>Hypothesis</th>\n",
       "      <th>Reach</th>\n",
       "      <th>Impact</th>\n",
       "      <th>Confidence</th>\n",
       "      <th>Efforts</th>\n",
       "      <th>ICE_score</th>\n",
       "    </tr>\n",
       "  </thead>\n",
       "  <tbody>\n",
       "    <tr>\n",
       "      <td>0</td>\n",
       "      <td>8</td>\n",
       "      <td>Запустить акцию, дающую скидку на товар в день рождения</td>\n",
       "      <td>1</td>\n",
       "      <td>9</td>\n",
       "      <td>9</td>\n",
       "      <td>5</td>\n",
       "      <td>16.2</td>\n",
       "    </tr>\n",
       "    <tr>\n",
       "      <td>1</td>\n",
       "      <td>0</td>\n",
       "      <td>Добавить два новых канала привлечения трафика, что позволит привлекать на 30% больше пользователей</td>\n",
       "      <td>3</td>\n",
       "      <td>10</td>\n",
       "      <td>8</td>\n",
       "      <td>6</td>\n",
       "      <td>13.3</td>\n",
       "    </tr>\n",
       "    <tr>\n",
       "      <td>2</td>\n",
       "      <td>7</td>\n",
       "      <td>Добавить форму подписки на все основные страницы, чтобы собрать базу клиентов для email-рассылок</td>\n",
       "      <td>10</td>\n",
       "      <td>7</td>\n",
       "      <td>8</td>\n",
       "      <td>5</td>\n",
       "      <td>11.2</td>\n",
       "    </tr>\n",
       "    <tr>\n",
       "      <td>3</td>\n",
       "      <td>6</td>\n",
       "      <td>Показать на главной странице баннеры с актуальными акциями и распродажами, чтобы увеличить конверсию</td>\n",
       "      <td>5</td>\n",
       "      <td>3</td>\n",
       "      <td>8</td>\n",
       "      <td>3</td>\n",
       "      <td>8.0</td>\n",
       "    </tr>\n",
       "    <tr>\n",
       "      <td>4</td>\n",
       "      <td>2</td>\n",
       "      <td>Добавить блоки рекомендаций товаров на сайт интернет магазина, чтобы повысить конверсию и средний чек заказа</td>\n",
       "      <td>8</td>\n",
       "      <td>3</td>\n",
       "      <td>7</td>\n",
       "      <td>3</td>\n",
       "      <td>7.0</td>\n",
       "    </tr>\n",
       "    <tr>\n",
       "      <td>5</td>\n",
       "      <td>1</td>\n",
       "      <td>Запустить собственную службу доставки, что сократит срок доставки заказов</td>\n",
       "      <td>2</td>\n",
       "      <td>5</td>\n",
       "      <td>4</td>\n",
       "      <td>10</td>\n",
       "      <td>2.0</td>\n",
       "    </tr>\n",
       "    <tr>\n",
       "      <td>6</td>\n",
       "      <td>5</td>\n",
       "      <td>Добавить страницу отзывов клиентов о магазине, что позволит увеличить количество заказов</td>\n",
       "      <td>3</td>\n",
       "      <td>2</td>\n",
       "      <td>2</td>\n",
       "      <td>3</td>\n",
       "      <td>1.3</td>\n",
       "    </tr>\n",
       "    <tr>\n",
       "      <td>7</td>\n",
       "      <td>3</td>\n",
       "      <td>Изменить структура категорий, что увеличит конверсию, т.к. пользователи быстрее найдут нужный товар</td>\n",
       "      <td>8</td>\n",
       "      <td>3</td>\n",
       "      <td>3</td>\n",
       "      <td>8</td>\n",
       "      <td>1.1</td>\n",
       "    </tr>\n",
       "    <tr>\n",
       "      <td>8</td>\n",
       "      <td>4</td>\n",
       "      <td>Изменить цвет фона главной страницы, чтобы увеличить вовлеченность пользователей</td>\n",
       "      <td>3</td>\n",
       "      <td>1</td>\n",
       "      <td>1</td>\n",
       "      <td>1</td>\n",
       "      <td>1.0</td>\n",
       "    </tr>\n",
       "  </tbody>\n",
       "</table>\n",
       "</div>"
      ],
      "text/plain": [
       "   index  \\\n",
       "0      8   \n",
       "1      0   \n",
       "2      7   \n",
       "3      6   \n",
       "4      2   \n",
       "5      1   \n",
       "6      5   \n",
       "7      3   \n",
       "8      4   \n",
       "\n",
       "                                                                                                     Hypothesis  \\\n",
       "0                                                       Запустить акцию, дающую скидку на товар в день рождения   \n",
       "1            Добавить два новых канала привлечения трафика, что позволит привлекать на 30% больше пользователей   \n",
       "2              Добавить форму подписки на все основные страницы, чтобы собрать базу клиентов для email-рассылок   \n",
       "3          Показать на главной странице баннеры с актуальными акциями и распродажами, чтобы увеличить конверсию   \n",
       "4  Добавить блоки рекомендаций товаров на сайт интернет магазина, чтобы повысить конверсию и средний чек заказа   \n",
       "5                                     Запустить собственную службу доставки, что сократит срок доставки заказов   \n",
       "6                      Добавить страницу отзывов клиентов о магазине, что позволит увеличить количество заказов   \n",
       "7           Изменить структура категорий, что увеличит конверсию, т.к. пользователи быстрее найдут нужный товар   \n",
       "8                              Изменить цвет фона главной страницы, чтобы увеличить вовлеченность пользователей   \n",
       "\n",
       "   Reach  Impact  Confidence  Efforts  ICE_score  \n",
       "0      1       9           9        5       16.2  \n",
       "1      3      10           8        6       13.3  \n",
       "2     10       7           8        5       11.2  \n",
       "3      5       3           8        3        8.0  \n",
       "4      8       3           7        3        7.0  \n",
       "5      2       5           4       10        2.0  \n",
       "6      3       2           2        3        1.3  \n",
       "7      8       3           3        8        1.1  \n",
       "8      3       1           1        1        1.0  "
      ]
     },
     "execution_count": 10,
     "metadata": {},
     "output_type": "execute_result"
    }
   ],
   "source": [
    "# ICE_score — колонка с оценкой гипотезы\n",
    "hypothesis['ICE_score'] = (hypothesis['Impact'] * hypothesis['Confidence'] / hypothesis['Efforts']).round(1)\n",
    "hypothesis.sort_values(by = 'ICE_score', ascending = False).reset_index()"
   ]
  },
  {
   "cell_type": "markdown",
   "metadata": {},
   "source": [
    "Гипотеза о запуске скидочной акции лидирует (16.2) по приоритету. Видимо быстрые продажи считаются самыми лучшими. На втором месте, гипотеза о добавлении двух новых каналов для привлчения трафика (13.3). Также, в тройке лидиров гипотеза о добавлении формы подписки на все основные страницы, для получения emailов (11.2).\n",
    "Однако в данном анализе не учитывается охват аудитории, которую затронут данные изменения. Это существенно влияет на распределение гипотез. Поэтому рассчитаем показатель RICE.\t"
   ]
  },
  {
   "cell_type": "markdown",
   "metadata": {},
   "source": [
    "### Используем фреймворк RICE"
   ]
  },
  {
   "cell_type": "markdown",
   "metadata": {},
   "source": [
    "RICE (R от англ. reach, «охват»). Модифицированная версия ICE. Рассчитывается по формуле: RICE = (Reach * Impact * Confidence) / Effort"
   ]
  },
  {
   "cell_type": "code",
   "execution_count": 11,
   "metadata": {},
   "outputs": [
    {
     "data": {
      "text/html": [
       "<div>\n",
       "<style scoped>\n",
       "    .dataframe tbody tr th:only-of-type {\n",
       "        vertical-align: middle;\n",
       "    }\n",
       "\n",
       "    .dataframe tbody tr th {\n",
       "        vertical-align: top;\n",
       "    }\n",
       "\n",
       "    .dataframe thead th {\n",
       "        text-align: right;\n",
       "    }\n",
       "</style>\n",
       "<table border=\"1\" class=\"dataframe\">\n",
       "  <thead>\n",
       "    <tr style=\"text-align: right;\">\n",
       "      <th></th>\n",
       "      <th>index</th>\n",
       "      <th>Hypothesis</th>\n",
       "      <th>Reach</th>\n",
       "      <th>Impact</th>\n",
       "      <th>Confidence</th>\n",
       "      <th>Efforts</th>\n",
       "      <th>ICE_score</th>\n",
       "      <th>RICE_score</th>\n",
       "    </tr>\n",
       "  </thead>\n",
       "  <tbody>\n",
       "    <tr>\n",
       "      <td>0</td>\n",
       "      <td>7</td>\n",
       "      <td>Добавить форму подписки на все основные страницы, чтобы собрать базу клиентов для email-рассылок</td>\n",
       "      <td>10</td>\n",
       "      <td>7</td>\n",
       "      <td>8</td>\n",
       "      <td>5</td>\n",
       "      <td>11.2</td>\n",
       "      <td>112.0</td>\n",
       "    </tr>\n",
       "    <tr>\n",
       "      <td>1</td>\n",
       "      <td>2</td>\n",
       "      <td>Добавить блоки рекомендаций товаров на сайт интернет магазина, чтобы повысить конверсию и средний чек заказа</td>\n",
       "      <td>8</td>\n",
       "      <td>3</td>\n",
       "      <td>7</td>\n",
       "      <td>3</td>\n",
       "      <td>7.0</td>\n",
       "      <td>56.0</td>\n",
       "    </tr>\n",
       "    <tr>\n",
       "      <td>2</td>\n",
       "      <td>0</td>\n",
       "      <td>Добавить два новых канала привлечения трафика, что позволит привлекать на 30% больше пользователей</td>\n",
       "      <td>3</td>\n",
       "      <td>10</td>\n",
       "      <td>8</td>\n",
       "      <td>6</td>\n",
       "      <td>13.3</td>\n",
       "      <td>40.0</td>\n",
       "    </tr>\n",
       "    <tr>\n",
       "      <td>3</td>\n",
       "      <td>6</td>\n",
       "      <td>Показать на главной странице баннеры с актуальными акциями и распродажами, чтобы увеличить конверсию</td>\n",
       "      <td>5</td>\n",
       "      <td>3</td>\n",
       "      <td>8</td>\n",
       "      <td>3</td>\n",
       "      <td>8.0</td>\n",
       "      <td>40.0</td>\n",
       "    </tr>\n",
       "    <tr>\n",
       "      <td>4</td>\n",
       "      <td>8</td>\n",
       "      <td>Запустить акцию, дающую скидку на товар в день рождения</td>\n",
       "      <td>1</td>\n",
       "      <td>9</td>\n",
       "      <td>9</td>\n",
       "      <td>5</td>\n",
       "      <td>16.2</td>\n",
       "      <td>16.2</td>\n",
       "    </tr>\n",
       "    <tr>\n",
       "      <td>5</td>\n",
       "      <td>3</td>\n",
       "      <td>Изменить структура категорий, что увеличит конверсию, т.к. пользователи быстрее найдут нужный товар</td>\n",
       "      <td>8</td>\n",
       "      <td>3</td>\n",
       "      <td>3</td>\n",
       "      <td>8</td>\n",
       "      <td>1.1</td>\n",
       "      <td>9.0</td>\n",
       "    </tr>\n",
       "    <tr>\n",
       "      <td>6</td>\n",
       "      <td>1</td>\n",
       "      <td>Запустить собственную службу доставки, что сократит срок доставки заказов</td>\n",
       "      <td>2</td>\n",
       "      <td>5</td>\n",
       "      <td>4</td>\n",
       "      <td>10</td>\n",
       "      <td>2.0</td>\n",
       "      <td>4.0</td>\n",
       "    </tr>\n",
       "    <tr>\n",
       "      <td>7</td>\n",
       "      <td>5</td>\n",
       "      <td>Добавить страницу отзывов клиентов о магазине, что позволит увеличить количество заказов</td>\n",
       "      <td>3</td>\n",
       "      <td>2</td>\n",
       "      <td>2</td>\n",
       "      <td>3</td>\n",
       "      <td>1.3</td>\n",
       "      <td>4.0</td>\n",
       "    </tr>\n",
       "    <tr>\n",
       "      <td>8</td>\n",
       "      <td>4</td>\n",
       "      <td>Изменить цвет фона главной страницы, чтобы увеличить вовлеченность пользователей</td>\n",
       "      <td>3</td>\n",
       "      <td>1</td>\n",
       "      <td>1</td>\n",
       "      <td>1</td>\n",
       "      <td>1.0</td>\n",
       "      <td>3.0</td>\n",
       "    </tr>\n",
       "  </tbody>\n",
       "</table>\n",
       "</div>"
      ],
      "text/plain": [
       "   index  \\\n",
       "0      7   \n",
       "1      2   \n",
       "2      0   \n",
       "3      6   \n",
       "4      8   \n",
       "5      3   \n",
       "6      1   \n",
       "7      5   \n",
       "8      4   \n",
       "\n",
       "                                                                                                     Hypothesis  \\\n",
       "0              Добавить форму подписки на все основные страницы, чтобы собрать базу клиентов для email-рассылок   \n",
       "1  Добавить блоки рекомендаций товаров на сайт интернет магазина, чтобы повысить конверсию и средний чек заказа   \n",
       "2            Добавить два новых канала привлечения трафика, что позволит привлекать на 30% больше пользователей   \n",
       "3          Показать на главной странице баннеры с актуальными акциями и распродажами, чтобы увеличить конверсию   \n",
       "4                                                       Запустить акцию, дающую скидку на товар в день рождения   \n",
       "5           Изменить структура категорий, что увеличит конверсию, т.к. пользователи быстрее найдут нужный товар   \n",
       "6                                     Запустить собственную службу доставки, что сократит срок доставки заказов   \n",
       "7                      Добавить страницу отзывов клиентов о магазине, что позволит увеличить количество заказов   \n",
       "8                              Изменить цвет фона главной страницы, чтобы увеличить вовлеченность пользователей   \n",
       "\n",
       "   Reach  Impact  Confidence  Efforts  ICE_score  RICE_score  \n",
       "0     10       7           8        5       11.2       112.0  \n",
       "1      8       3           7        3        7.0        56.0  \n",
       "2      3      10           8        6       13.3        40.0  \n",
       "3      5       3           8        3        8.0        40.0  \n",
       "4      1       9           9        5       16.2        16.2  \n",
       "5      8       3           3        8        1.1         9.0  \n",
       "6      2       5           4       10        2.0         4.0  \n",
       "7      3       2           2        3        1.3         4.0  \n",
       "8      3       1           1        1        1.0         3.0  "
      ]
     },
     "execution_count": 11,
     "metadata": {},
     "output_type": "execute_result"
    }
   ],
   "source": [
    "# RICE_score — колонка с оценкой гипотезы\n",
    "hypothesis['RICE_score'] = (hypothesis['Reach'] * hypothesis['Impact'] * hypothesis['Confidence'] / hypothesis['Efforts'])\n",
    "hypothesis.sort_values(by = 'RICE_score', ascending = False).reset_index()"
   ]
  },
  {
   "cell_type": "markdown",
   "metadata": {},
   "source": [
    "С учетом охвата аудитории, список приоритизированных гипотез изменился. Гипотеза о добавлении формы подписки для сбора базы email-рассылки значительно превосходит остальные (112). Далее идет гипотеза о добавлении блоков рекомендаций товаров для повышения конверсии в средний чек (56). Также, в тройке лидиров гипотезы о привлечении трафика и показах баннеров с актуальными акциями (40).\n",
    "\n",
    "Стоит отметить, что первые две гипотезы были в приоритетном списке посчитаном с помощью ICE. Только имели более низкие значения. "
   ]
  },
  {
   "cell_type": "markdown",
   "metadata": {},
   "source": [
    "### Вывод\n",
    "\n",
    "При использовании различных фреймвороков были получены различные результаты в распределении гипотез по приоритету. Наиболее приоритетной для проведения тестирования является гипотеза о добавлении формы подписки на все основные страницы, чтобы увеличивать базу клиентов для email-рассылок. Однако, в данной гипотезе ничего не говорится о получении ожидаемого результата. То есть, того, что должно получиться в итоге — увеличение конверсии, или увеличение среднего чека, или увеличение регистраций и т.д. Поэтому для проведения А/В-теста мы выбираем другую гипотезу:\n",
    "\n",
    "- Увеличение конверсии и среднего чека заказа, в результате добавления блоков рекомендаций. \n",
    "\n",
    "В целом, можно предположить, что основная маркетинговая стратегия заключается в получении emailов, для формирования масштабной базы рассылок. Чтобы потом разделять пользователей на когорты и переводить на продажу из письма. Также, повышение конверсии за счет времени пребывание на сайте и алгоритма доп товара (рекомендуемого) переводящим в продажу. Дополнительно работают акционные баннеры. Скорее всего, такая стратегия приведет к быстрым продажам, но «отмиранию» пользователей и отсутствию постоянной клиентской базы. \n",
    "\n",
    "- Необходимо больше информации об интернет-магазине и предоставляемых товарах. \n",
    "\n",
    "Изменения приоритета гипотезы о акции на день рождение после подсчета с помощью ICE и RICE, возможно связано с тем, что пользователи в основном не указывают дату рождения при регистрации и у компании нет соответствующих данных. "
   ]
  },
  {
   "cell_type": "markdown",
   "metadata": {},
   "source": [
    "## Глава 3. Анализ A/B-теста"
   ]
  },
  {
   "cell_type": "markdown",
   "metadata": {},
   "source": [
    "### Строим график коммулятивной выручки по группам"
   ]
  },
  {
   "cell_type": "code",
   "execution_count": 12,
   "metadata": {},
   "outputs": [],
   "source": [
    "# Разделение по группам\n",
    "visitors_A = visitors[visitors['group'] == 'A'][['date', 'visitors']]\n",
    "visitors_B = visitors[visitors['group'] == 'B'][['date', 'visitors']]\n",
    "\n",
    "# Переименование столбцов\n",
    "visitors_A.columns = ['date', 'A_visitors']\n",
    "visitors_B.columns = ['date', 'B_visitors']\n",
    "\n",
    "# Получаем кумулятивные данные по посещениям и по группам\n",
    "visitors_A_cumm = visitors_A.apply(\n",
    "    lambda x: visitors_A[visitors_A['date'] < x['date']].agg({\n",
    "        'date':'max',\n",
    "        'A_visitors':'sum'\n",
    "    }), axis = 1)\n",
    "\n",
    "visitors_B_cumm = visitors_B.apply(\n",
    "    lambda x: visitors_B[visitors_B['date'] < x['date']].agg({\n",
    "        'date':'max',\n",
    "        'B_visitors':'sum'\n",
    "    }), axis = 1)\n",
    "\n",
    "# Переименование столбцов\n",
    "visitors_A_cumm.columns = ['date', 'cummulative_visitors_A']\n",
    "visitors_B_cumm.columns = ['date', 'cummulative_visitors_B']"
   ]
  },
  {
   "cell_type": "code",
   "execution_count": 13,
   "metadata": {},
   "outputs": [
    {
     "data": {
      "text/html": [
       "<div>\n",
       "<style scoped>\n",
       "    .dataframe tbody tr th:only-of-type {\n",
       "        vertical-align: middle;\n",
       "    }\n",
       "\n",
       "    .dataframe tbody tr th {\n",
       "        vertical-align: top;\n",
       "    }\n",
       "\n",
       "    .dataframe thead th {\n",
       "        text-align: right;\n",
       "    }\n",
       "</style>\n",
       "<table border=\"1\" class=\"dataframe\">\n",
       "  <thead>\n",
       "    <tr style=\"text-align: right;\">\n",
       "      <th></th>\n",
       "      <th>date</th>\n",
       "      <th>cummulative_visitors_A</th>\n",
       "    </tr>\n",
       "  </thead>\n",
       "  <tbody>\n",
       "    <tr>\n",
       "      <td>0</td>\n",
       "      <td>NaT</td>\n",
       "      <td>0</td>\n",
       "    </tr>\n",
       "    <tr>\n",
       "      <td>1</td>\n",
       "      <td>2019-08-01</td>\n",
       "      <td>719</td>\n",
       "    </tr>\n",
       "    <tr>\n",
       "      <td>2</td>\n",
       "      <td>2019-08-02</td>\n",
       "      <td>1338</td>\n",
       "    </tr>\n",
       "    <tr>\n",
       "      <td>3</td>\n",
       "      <td>2019-08-03</td>\n",
       "      <td>1845</td>\n",
       "    </tr>\n",
       "    <tr>\n",
       "      <td>4</td>\n",
       "      <td>2019-08-04</td>\n",
       "      <td>2562</td>\n",
       "    </tr>\n",
       "  </tbody>\n",
       "</table>\n",
       "</div>"
      ],
      "text/plain": [
       "        date  cummulative_visitors_A\n",
       "0        NaT                       0\n",
       "1 2019-08-01                     719\n",
       "2 2019-08-02                    1338\n",
       "3 2019-08-03                    1845\n",
       "4 2019-08-04                    2562"
      ]
     },
     "execution_count": 13,
     "metadata": {},
     "output_type": "execute_result"
    }
   ],
   "source": [
    "visitors_A_cumm.head() # Проверяем"
   ]
  },
  {
   "cell_type": "code",
   "execution_count": 14,
   "metadata": {},
   "outputs": [],
   "source": [
    "# разделение заказов по группам\n",
    "orders_A = orders[orders['group'] == 'A'].groupby(\n",
    "    'date', as_index = False).agg({\n",
    "    'transactionId':pd.Series.nunique,\n",
    "    'revenue':'sum'\n",
    "})\n",
    "\n",
    "orders_B = orders[orders['group'] == 'B'].groupby(\n",
    "    'date', as_index = False).agg({\n",
    "    'transactionId':pd.Series.nunique,\n",
    "    'revenue':'sum'\n",
    "})\n",
    "\n",
    "# Переименование столбцов\n",
    "orders_A.columns = ['date', 'A_ordersPerDate', 'A_revenuePerDate']\n",
    "orders_B.columns = ['date', 'B_ordersPerDate', 'B_revenuePerDate']\n",
    "\n",
    "# Получаем кумулятивные данные по заказам\n",
    "orders_A_cumm = orders_A.apply(lambda x:\n",
    "            orders_A[orders_A['date'] < x['date']].agg({\n",
    "                'date':'max',\n",
    "                'A_ordersPerDate':'sum',\n",
    "                'A_revenuePerDate':'sum'}), axis = 1).sort_values('date')\n",
    "\n",
    "orders_B_cumm = orders_B.apply(lambda x:\n",
    "            orders_B[orders_B['date'] < x['date']].agg({\n",
    "                'date':'max',\n",
    "                'B_ordersPerDate':'sum',\n",
    "                'B_revenuePerDate':'sum'}), axis = 1).sort_values('date')\n",
    "\n",
    "# Переименование столбцов\n",
    "orders_A_cumm.columns = ['date', 'cummulative_orders_A', 'cummulative_revenue_A']\n",
    "orders_B_cumm.columns = ['date', 'cummulative_orders_B', 'cummulative_revenue_B']"
   ]
  },
  {
   "cell_type": "code",
   "execution_count": 15,
   "metadata": {},
   "outputs": [
    {
     "data": {
      "text/html": [
       "<div>\n",
       "<style scoped>\n",
       "    .dataframe tbody tr th:only-of-type {\n",
       "        vertical-align: middle;\n",
       "    }\n",
       "\n",
       "    .dataframe tbody tr th {\n",
       "        vertical-align: top;\n",
       "    }\n",
       "\n",
       "    .dataframe thead th {\n",
       "        text-align: right;\n",
       "    }\n",
       "</style>\n",
       "<table border=\"1\" class=\"dataframe\">\n",
       "  <thead>\n",
       "    <tr style=\"text-align: right;\">\n",
       "      <th></th>\n",
       "      <th>date</th>\n",
       "      <th>cummulative_orders_A</th>\n",
       "      <th>cummulative_revenue_A</th>\n",
       "    </tr>\n",
       "  </thead>\n",
       "  <tbody>\n",
       "    <tr>\n",
       "      <td>1</td>\n",
       "      <td>2019-08-01</td>\n",
       "      <td>24</td>\n",
       "      <td>148579</td>\n",
       "    </tr>\n",
       "    <tr>\n",
       "      <td>2</td>\n",
       "      <td>2019-08-02</td>\n",
       "      <td>44</td>\n",
       "      <td>242401</td>\n",
       "    </tr>\n",
       "    <tr>\n",
       "      <td>3</td>\n",
       "      <td>2019-08-03</td>\n",
       "      <td>68</td>\n",
       "      <td>354874</td>\n",
       "    </tr>\n",
       "    <tr>\n",
       "      <td>4</td>\n",
       "      <td>2019-08-04</td>\n",
       "      <td>84</td>\n",
       "      <td>425699</td>\n",
       "    </tr>\n",
       "    <tr>\n",
       "      <td>5</td>\n",
       "      <td>2019-08-05</td>\n",
       "      <td>109</td>\n",
       "      <td>549917</td>\n",
       "    </tr>\n",
       "  </tbody>\n",
       "</table>\n",
       "</div>"
      ],
      "text/plain": [
       "        date  cummulative_orders_A  cummulative_revenue_A\n",
       "1 2019-08-01                    24                 148579\n",
       "2 2019-08-02                    44                 242401\n",
       "3 2019-08-03                    68                 354874\n",
       "4 2019-08-04                    84                 425699\n",
       "5 2019-08-05                   109                 549917"
      ]
     },
     "execution_count": 15,
     "metadata": {},
     "output_type": "execute_result"
    }
   ],
   "source": [
    "orders_A_cumm.head()"
   ]
  },
  {
   "cell_type": "code",
   "execution_count": 16,
   "metadata": {},
   "outputs": [
    {
     "data": {
      "text/html": [
       "<div>\n",
       "<style scoped>\n",
       "    .dataframe tbody tr th:only-of-type {\n",
       "        vertical-align: middle;\n",
       "    }\n",
       "\n",
       "    .dataframe tbody tr th {\n",
       "        vertical-align: top;\n",
       "    }\n",
       "\n",
       "    .dataframe thead th {\n",
       "        text-align: right;\n",
       "    }\n",
       "</style>\n",
       "<table border=\"1\" class=\"dataframe\">\n",
       "  <thead>\n",
       "    <tr style=\"text-align: right;\">\n",
       "      <th></th>\n",
       "      <th>date</th>\n",
       "      <th>A_ordersPerDate</th>\n",
       "      <th>A_revenuePerDate</th>\n",
       "    </tr>\n",
       "  </thead>\n",
       "  <tbody>\n",
       "    <tr>\n",
       "      <td>0</td>\n",
       "      <td>2019-08-01</td>\n",
       "      <td>24</td>\n",
       "      <td>148579</td>\n",
       "    </tr>\n",
       "    <tr>\n",
       "      <td>1</td>\n",
       "      <td>2019-08-02</td>\n",
       "      <td>20</td>\n",
       "      <td>93822</td>\n",
       "    </tr>\n",
       "    <tr>\n",
       "      <td>2</td>\n",
       "      <td>2019-08-03</td>\n",
       "      <td>24</td>\n",
       "      <td>112473</td>\n",
       "    </tr>\n",
       "    <tr>\n",
       "      <td>3</td>\n",
       "      <td>2019-08-04</td>\n",
       "      <td>16</td>\n",
       "      <td>70825</td>\n",
       "    </tr>\n",
       "    <tr>\n",
       "      <td>4</td>\n",
       "      <td>2019-08-05</td>\n",
       "      <td>25</td>\n",
       "      <td>124218</td>\n",
       "    </tr>\n",
       "  </tbody>\n",
       "</table>\n",
       "</div>"
      ],
      "text/plain": [
       "        date  A_ordersPerDate  A_revenuePerDate\n",
       "0 2019-08-01               24            148579\n",
       "1 2019-08-02               20             93822\n",
       "2 2019-08-03               24            112473\n",
       "3 2019-08-04               16             70825\n",
       "4 2019-08-05               25            124218"
      ]
     },
     "execution_count": 16,
     "metadata": {},
     "output_type": "execute_result"
    }
   ],
   "source": [
    "orders_A.head()"
   ]
  },
  {
   "cell_type": "code",
   "execution_count": 17,
   "metadata": {},
   "outputs": [],
   "source": [
    "# Объединяем кумулятивные данные в одну таблицу\n",
    "data_cumm = orders_A.merge(orders_B, on = 'date', how = 'left')\\\n",
    "    .merge(orders_A_cumm, on='date', how='left')\\\n",
    "    .merge(orders_B_cumm, on='date', how='left')\\\n",
    "    .merge(visitors_A, on='date', how='left')\\\n",
    "    .merge(visitors_B, on='date', how='left')\\\n",
    "    .merge(visitors_A_cumm, on='date', how='left')\\\n",
    "    .merge(visitors_B_cumm, on='date', how='left')"
   ]
  },
  {
   "cell_type": "code",
   "execution_count": 18,
   "metadata": {},
   "outputs": [
    {
     "data": {
      "text/html": [
       "<div>\n",
       "<style scoped>\n",
       "    .dataframe tbody tr th:only-of-type {\n",
       "        vertical-align: middle;\n",
       "    }\n",
       "\n",
       "    .dataframe tbody tr th {\n",
       "        vertical-align: top;\n",
       "    }\n",
       "\n",
       "    .dataframe thead th {\n",
       "        text-align: right;\n",
       "    }\n",
       "</style>\n",
       "<table border=\"1\" class=\"dataframe\">\n",
       "  <thead>\n",
       "    <tr style=\"text-align: right;\">\n",
       "      <th></th>\n",
       "      <th>date</th>\n",
       "      <th>A_ordersPerDate</th>\n",
       "      <th>A_revenuePerDate</th>\n",
       "      <th>B_ordersPerDate</th>\n",
       "      <th>B_revenuePerDate</th>\n",
       "      <th>cummulative_orders_A</th>\n",
       "      <th>cummulative_revenue_A</th>\n",
       "      <th>cummulative_orders_B</th>\n",
       "      <th>cummulative_revenue_B</th>\n",
       "      <th>A_visitors</th>\n",
       "      <th>B_visitors</th>\n",
       "      <th>cummulative_visitors_A</th>\n",
       "      <th>cummulative_visitors_B</th>\n",
       "    </tr>\n",
       "  </thead>\n",
       "  <tbody>\n",
       "    <tr>\n",
       "      <td>0</td>\n",
       "      <td>2019-08-01</td>\n",
       "      <td>24</td>\n",
       "      <td>148579</td>\n",
       "      <td>21</td>\n",
       "      <td>101217</td>\n",
       "      <td>24.0</td>\n",
       "      <td>148579.0</td>\n",
       "      <td>21.0</td>\n",
       "      <td>101217.0</td>\n",
       "      <td>719</td>\n",
       "      <td>713</td>\n",
       "      <td>719.0</td>\n",
       "      <td>713.0</td>\n",
       "    </tr>\n",
       "    <tr>\n",
       "      <td>1</td>\n",
       "      <td>2019-08-02</td>\n",
       "      <td>20</td>\n",
       "      <td>93822</td>\n",
       "      <td>24</td>\n",
       "      <td>165531</td>\n",
       "      <td>44.0</td>\n",
       "      <td>242401.0</td>\n",
       "      <td>45.0</td>\n",
       "      <td>266748.0</td>\n",
       "      <td>619</td>\n",
       "      <td>581</td>\n",
       "      <td>1338.0</td>\n",
       "      <td>1294.0</td>\n",
       "    </tr>\n",
       "    <tr>\n",
       "      <td>2</td>\n",
       "      <td>2019-08-03</td>\n",
       "      <td>24</td>\n",
       "      <td>112473</td>\n",
       "      <td>16</td>\n",
       "      <td>114248</td>\n",
       "      <td>68.0</td>\n",
       "      <td>354874.0</td>\n",
       "      <td>61.0</td>\n",
       "      <td>380996.0</td>\n",
       "      <td>507</td>\n",
       "      <td>509</td>\n",
       "      <td>1845.0</td>\n",
       "      <td>1803.0</td>\n",
       "    </tr>\n",
       "    <tr>\n",
       "      <td>3</td>\n",
       "      <td>2019-08-04</td>\n",
       "      <td>16</td>\n",
       "      <td>70825</td>\n",
       "      <td>17</td>\n",
       "      <td>108571</td>\n",
       "      <td>84.0</td>\n",
       "      <td>425699.0</td>\n",
       "      <td>78.0</td>\n",
       "      <td>489567.0</td>\n",
       "      <td>717</td>\n",
       "      <td>770</td>\n",
       "      <td>2562.0</td>\n",
       "      <td>2573.0</td>\n",
       "    </tr>\n",
       "    <tr>\n",
       "      <td>4</td>\n",
       "      <td>2019-08-05</td>\n",
       "      <td>25</td>\n",
       "      <td>124218</td>\n",
       "      <td>23</td>\n",
       "      <td>92428</td>\n",
       "      <td>109.0</td>\n",
       "      <td>549917.0</td>\n",
       "      <td>101.0</td>\n",
       "      <td>581995.0</td>\n",
       "      <td>756</td>\n",
       "      <td>707</td>\n",
       "      <td>3318.0</td>\n",
       "      <td>3280.0</td>\n",
       "    </tr>\n",
       "  </tbody>\n",
       "</table>\n",
       "</div>"
      ],
      "text/plain": [
       "        date  A_ordersPerDate  A_revenuePerDate  B_ordersPerDate  \\\n",
       "0 2019-08-01               24            148579               21   \n",
       "1 2019-08-02               20             93822               24   \n",
       "2 2019-08-03               24            112473               16   \n",
       "3 2019-08-04               16             70825               17   \n",
       "4 2019-08-05               25            124218               23   \n",
       "\n",
       "   B_revenuePerDate  cummulative_orders_A  cummulative_revenue_A  \\\n",
       "0            101217                  24.0               148579.0   \n",
       "1            165531                  44.0               242401.0   \n",
       "2            114248                  68.0               354874.0   \n",
       "3            108571                  84.0               425699.0   \n",
       "4             92428                 109.0               549917.0   \n",
       "\n",
       "   cummulative_orders_B  cummulative_revenue_B  A_visitors  B_visitors  \\\n",
       "0                  21.0               101217.0         719         713   \n",
       "1                  45.0               266748.0         619         581   \n",
       "2                  61.0               380996.0         507         509   \n",
       "3                  78.0               489567.0         717         770   \n",
       "4                 101.0               581995.0         756         707   \n",
       "\n",
       "   cummulative_visitors_A  cummulative_visitors_B  \n",
       "0                   719.0                   713.0  \n",
       "1                  1338.0                  1294.0  \n",
       "2                  1845.0                  1803.0  \n",
       "3                  2562.0                  2573.0  \n",
       "4                  3318.0                  3280.0  "
      ]
     },
     "execution_count": 18,
     "metadata": {},
     "output_type": "execute_result"
    }
   ],
   "source": [
    "data_cumm.head() # Проверяем"
   ]
  },
  {
   "cell_type": "code",
   "execution_count": 19,
   "metadata": {},
   "outputs": [],
   "source": [
    "# Для удобства в отображении значений на графике сделаем колонку с днем и месяцев в объединенной таблице\n",
    "data_cumm['date_month_day'] = data_cumm['date'].dt.strftime('%d-%m')"
   ]
  },
  {
   "cell_type": "code",
   "execution_count": 20,
   "metadata": {},
   "outputs": [
    {
     "data": {
      "image/png": "[encoded data removed]",
      "text/plain": [
       "<Figure size 1224x360 with 1 Axes>"
      ]
     },
     "metadata": {
      "needs_background": "light"
     },
     "output_type": "display_data"
    }
   ],
   "source": [
    "data_cumm.plot(\n",
    "        x = 'date_month_day',\n",
    "        y = ['cummulative_revenue_A', 'cummulative_revenue_B'],\n",
    "        grid=True, legend=True,\n",
    "        title='Кумулятивная выручка группы А и В',\n",
    "        figsize=(17,5)\n",
    ")\n",
    "plt.xlabel('Дата')\n",
    "plt.ylabel('Выручка');"
   ]
  },
  {
   "cell_type": "markdown",
   "metadata": {},
   "source": [
    "В целом кумулятивная выручка группы В значительно выше. Лишь в первую неделю кумулятивная выручка двух групп находится на одинаковом уровне. К концу первой недели преобладает выручка группы В. Однако примерно в середине августа наблюдается скачок в выручке группы В. Предполагаем, что присутствует аномальная покупка, поэтому отфильтровать значения и продолжить А/В-тестирование. "
   ]
  },
  {
   "cell_type": "markdown",
   "metadata": {},
   "source": [
    "### Строим график кумулятивного среднего чека\n",
    "\n",
    "Разделим кумулятивную выручку на кумулятивное число заказов"
   ]
  },
  {
   "cell_type": "code",
   "execution_count": 21,
   "metadata": {},
   "outputs": [
    {
     "data": {
      "image/png": "[encoded data removed]",
      "text/plain": [
       "<Figure size 720x360 with 1 Axes>"
      ]
     },
     "metadata": {
      "needs_background": "light"
     },
     "output_type": "display_data"
    }
   ],
   "source": [
    "data_cumm['cumm_revenue_per_user_A'] = data_cumm['cummulative_revenue_A'] / data_cumm['cummulative_orders_A']\n",
    "data_cumm['cumm_revenue_per_user_B'] = data_cumm['cummulative_revenue_B'] / data_cumm['cummulative_orders_B']\n",
    "data_cumm.plot(\n",
    "        x = 'date_month_day',\n",
    "        y = ['cumm_revenue_per_user_A', 'cumm_revenue_per_user_B'],\n",
    "        grid = True,\n",
    "        legend = True,\n",
    "        title = 'Кумулятивный средний чек в группах А и В',\n",
    "        figsize = (10, 5)\n",
    ")\n",
    "plt.ylabel('Средний чек')\n",
    "plt.xlabel('Дата');"
   ]
  },
  {
   "cell_type": "markdown",
   "metadata": {},
   "source": [
    "Схожая картина с графиком кумулятивной выручки. Резкий рост среднего чека наблюдается 19го августа у группы В. После отмечается спад. Но в основном средний чек группы В значительно больше, чем в группе А. Редкие высокие значения по среднему чеку у группы А могут быть связаны с попаданием крупных заказов в данную группу. "
   ]
  },
  {
   "cell_type": "markdown",
   "metadata": {},
   "source": [
    "### Строим график относительного изменения кумулятивного среднего чека группы B к группе A\n",
    "\n",
    "Добавим горизонтальную ось методом axhline()"
   ]
  },
  {
   "cell_type": "code",
   "execution_count": 22,
   "metadata": {},
   "outputs": [
    {
     "data": {
      "image/png": "[encoded data removed]",
      "text/plain": [
       "<Figure size 720x360 with 1 Axes>"
      ]
     },
     "metadata": {
      "needs_background": "light"
     },
     "output_type": "display_data"
    }
   ],
   "source": [
    "# cтроим отношение средних чеков\n",
    "data_cumm['B_on_A_revenue_cumm'] = (\n",
    "    data_cumm['cumm_revenue_per_user_B'] / data_cumm['cumm_revenue_per_user_A']) - 1\n",
    "data_cumm.plot(\n",
    "        x = 'date_month_day',\n",
    "        y = 'B_on_A_revenue_cumm',\n",
    "        grid=True, legend=False,\n",
    "        title='Изменения кумулятивного среднего чека группы B к группе A',\n",
    "        figsize=(10,5)\n",
    ")\n",
    "plt.axhline(y=0, color='black', linestyle='--')\n",
    "plt.ylabel('Относительное изменение')\n",
    "plt.xlabel('Дата');"
   ]
  },
  {
   "cell_type": "markdown",
   "metadata": {},
   "source": [
    "Относительное изменение среднего чека группы В к группе А в первой половине месяца сильно колеблется. Аномальный «скачок» 19го августа, так же отразился на этом графике. Если не принимать во внимание данную крупную покупку, то вероятно, что средний чек группы В будет ниже среднего чека группы А к концу месяца. Данные значения существенно искажают результаты А/В-тестирования."
   ]
  },
  {
   "cell_type": "markdown",
   "metadata": {},
   "source": [
    "### Строим график кумулятивной конверсии по группам\n",
    "\n",
    "Аналогично проанализируем график кумулятивной конверсии. "
   ]
  },
  {
   "cell_type": "code",
   "execution_count": 23,
   "metadata": {},
   "outputs": [
    {
     "data": {
      "image/png": "[encoded data removed]",
      "text/plain": [
       "<Figure size 1080x360 with 1 Axes>"
      ]
     },
     "metadata": {
      "needs_background": "light"
     },
     "output_type": "display_data"
    }
   ],
   "source": [
    "# считаем кумулятивную конверсию\n",
    "data_cumm['convertion_A'] = data_cumm['cummulative_orders_A'] / data_cumm['cummulative_visitors_A']\n",
    "data_cumm['convertion_B'] = data_cumm['cummulative_orders_B'] / data_cumm['cummulative_visitors_B']\n",
    "data_cumm.plot(\n",
    "        x = 'date_month_day',\n",
    "        y = ['convertion_A', 'convertion_B'],\n",
    "        grid=True, legend=True,\n",
    "        title='Кумулятивная конверсия в группах А и В',\n",
    "        figsize=(15,5)\n",
    ")\n",
    "plt.ylabel('Конверсия')\n",
    "plt.xlabel('Дата');"
   ]
  },
  {
   "cell_type": "markdown",
   "metadata": {},
   "source": [
    "К концу месяца показатели конверсии стабилизируются. Конверсия группы В на 0,4% больше, чем у группы А."
   ]
  },
  {
   "cell_type": "markdown",
   "metadata": {},
   "source": [
    "### Строим график относительного изменения кумулятивной конверсии группы B к группе A"
   ]
  },
  {
   "cell_type": "code",
   "execution_count": 24,
   "metadata": {},
   "outputs": [
    {
     "data": {
      "image/png": "[encoded data removed]",
      "text/plain": [
       "<Figure size 720x360 with 1 Axes>"
      ]
     },
     "metadata": {
      "needs_background": "light"
     },
     "output_type": "display_data"
    }
   ],
   "source": [
    "data_cumm['B_on_A_convertion'] = (\n",
    "    data_cumm['convertion_B'] / data_cumm['convertion_A']) - 1\n",
    "data_cumm.plot(\n",
    "        x = 'date_month_day',\n",
    "        y = 'B_on_A_convertion',\n",
    "        grid=True, legend=False,\n",
    "        title='Относительное изменение кумулятивной конверсии группы B к группе A',\n",
    "        figsize=(10,5)\n",
    ")\n",
    "plt.axhline(y=0.1, color='black', linestyle='--')\n",
    "plt.ylabel('Относительное изменение')\n",
    "plt.xlabel('Дата');"
   ]
  },
  {
   "cell_type": "markdown",
   "metadata": {},
   "source": [
    "Относительное изменение кумулятивной конверсии группы В к группе А к концу месяца отмечается на отметке 0,1. В целом конверсия группы В на 10% больше конверсии группы А. Различные колебания на графике трудно интерпертировать однозначно. "
   ]
  },
  {
   "cell_type": "markdown",
   "metadata": {},
   "source": [
    "### Строим точечный график количества заказов по пользователям"
   ]
  },
  {
   "cell_type": "code",
   "execution_count": 25,
   "metadata": {},
   "outputs": [
    {
     "data": {
      "text/html": [
       "<div>\n",
       "<style scoped>\n",
       "    .dataframe tbody tr th:only-of-type {\n",
       "        vertical-align: middle;\n",
       "    }\n",
       "\n",
       "    .dataframe tbody tr th {\n",
       "        vertical-align: top;\n",
       "    }\n",
       "\n",
       "    .dataframe thead th {\n",
       "        text-align: right;\n",
       "    }\n",
       "</style>\n",
       "<table border=\"1\" class=\"dataframe\">\n",
       "  <thead>\n",
       "    <tr style=\"text-align: right;\">\n",
       "      <th></th>\n",
       "      <th>numb</th>\n",
       "      <th>user_id</th>\n",
       "      <th>orders_count</th>\n",
       "    </tr>\n",
       "  </thead>\n",
       "  <tbody>\n",
       "    <tr>\n",
       "      <td>1023</td>\n",
       "      <td>1023</td>\n",
       "      <td>4256040402</td>\n",
       "      <td>11</td>\n",
       "    </tr>\n",
       "    <tr>\n",
       "      <td>591</td>\n",
       "      <td>591</td>\n",
       "      <td>2458001652</td>\n",
       "      <td>11</td>\n",
       "    </tr>\n",
       "    <tr>\n",
       "      <td>569</td>\n",
       "      <td>569</td>\n",
       "      <td>2378935119</td>\n",
       "      <td>9</td>\n",
       "    </tr>\n",
       "    <tr>\n",
       "      <td>487</td>\n",
       "      <td>487</td>\n",
       "      <td>2038680547</td>\n",
       "      <td>8</td>\n",
       "    </tr>\n",
       "    <tr>\n",
       "      <td>44</td>\n",
       "      <td>44</td>\n",
       "      <td>199603092</td>\n",
       "      <td>5</td>\n",
       "    </tr>\n",
       "    <tr>\n",
       "      <td>744</td>\n",
       "      <td>744</td>\n",
       "      <td>3062433592</td>\n",
       "      <td>5</td>\n",
       "    </tr>\n",
       "    <tr>\n",
       "      <td>55</td>\n",
       "      <td>55</td>\n",
       "      <td>237748145</td>\n",
       "      <td>5</td>\n",
       "    </tr>\n",
       "  </tbody>\n",
       "</table>\n",
       "</div>"
      ],
      "text/plain": [
       "      numb     user_id  orders_count\n",
       "1023  1023  4256040402            11\n",
       "591    591  2458001652            11\n",
       "569    569  2378935119             9\n",
       "487    487  2038680547             8\n",
       "44      44   199603092             5\n",
       "744    744  3062433592             5\n",
       "55      55   237748145             5"
      ]
     },
     "execution_count": 25,
     "metadata": {},
     "output_type": "execute_result"
    }
   ],
   "source": [
    "ordersByUsers = orders[['visitorId', 'transactionId']].groupby(\n",
    "    'visitorId', as_index = False)['transactionId'].count().reset_index()\n",
    "ordersByUsers.columns = ['numb', 'user_id', 'orders_count']\n",
    "ordersByUsers.sort_values(by='orders_count', ascending = False).head(7)"
   ]
  },
  {
   "cell_type": "code",
   "execution_count": 26,
   "metadata": {},
   "outputs": [
    {
     "data": {
      "image/png": "[encoded data removed]",
      "text/plain": [
       "<Figure size 720x360 with 1 Axes>"
      ]
     },
     "metadata": {
      "needs_background": "light"
     },
     "output_type": "display_data"
    }
   ],
   "source": [
    "ordersByUsers.plot(\n",
    "        kind = 'scatter',\n",
    "        x = 'numb',\n",
    "        y = 'orders_count',\n",
    "        title = 'Заказы пользователей',\n",
    "        figsize=(10,5)\n",
    ")\n",
    "plt.ylabel('Количество заказов')\n",
    "plt.xlabel('');"
   ]
  },
  {
   "cell_type": "markdown",
   "metadata": {},
   "source": [
    "За исследуемый период основаная часть пользователей совершала 1 заказ, реже — 2 заказа. Редкие пользователи совершают более 3х заказов."
   ]
  },
  {
   "cell_type": "markdown",
   "metadata": {},
   "source": [
    "### Рассчитываем 95-й и 99-й перцентили количества заказов на пользователя\n",
    "\n",
    "Для подсчёта перцентилей применяется метод percentile() библиотеки Numpy"
   ]
  },
  {
   "cell_type": "code",
   "execution_count": 27,
   "metadata": {},
   "outputs": [],
   "source": [
    "np.percentile(ordersByUsers['orders_count'], [95,99])\n",
    "orders_lim = 3"
   ]
  },
  {
   "cell_type": "markdown",
   "metadata": {},
   "source": [
    "Учитывая, что лишь 5% пользователей совершали более двух заказов, будем считать границей «аномального» количества заказов более 3х на клиента за отчетный период."
   ]
  },
  {
   "cell_type": "markdown",
   "metadata": {},
   "source": [
    "### Строим точечный график стоимостей заказов"
   ]
  },
  {
   "cell_type": "code",
   "execution_count": 28,
   "metadata": {},
   "outputs": [
    {
     "data": {
      "image/png": "[encoded data removed]",
      "text/plain": [
       "<Figure size 1224x360 with 2 Axes>"
      ]
     },
     "metadata": {
      "needs_background": "light"
     },
     "output_type": "display_data"
    }
   ],
   "source": [
    "orders['x_values'] = range(0, len(orders))\n",
    "plt.subplots(figsize = (17,5))\n",
    "plot = orders.plot(\n",
    "        kind = 'scatter',\n",
    "        x = 'x_values',\n",
    "        y = 'revenue',\n",
    "        ax = plt.subplot(1,2,1)\n",
    ")\n",
    "plt.xlabel('')\n",
    "plt.ylabel('Выручка');\n",
    "\n",
    "plot = orders.plot(\n",
    "        kind = 'scatter',\n",
    "        x = 'x_values',\n",
    "        y = 'revenue',\n",
    "        ax = plt.subplot(1,2,2),\n",
    "        color = 'red'\n",
    ")\n",
    "plt.xlabel('')\n",
    "plt.ylabel('Выручка')\n",
    "plt.ylim(0,210000);"
   ]
  },
  {
   "cell_type": "markdown",
   "metadata": {},
   "source": [
    "Как мы видим, большая часть заказов не превышает 25 тыс.рублей (график справа). Основная часть заказов сосредоточена в районе 15 тыс. рублей. Помимо этого, наблюдается несколько аномально высоких значений: заказ превышающий стоимость в 1 млн. рублей и заказ стоимость около 200 тыс. рублей. Для более точного определения границы аномалии заказов посчитаем 95-й и 99-й перцентили стоимости заказов."
   ]
  },
  {
   "cell_type": "markdown",
   "metadata": {},
   "source": [
    "### Рассчитываем 95-й и 99-й перцентили стоимости заказов"
   ]
  },
  {
   "cell_type": "code",
   "execution_count": 29,
   "metadata": {},
   "outputs": [],
   "source": [
    "np.percentile(orders['revenue'], [95,99])\n",
    "revenue_lim = 35000"
   ]
  },
  {
   "cell_type": "markdown",
   "metadata": {},
   "source": [
    "Лишь 5% пользователей совершили заказы превышающие 28 тыс. рублей. И 1% пользователей — более 58 тыс. рублей. Учитывая полученый график мы определим границу аномальных заказов в 35 000 рублей."
   ]
  },
  {
   "cell_type": "markdown",
   "metadata": {},
   "source": [
    "### Рассчитываем статистическую значимость различий в конверсии между группами по «сырым» данным"
   ]
  },
  {
   "cell_type": "markdown",
   "metadata": {},
   "source": [
    "Данный рассчет будет провоидтся по «сырым» данным с учетом аномальных значений.\n",
    "\n",
    "Создадим переменные ordersByUsersA и ordersByUsersB со столбцами ['userId', 'orders']. В них для пользователей, которые заказывали хотя бы 1 раз, укажем число совершённых заказов."
   ]
  },
  {
   "cell_type": "code",
   "execution_count": 30,
   "metadata": {},
   "outputs": [],
   "source": [
    "# Пользователи совершающие заказы и количество их заказов\n",
    "ordersByUsersA = orders[orders['group'] == 'A'].groupby(\n",
    "    'visitorId', as_index = False).agg({'transactionId': pd.Series.nunique})\n",
    "ordersByUsersB = orders[orders['group'] == 'B'].groupby(\n",
    "    'visitorId', as_index = False).agg({'transactionId': pd.Series.nunique})\n",
    "\n",
    "# Даем названия столбцам\n",
    "ordersByUsersA.columns = ['userId', 'orders']\n",
    "ordersByUsersB.columns = ['userId', 'orders']\n",
    "\n",
    "# Объявим переменные sample_A и sample_B, в которых пользователям из разных групп будет соответствовать количество заказов\n",
    "sample_A = pd.concat([\n",
    "    ordersByUsersA['orders'],\n",
    "    pd.Series(0, index = np.arange(data_cumm['A_visitors'].sum() - len(\n",
    "        ordersByUsersA['orders'])),\n",
    "             name = 'orders')], axis = 0)\n",
    "\n",
    "sample_B = pd.concat([\n",
    "    ordersByUsersB['orders'],\n",
    "    pd.Series(0, index = np.arange(data_cumm['B_visitors'].sum() - len(\n",
    "        ordersByUsersB['orders'])),\n",
    "             name = 'orders')], axis = 0)\n",
    "\n",
    "# Список индексов создали функцией np.arange()\n",
    "# Последовательности объединяем функцией pd.concat() "
   ]
  },
  {
   "cell_type": "markdown",
   "metadata": {},
   "source": [
    "Применяем метод Манна-Уитни st.mannwhitneyu() (от англ. «U-критерий Манна-Уитни»).\n",
    "\n",
    "Критерий значимости определяем 0,05"
   ]
  },
  {
   "cell_type": "code",
   "execution_count": 31,
   "metadata": {},
   "outputs": [
    {
     "name": "stdout",
     "output_type": "stream",
     "text": [
      "p-value Манна-Уитни: 0.008\n",
      "Различия в конверсии между группами: 13.8%\n"
     ]
    }
   ],
   "source": [
    "print('p-value Манна-Уитни: {:.3f}'.format(st.mannwhitneyu(\n",
    "        sample_A,\n",
    "        sample_B)[1]))\n",
    "print('Различия в конверсии между группами: {:.1%}'.format(\n",
    "        sample_B.mean()/sample_A.mean() - 1))"
   ]
  },
  {
   "cell_type": "markdown",
   "metadata": {},
   "source": [
    "По «сырым» данным конверсия группы В больше примерно на 14% в сравнении с группой А. Данное значение является статистически значимым. Однако представленные результаты могут быть искажены из-за наличия аномальных значений."
   ]
  },
  {
   "cell_type": "markdown",
   "metadata": {},
   "source": [
    "### Рассчитываем статистическую значимость различий в среднем чеке заказа между группами по «сырым» данным\n",
    "\n",
    "Чтобы рассчитать статистическую значимость различий в среднем чеке между сегментами, передадим критерию mannwhitneyu() данные о выручке с заказов.\n",
    "\n",
    "Уровень значимости 5%"
   ]
  },
  {
   "cell_type": "code",
   "execution_count": 32,
   "metadata": {},
   "outputs": [
    {
     "name": "stdout",
     "output_type": "stream",
     "text": [
      "p-value Манна-Уитни: 0.365\n",
      "Относительный прирост среднего чека: 25.9%\n"
     ]
    }
   ],
   "source": [
    "print('p-value Манна-Уитни: {:.3f}'.format(\n",
    "    st.mannwhitneyu(\n",
    "        orders[orders['group'] == 'A']['revenue'],\n",
    "        orders[orders['group'] == 'B']['revenue']\n",
    "    )[1]))\n",
    "\n",
    "print('Относительный прирост среднего чека: {:.1%}'.format(\n",
    "    orders[orders['group'] == 'B']['revenue'].mean() / orders[orders['group'] == 'A']['revenue'].mean()-1))"
   ]
  },
  {
   "cell_type": "markdown",
   "metadata": {},
   "source": [
    "Показатель p-value значительно выше уровня статистической значимости. Это говорит нам о том, что между группами А и В нет статистически значимых различий в значениях среднего чека. Однако, значение в группе В значительно выше, чем в группе А (~26%). Скорее всего, это связано с наличием \n",
    "аномально высоких покупок совершенных 19го августа. "
   ]
  },
  {
   "cell_type": "markdown",
   "metadata": {},
   "source": [
    "### Рассчитываем статистическую значимость различий в конверсии между группами по «очищенным» данным"
   ]
  },
  {
   "cell_type": "code",
   "execution_count": 33,
   "metadata": {},
   "outputs": [
    {
     "data": {
      "text/html": [
       "<div>\n",
       "<style scoped>\n",
       "    .dataframe tbody tr th:only-of-type {\n",
       "        vertical-align: middle;\n",
       "    }\n",
       "\n",
       "    .dataframe tbody tr th {\n",
       "        vertical-align: top;\n",
       "    }\n",
       "\n",
       "    .dataframe thead th {\n",
       "        text-align: right;\n",
       "    }\n",
       "</style>\n",
       "<table border=\"1\" class=\"dataframe\">\n",
       "  <thead>\n",
       "    <tr style=\"text-align: right;\">\n",
       "      <th></th>\n",
       "      <th>transactionId</th>\n",
       "      <th>visitorId</th>\n",
       "      <th>date</th>\n",
       "      <th>revenue</th>\n",
       "      <th>group</th>\n",
       "      <th>x_values</th>\n",
       "    </tr>\n",
       "  </thead>\n",
       "  <tbody>\n",
       "    <tr>\n",
       "      <td>425</td>\n",
       "      <td>590470918</td>\n",
       "      <td>1920142716</td>\n",
       "      <td>2019-08-19</td>\n",
       "      <td>1294500</td>\n",
       "      <td>B</td>\n",
       "      <td>425</td>\n",
       "    </tr>\n",
       "  </tbody>\n",
       "</table>\n",
       "</div>"
      ],
      "text/plain": [
       "     transactionId   visitorId       date  revenue group  x_values\n",
       "425      590470918  1920142716 2019-08-19  1294500     B       425"
      ]
     },
     "execution_count": 33,
     "metadata": {},
     "output_type": "execute_result"
    }
   ],
   "source": [
    "# Найдем пользователя совершившего покупку 19го августа и узнаем сумму\n",
    "orders[np.logical_and(orders['date'] == '2019-08-19', orders['revenue'] > 100000)]"
   ]
  },
  {
   "cell_type": "markdown",
   "metadata": {},
   "source": [
    "Таким образом, аномальная покупка в группе В, в размере 1 294 500 рублей, совместно с другими выбросами оказывает существенное влияние на результаты статистических методов. \n",
    "\n",
    "Также, ранее мы определили границы отделяющие аномальные значения:\n",
    "- количество покупок — не более 3х\n",
    "- сумма выручки с заказа — не более 30 тыс. рублей\n",
    "\n",
    "\n",
    "Так мы уберём 5% пользователей с наибольшим числом заказов и от 1% до 5% пользователей с дорогими заказами. "
   ]
  },
  {
   "cell_type": "code",
   "execution_count": 34,
   "metadata": {},
   "outputs": [
    {
     "name": "stdout",
     "output_type": "stream",
     "text": [
      "1099    148427295\n",
      "18      199603092\n",
      "23      237748145\n",
      "684     358944393\n",
      "648     382846391\n",
      "dtype: int64\n",
      "\n",
      "Количество аномальных пользователей:  (42,)\n"
     ]
    }
   ],
   "source": [
    "# Делаем срез пользователей по превышающему количеству заказов\n",
    "users_many_orders = pd.concat([\n",
    "        ordersByUsersA[ordersByUsersA['orders'] > orders_lim]['userId'],\n",
    "        ordersByUsersB[ordersByUsersB['orders'] > orders_lim]['userId']\n",
    "], axis = 0)\n",
    "\n",
    "# Делаем срез пользователей по сверхдорогим заказам\n",
    "users_expensive = orders[orders['revenue'] > revenue_lim]['visitorId']\n",
    "\n",
    "# Объединяем их в таблицу «аномальных» пользователей\n",
    "abnormal_users = pd.concat([\n",
    "    users_many_orders,\n",
    "    users_expensive\n",
    "], axis = 0).drop_duplicates().sort_values()\n",
    "\n",
    "print(abnormal_users.head())\n",
    "print()\n",
    "print('Количество аномальных пользователей: ', abnormal_users.shape)"
   ]
  },
  {
   "cell_type": "markdown",
   "metadata": {},
   "source": [
    "Посчитаем статистическую значимость различий в конверсии между группами теста по очищенным данным. Сначала подготовим выборки количества заказов по пользователям по группам теста."
   ]
  },
  {
   "cell_type": "code",
   "execution_count": 35,
   "metadata": {},
   "outputs": [],
   "source": [
    "sample_A_filtered = pd.concat([\n",
    "    ordersByUsersA[np.logical_not(ordersByUsersA['userId'].isin(abnormal_users))]['orders'],\n",
    "    pd.Series(0, index = np.arange(data_cumm['A_visitors'].sum() - len(\n",
    "    ordersByUsersA['orders'])), name = 'orders')], axis = 0)\n",
    "\n",
    "sample_B_filtered = pd.concat([\n",
    "    ordersByUsersB[np.logical_not(ordersByUsersB['userId'].isin(abnormal_users))]['orders'],\n",
    "    pd.Series(0, index = np.arange(data_cumm['B_visitors'].sum() - len(\n",
    "    ordersByUsersB['orders'])), name = 'orders')], axis = 0)"
   ]
  },
  {
   "cell_type": "code",
   "execution_count": 36,
   "metadata": {},
   "outputs": [
    {
     "name": "stdout",
     "output_type": "stream",
     "text": [
      "p-value Манна-Уитни: 0.007\n",
      "Различия в конверсии между группами: 15.5%\n"
     ]
    }
   ],
   "source": [
    "print('p-value Манна-Уитни: {:.3f}'.format(st.mannwhitneyu(\n",
    "    sample_A_filtered,\n",
    "    sample_B_filtered)[1]))\n",
    "print('Различия в конверсии между группами: {:.1%}'.format(\n",
    "    sample_B_filtered.mean() / sample_A_filtered.mean() - 1))"
   ]
  },
  {
   "cell_type": "markdown",
   "metadata": {},
   "source": [
    "После отчистки данных от аномальных значений, статистическая значимость роста конверсии в группе В сохраняется и равна 15%."
   ]
  },
  {
   "cell_type": "markdown",
   "metadata": {},
   "source": [
    "### Рассчитываем статистическую значимость различий в среднем чеке заказа между группами по «очищенным» данным\n",
    "\n",
    "\n",
    "Уровень статистической значимости 0,05"
   ]
  },
  {
   "cell_type": "code",
   "execution_count": 37,
   "metadata": {},
   "outputs": [
    {
     "name": "stdout",
     "output_type": "stream",
     "text": [
      "p-value Манна-Уитни: 0.437\n",
      "Относительный прирост среднего чека: 2.5%\n"
     ]
    }
   ],
   "source": [
    "print('p-value Манна-Уитни: {:.3f}'.format(\n",
    "    st.mannwhitneyu(\n",
    "        orders[np.logical_and(\n",
    "            orders['group'] == 'A',\n",
    "            np.logical_not(orders['visitorId'].isin(abnormal_users)))]['revenue'],\n",
    "        orders[np.logical_and(\n",
    "            orders['group'] == 'B',\n",
    "            np.logical_not(orders['visitorId'].isin(abnormal_users)))]['revenue']\n",
    "    )[1]))\n",
    "\n",
    "print('Относительный прирост среднего чека: {:.1%}'.format(\n",
    "    orders[np.logical_and(\n",
    "        orders['group'] == 'B',\n",
    "        np.logical_not(orders['visitorId'].isin(abnormal_users)))]['revenue'].mean() / orders[\n",
    "        np.logical_and(orders['group'] == 'A',\n",
    "                       np.logical_not(\n",
    "                           orders['visitorId'].isin(abnormal_users)))]['revenue'].mean() - 1))"
   ]
  },
  {
   "cell_type": "markdown",
   "metadata": {},
   "source": [
    "После отчистки данных от аномальных значений, между группами по-прежнему нет статистически значимых различий в значениях среднего чека. Величина относительного прироста среднего чека группы В к группе А скорректировалась до 2,4%."
   ]
  },
  {
   "cell_type": "markdown",
   "metadata": {},
   "source": [
    "## Вывод"
   ]
  },
  {
   "cell_type": "markdown",
   "metadata": {},
   "source": [
    "Мы провели анализ А/В-тестирования по гипотезе о добавлении блоков рекомендаций товаров на сайт интернет магазина, для повышения конверсии и среднего чека заказа. \n",
    "\n",
    "В результате анализа данных проведенного теста мы выявили:\n",
    "\n",
    "- Присутствует статистически значимой различие по конверсии между группами и по «сырым», и по отфильтрованным данным. Прирост конверсии в группе В (исследуемая группа) в сравнении с группой А равен 15%. То есть, группа В имеет более высокую конверсию чем группа А.\n",
    "\n",
    "- Нет статистически значимого различия по среднему чеку между группами ни по «сырым», ни по данным после фильтрации аномалий. После удаления аномальных значений уровень среднего чека в исследуемой группе составил 2% к концу месяца. \n",
    "\n",
    "- График различия конверсии между группами сообщает, что результаты группы B значительно лучше группы A и есть тенденця к стабилизированию значений к концу месяца. \n",
    "\n",
    "- График различия среднего чека говорит о том, что результаты группы B колеблются в начале месяца и снижаются лишь к концу месяца. То есть, средний чек группы В стремится к среднему чеку группы А.\n",
    "\n",
    "- В целом, графики относительных и абсолютных метрик стабилизируются только к концу месяца, поэтому на данный момент нельзя говорить об окончательном результате. \n",
    "\n",
    "Таким образом, рекомендуем продлить А/В-тестирование еще на 10 дней для уточнения результатов. На данный момент, в результате добавления блоков рекомендаций увеличивается конверсия, но средний чек не изменяется. Возможно, подобная маркетинговая стратегия по увеличению конверсии приведет к дополнительным продажам в будущем, за счет узнаваемости интернет-магазина. Но сейчас об этом говорить трудно. Также, необходимо четче сформулировать гипотезу по email рассылкам и формировании базы, для дальнейшего исследования.\n",
    "\t"
   ]
  },
  {
   "cell_type": "code",
   "execution_count": null,
   "metadata": {},
   "outputs": [],
   "source": []
  }
 ],
 "metadata": {
  "kernelspec": {
   "display_name": "Python 3",
   "language": "python",
   "name": "python3"
  },
  "language_info": {
   "codemirror_mode": {
    "name": "ipython",
    "version": 3
   },
   "file_extension": ".py",
   "mimetype": "text/x-python",
   "name": "python",
   "nbconvert_exporter": "python",
   "pygments_lexer": "ipython3",
   "version": "3.7.4"
  }
 },
 "nbformat": 4,
 "nbformat_minor": 2
}
