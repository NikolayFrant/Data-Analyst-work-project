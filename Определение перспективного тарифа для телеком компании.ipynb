{
 "cells": [
  {
   "cell_type": "markdown",
   "metadata": {},
   "source": [
    "## Определение перспективного тарифа для телеком компании\n",
    "\n",
    "Клиентам компании «Мегалайн» предлагается два тарифных плана: «Смарт» и «Ультра». Чтобы скорректировать рекламный бюджет, коммерческий департамент хочет понять, какой тариф приносит больше денег.\n",
    "\n",
    "Нам необходимо сделать предварительный анализ тарифов на небольшой выборке клиентов. В нашем распоряжении данные 500 пользователей «Мегалайна»: кто они, откуда, каким тарифом пользуются, сколько звонков и сообщений каждый отправил за 2018 год. \n",
    "\n",
    "##### Задача: \n",
    "     Нужно проанализировать поведение клиентов и сделать вывод — какой тариф лучше.\n",
    "\n"
   ]
  },
  {
   "cell_type": "markdown",
   "metadata": {},
   "source": [
    "### Описание тарифов:\n",
    "\n",
    "   #### Тариф «Смарт» \n",
    "        1. Ежемесячная плата: 550 рублей\n",
    "        2. Включено 500 минут разговора, 50 сообщений и 15 Гб интернет-трафика\n",
    "        3. Стоимость услуг сверх тарифного пакета:\n",
    "            - минута разговора: 3 рубля («Мегалайн» всегда округляет вверх значения минут и мегабайтов. \n",
    "            Если пользователь проговорил всего 1 секунду, в тарифе засчитывается целая минута.)\n",
    "            - сообщение: 3 рубля\n",
    "            - 1 Гб интернет-трафика: 200 рублей\n",
    "            \n",
    "            \n",
    "            \n",
    "   #### Тариф «Ультра»\n",
    "        1. Ежемесячная плата: 1950 рублей\n",
    "        2. Включено 3000 минут разговора, 1000 сообщений и 30 Гб интернет-трафика\n",
    "        3. Стоимость услуг сверх тарифного пакета:\n",
    "            - минута разговора: 1 рубль\n",
    "            - сообщение: 1 рубль\n",
    "            - 1 Гб интернет-трафика: 150 рублей\n",
    "            \n",
    "\n",
    "\n",
    "\n",
    "\n",
    "\n",
    "\n",
    "            "
   ]
  },
  {
   "cell_type": "markdown",
   "metadata": {},
   "source": [
    "### Описание данных\n",
    "   #### Таблица users (информация о пользователях):\n",
    "\n",
    "- user_id — уникальный идентификатор пользователя\n",
    "\n",
    "- first_name — имя пользователя\n",
    "\n",
    "- last_name — фамилия пользователя\n",
    "\n",
    "- age — возраст пользователя (годы)\n",
    "\n",
    "- reg_date — дата подключения тарифа (день, месяц, год)\n",
    "\n",
    "- churn_date — дата прекращения пользования тарифом (если значение пропущено, то тариф ещё действовал на момент выгрузки данных)\n",
    "\n",
    "- city — город проживания пользователя\n",
    "\n",
    "- tariff — название тарифного плана\n",
    "\n",
    "   #### Таблица calls (информация о звонках):\n",
    "\n",
    "- id — уникальный номер звонка\n",
    "\n",
    "- call_date — дата звонка\n",
    "\n",
    "- duration — длительность звонка в минутах\n",
    "\n",
    "- user_id — идентификатор пользователя, сделавшего звонок\n",
    "\n",
    "   #### Таблица messages (информация о сообщениях):\n",
    "   \n",
    "- id — уникальный номер сообщения\n",
    "\n",
    "- message_date — дата сообщения\n",
    "\n",
    "- user_id — идентификатор пользователя, отправившего сообщение\n",
    "\n",
    "   #### Таблица internet (информация об интернет-сессиях):\n",
    "   \n",
    "- id — уникальный номер сессии\n",
    "\n",
    "- mb_used — объём потраченного за сессию интернет-трафика (в мегабайтах)\n",
    "\n",
    "- session_date — дата интернет-сессии\n",
    "\n",
    "- user_id — идентификатор пользователя\n",
    "\n",
    "   #### Таблица tariffs (информация о тарифах):\n",
    "   \n",
    "- tariff_name — название тарифа\n",
    "\n",
    "- rub_monthly_fee — ежемесячная абонентская плата в рублях\n",
    "\n",
    "- minutes_included — количество минут разговора в месяц, включённых в абонентскую плату\n",
    "\n",
    "- messages_included — количество сообщений в месяц, включённых в абонентскую плату\n",
    "\n",
    "- mb_per_month_included — объём интернет-трафика, включённого в абонентскую плату (в мегабайтах)\n",
    "\n",
    "- rub_per_minute — стоимость минуты разговора сверх тарифного пакета (например, если в тарифе 100 минут разговора в месяц, то со 101 минуты будет взиматься плата)\n",
    "\n",
    "- rub_per_message — стоимость отправки сообщения сверх тарифного пакета\n",
    "\n",
    "- rub_per_gb — стоимость дополнительного гигабайта интернет-трафика сверх тарифного пакета (1 гигабайт = 1024 мегабайта)"
   ]
  },
  {
   "cell_type": "markdown",
   "metadata": {},
   "source": [
    "### Подготовка, загрузка библиотек\n",
    "\n",
    "Загрузим библиотеки и методы необходимые для решения задачи. Нам потребуются pandas, matplotlib, numpy, math, scipy "
   ]
  },
  {
   "cell_type": "code",
   "execution_count": 1,
   "metadata": {},
   "outputs": [],
   "source": [
    "import pandas as pd\n",
    "import matplotlib.pyplot as plt\n",
    "import numpy as np\n",
    "import math \n",
    "from scipy import stats as st"
   ]
  },
  {
   "cell_type": "markdown",
   "metadata": {},
   "source": [
    "### Загрузка данных и изучение общей информации\n",
    "Загрузим датасеты и изучим их"
   ]
  },
  {
   "cell_type": "code",
   "execution_count": 2,
   "metadata": {},
   "outputs": [],
   "source": [
    "calls = pd.read_csv('/datasets/calls.csv')"
   ]
  },
  {
   "cell_type": "code",
   "execution_count": 3,
   "metadata": {},
   "outputs": [
    {
     "name": "stdout",
     "output_type": "stream",
     "text": [
      "<class 'pandas.core.frame.DataFrame'>\n",
      "RangeIndex: 202607 entries, 0 to 202606\n",
      "Data columns (total 4 columns):\n",
      "id           202607 non-null object\n",
      "call_date    202607 non-null object\n",
      "duration     202607 non-null float64\n",
      "user_id      202607 non-null int64\n",
      "dtypes: float64(1), int64(1), object(2)\n",
      "memory usage: 6.2+ MB\n"
     ]
    }
   ],
   "source": [
    "calls.info()"
   ]
  },
  {
   "cell_type": "code",
   "execution_count": 4,
   "metadata": {},
   "outputs": [
    {
     "data": {
      "text/html": [
       "<div>\n",
       "<style scoped>\n",
       "    .dataframe tbody tr th:only-of-type {\n",
       "        vertical-align: middle;\n",
       "    }\n",
       "\n",
       "    .dataframe tbody tr th {\n",
       "        vertical-align: top;\n",
       "    }\n",
       "\n",
       "    .dataframe thead th {\n",
       "        text-align: right;\n",
       "    }\n",
       "</style>\n",
       "<table border=\"1\" class=\"dataframe\">\n",
       "  <thead>\n",
       "    <tr style=\"text-align: right;\">\n",
       "      <th></th>\n",
       "      <th>id</th>\n",
       "      <th>call_date</th>\n",
       "      <th>duration</th>\n",
       "      <th>user_id</th>\n",
       "    </tr>\n",
       "  </thead>\n",
       "  <tbody>\n",
       "    <tr>\n",
       "      <td>0</td>\n",
       "      <td>1000_0</td>\n",
       "      <td>2018-07-25</td>\n",
       "      <td>0.00</td>\n",
       "      <td>1000</td>\n",
       "    </tr>\n",
       "    <tr>\n",
       "      <td>1</td>\n",
       "      <td>1000_1</td>\n",
       "      <td>2018-08-17</td>\n",
       "      <td>0.00</td>\n",
       "      <td>1000</td>\n",
       "    </tr>\n",
       "    <tr>\n",
       "      <td>2</td>\n",
       "      <td>1000_2</td>\n",
       "      <td>2018-06-11</td>\n",
       "      <td>2.85</td>\n",
       "      <td>1000</td>\n",
       "    </tr>\n",
       "    <tr>\n",
       "      <td>3</td>\n",
       "      <td>1000_3</td>\n",
       "      <td>2018-09-21</td>\n",
       "      <td>13.80</td>\n",
       "      <td>1000</td>\n",
       "    </tr>\n",
       "    <tr>\n",
       "      <td>4</td>\n",
       "      <td>1000_4</td>\n",
       "      <td>2018-12-15</td>\n",
       "      <td>5.18</td>\n",
       "      <td>1000</td>\n",
       "    </tr>\n",
       "  </tbody>\n",
       "</table>\n",
       "</div>"
      ],
      "text/plain": [
       "       id   call_date  duration  user_id\n",
       "0  1000_0  2018-07-25      0.00     1000\n",
       "1  1000_1  2018-08-17      0.00     1000\n",
       "2  1000_2  2018-06-11      2.85     1000\n",
       "3  1000_3  2018-09-21     13.80     1000\n",
       "4  1000_4  2018-12-15      5.18     1000"
      ]
     },
     "execution_count": 4,
     "metadata": {},
     "output_type": "execute_result"
    }
   ],
   "source": [
    "calls.head()"
   ]
  },
  {
   "cell_type": "markdown",
   "metadata": {},
   "source": [
    "- call_date (дата звонка) передан как строковый объект, необходим формат даты;\n",
    "- duration (длительность звонка) передан с плавающей запятой, нужно привести к целочисленному формату;\n",
    "\n"
   ]
  },
  {
   "cell_type": "code",
   "execution_count": 5,
   "metadata": {},
   "outputs": [],
   "source": [
    "internet = pd.read_csv('/datasets/internet.csv')"
   ]
  },
  {
   "cell_type": "code",
   "execution_count": 6,
   "metadata": {},
   "outputs": [
    {
     "name": "stdout",
     "output_type": "stream",
     "text": [
      "<class 'pandas.core.frame.DataFrame'>\n",
      "RangeIndex: 149396 entries, 0 to 149395\n",
      "Data columns (total 4 columns):\n",
      "id              149396 non-null object\n",
      "mb_used         149396 non-null float64\n",
      "session_date    149396 non-null object\n",
      "user_id         149396 non-null int64\n",
      "dtypes: float64(1), int64(1), object(2)\n",
      "memory usage: 4.6+ MB\n"
     ]
    }
   ],
   "source": [
    "internet.info()"
   ]
  },
  {
   "cell_type": "code",
   "execution_count": 7,
   "metadata": {},
   "outputs": [
    {
     "data": {
      "text/html": [
       "<div>\n",
       "<style scoped>\n",
       "    .dataframe tbody tr th:only-of-type {\n",
       "        vertical-align: middle;\n",
       "    }\n",
       "\n",
       "    .dataframe tbody tr th {\n",
       "        vertical-align: top;\n",
       "    }\n",
       "\n",
       "    .dataframe thead th {\n",
       "        text-align: right;\n",
       "    }\n",
       "</style>\n",
       "<table border=\"1\" class=\"dataframe\">\n",
       "  <thead>\n",
       "    <tr style=\"text-align: right;\">\n",
       "      <th></th>\n",
       "      <th>id</th>\n",
       "      <th>mb_used</th>\n",
       "      <th>session_date</th>\n",
       "      <th>user_id</th>\n",
       "    </tr>\n",
       "  </thead>\n",
       "  <tbody>\n",
       "    <tr>\n",
       "      <td>0</td>\n",
       "      <td>1000_0</td>\n",
       "      <td>112.95</td>\n",
       "      <td>2018-11-25</td>\n",
       "      <td>1000</td>\n",
       "    </tr>\n",
       "    <tr>\n",
       "      <td>1</td>\n",
       "      <td>1000_1</td>\n",
       "      <td>1052.81</td>\n",
       "      <td>2018-09-07</td>\n",
       "      <td>1000</td>\n",
       "    </tr>\n",
       "    <tr>\n",
       "      <td>2</td>\n",
       "      <td>1000_2</td>\n",
       "      <td>1197.26</td>\n",
       "      <td>2018-06-25</td>\n",
       "      <td>1000</td>\n",
       "    </tr>\n",
       "    <tr>\n",
       "      <td>3</td>\n",
       "      <td>1000_3</td>\n",
       "      <td>550.27</td>\n",
       "      <td>2018-08-22</td>\n",
       "      <td>1000</td>\n",
       "    </tr>\n",
       "    <tr>\n",
       "      <td>4</td>\n",
       "      <td>1000_4</td>\n",
       "      <td>302.56</td>\n",
       "      <td>2018-09-24</td>\n",
       "      <td>1000</td>\n",
       "    </tr>\n",
       "  </tbody>\n",
       "</table>\n",
       "</div>"
      ],
      "text/plain": [
       "       id  mb_used session_date  user_id\n",
       "0  1000_0   112.95   2018-11-25     1000\n",
       "1  1000_1  1052.81   2018-09-07     1000\n",
       "2  1000_2  1197.26   2018-06-25     1000\n",
       "3  1000_3   550.27   2018-08-22     1000\n",
       "4  1000_4   302.56   2018-09-24     1000"
      ]
     },
     "execution_count": 7,
     "metadata": {},
     "output_type": "execute_result"
    }
   ],
   "source": [
    "internet.head()"
   ]
  },
  {
   "cell_type": "markdown",
   "metadata": {},
   "source": [
    "- session_date (дата интернет-сессии) передан как строковый объект, необходим формат даты."
   ]
  },
  {
   "cell_type": "code",
   "execution_count": 8,
   "metadata": {},
   "outputs": [],
   "source": [
    "messag = pd.read_csv('/datasets/messages.csv')"
   ]
  },
  {
   "cell_type": "code",
   "execution_count": 9,
   "metadata": {},
   "outputs": [
    {
     "name": "stdout",
     "output_type": "stream",
     "text": [
      "<class 'pandas.core.frame.DataFrame'>\n",
      "RangeIndex: 123036 entries, 0 to 123035\n",
      "Data columns (total 3 columns):\n",
      "id              123036 non-null object\n",
      "message_date    123036 non-null object\n",
      "user_id         123036 non-null int64\n",
      "dtypes: int64(1), object(2)\n",
      "memory usage: 2.8+ MB\n"
     ]
    }
   ],
   "source": [
    "messag.info()"
   ]
  },
  {
   "cell_type": "code",
   "execution_count": 10,
   "metadata": {},
   "outputs": [
    {
     "data": {
      "text/html": [
       "<div>\n",
       "<style scoped>\n",
       "    .dataframe tbody tr th:only-of-type {\n",
       "        vertical-align: middle;\n",
       "    }\n",
       "\n",
       "    .dataframe tbody tr th {\n",
       "        vertical-align: top;\n",
       "    }\n",
       "\n",
       "    .dataframe thead th {\n",
       "        text-align: right;\n",
       "    }\n",
       "</style>\n",
       "<table border=\"1\" class=\"dataframe\">\n",
       "  <thead>\n",
       "    <tr style=\"text-align: right;\">\n",
       "      <th></th>\n",
       "      <th>id</th>\n",
       "      <th>message_date</th>\n",
       "      <th>user_id</th>\n",
       "    </tr>\n",
       "  </thead>\n",
       "  <tbody>\n",
       "    <tr>\n",
       "      <td>0</td>\n",
       "      <td>1000_0</td>\n",
       "      <td>2018-06-27</td>\n",
       "      <td>1000</td>\n",
       "    </tr>\n",
       "    <tr>\n",
       "      <td>1</td>\n",
       "      <td>1000_1</td>\n",
       "      <td>2018-10-08</td>\n",
       "      <td>1000</td>\n",
       "    </tr>\n",
       "    <tr>\n",
       "      <td>2</td>\n",
       "      <td>1000_2</td>\n",
       "      <td>2018-08-04</td>\n",
       "      <td>1000</td>\n",
       "    </tr>\n",
       "    <tr>\n",
       "      <td>3</td>\n",
       "      <td>1000_3</td>\n",
       "      <td>2018-06-16</td>\n",
       "      <td>1000</td>\n",
       "    </tr>\n",
       "    <tr>\n",
       "      <td>4</td>\n",
       "      <td>1000_4</td>\n",
       "      <td>2018-12-05</td>\n",
       "      <td>1000</td>\n",
       "    </tr>\n",
       "  </tbody>\n",
       "</table>\n",
       "</div>"
      ],
      "text/plain": [
       "       id message_date  user_id\n",
       "0  1000_0   2018-06-27     1000\n",
       "1  1000_1   2018-10-08     1000\n",
       "2  1000_2   2018-08-04     1000\n",
       "3  1000_3   2018-06-16     1000\n",
       "4  1000_4   2018-12-05     1000"
      ]
     },
     "execution_count": 10,
     "metadata": {},
     "output_type": "execute_result"
    }
   ],
   "source": [
    "messag.head()"
   ]
  },
  {
   "cell_type": "markdown",
   "metadata": {},
   "source": [
    "- message_date (дата сообщения) передан как строковый объект, необходим формат даты."
   ]
  },
  {
   "cell_type": "code",
   "execution_count": 11,
   "metadata": {},
   "outputs": [],
   "source": [
    "tariffs = pd.read_csv('/datasets/tariffs.csv')"
   ]
  },
  {
   "cell_type": "code",
   "execution_count": 12,
   "metadata": {},
   "outputs": [
    {
     "name": "stdout",
     "output_type": "stream",
     "text": [
      "<class 'pandas.core.frame.DataFrame'>\n",
      "RangeIndex: 2 entries, 0 to 1\n",
      "Data columns (total 8 columns):\n",
      "messages_included        2 non-null int64\n",
      "mg_per_month_included    2 non-null int64\n",
      "minutes_included         2 non-null int64\n",
      "rub_monthly_fee          2 non-null int64\n",
      "rub_per_gb               2 non-null int64\n",
      "rub_per_message          2 non-null int64\n",
      "rub_per_minute           2 non-null int64\n",
      "tariff_name              2 non-null object\n",
      "dtypes: int64(7), object(1)\n",
      "memory usage: 256.0+ bytes\n"
     ]
    }
   ],
   "source": [
    "tariffs.info()"
   ]
  },
  {
   "cell_type": "code",
   "execution_count": 13,
   "metadata": {},
   "outputs": [
    {
     "data": {
      "text/html": [
       "<div>\n",
       "<style scoped>\n",
       "    .dataframe tbody tr th:only-of-type {\n",
       "        vertical-align: middle;\n",
       "    }\n",
       "\n",
       "    .dataframe tbody tr th {\n",
       "        vertical-align: top;\n",
       "    }\n",
       "\n",
       "    .dataframe thead th {\n",
       "        text-align: right;\n",
       "    }\n",
       "</style>\n",
       "<table border=\"1\" class=\"dataframe\">\n",
       "  <thead>\n",
       "    <tr style=\"text-align: right;\">\n",
       "      <th></th>\n",
       "      <th>messages_included</th>\n",
       "      <th>mg_per_month_included</th>\n",
       "      <th>minutes_included</th>\n",
       "      <th>rub_monthly_fee</th>\n",
       "      <th>rub_per_gb</th>\n",
       "      <th>rub_per_message</th>\n",
       "      <th>rub_per_minute</th>\n",
       "      <th>tariff_name</th>\n",
       "    </tr>\n",
       "  </thead>\n",
       "  <tbody>\n",
       "    <tr>\n",
       "      <td>0</td>\n",
       "      <td>50</td>\n",
       "      <td>15360</td>\n",
       "      <td>500</td>\n",
       "      <td>550</td>\n",
       "      <td>200</td>\n",
       "      <td>3</td>\n",
       "      <td>3</td>\n",
       "      <td>smart</td>\n",
       "    </tr>\n",
       "    <tr>\n",
       "      <td>1</td>\n",
       "      <td>1000</td>\n",
       "      <td>30720</td>\n",
       "      <td>3000</td>\n",
       "      <td>1950</td>\n",
       "      <td>150</td>\n",
       "      <td>1</td>\n",
       "      <td>1</td>\n",
       "      <td>ultra</td>\n",
       "    </tr>\n",
       "  </tbody>\n",
       "</table>\n",
       "</div>"
      ],
      "text/plain": [
       "   messages_included  mg_per_month_included  minutes_included  \\\n",
       "0                 50                  15360               500   \n",
       "1               1000                  30720              3000   \n",
       "\n",
       "   rub_monthly_fee  rub_per_gb  rub_per_message  rub_per_minute tariff_name  \n",
       "0              550         200                3               3       smart  \n",
       "1             1950         150                1               1       ultra  "
      ]
     },
     "execution_count": 13,
     "metadata": {},
     "output_type": "execute_result"
    }
   ],
   "source": [
    "tariffs.head()"
   ]
  },
  {
   "cell_type": "markdown",
   "metadata": {},
   "source": [
    "- Ошибок не обнаружено"
   ]
  },
  {
   "cell_type": "code",
   "execution_count": 14,
   "metadata": {},
   "outputs": [],
   "source": [
    "user = pd.read_csv('/datasets/users.csv')"
   ]
  },
  {
   "cell_type": "code",
   "execution_count": 15,
   "metadata": {},
   "outputs": [
    {
     "name": "stdout",
     "output_type": "stream",
     "text": [
      "<class 'pandas.core.frame.DataFrame'>\n",
      "RangeIndex: 500 entries, 0 to 499\n",
      "Data columns (total 8 columns):\n",
      "user_id       500 non-null int64\n",
      "age           500 non-null int64\n",
      "churn_date    38 non-null object\n",
      "city          500 non-null object\n",
      "first_name    500 non-null object\n",
      "last_name     500 non-null object\n",
      "reg_date      500 non-null object\n",
      "tariff        500 non-null object\n",
      "dtypes: int64(2), object(6)\n",
      "memory usage: 31.4+ KB\n"
     ]
    }
   ],
   "source": [
    "user.info()"
   ]
  },
  {
   "cell_type": "code",
   "execution_count": 16,
   "metadata": {},
   "outputs": [
    {
     "data": {
      "text/html": [
       "<div>\n",
       "<style scoped>\n",
       "    .dataframe tbody tr th:only-of-type {\n",
       "        vertical-align: middle;\n",
       "    }\n",
       "\n",
       "    .dataframe tbody tr th {\n",
       "        vertical-align: top;\n",
       "    }\n",
       "\n",
       "    .dataframe thead th {\n",
       "        text-align: right;\n",
       "    }\n",
       "</style>\n",
       "<table border=\"1\" class=\"dataframe\">\n",
       "  <thead>\n",
       "    <tr style=\"text-align: right;\">\n",
       "      <th></th>\n",
       "      <th>user_id</th>\n",
       "      <th>age</th>\n",
       "      <th>churn_date</th>\n",
       "      <th>city</th>\n",
       "      <th>first_name</th>\n",
       "      <th>last_name</th>\n",
       "      <th>reg_date</th>\n",
       "      <th>tariff</th>\n",
       "    </tr>\n",
       "  </thead>\n",
       "  <tbody>\n",
       "    <tr>\n",
       "      <td>0</td>\n",
       "      <td>1000</td>\n",
       "      <td>52</td>\n",
       "      <td>NaN</td>\n",
       "      <td>Краснодар</td>\n",
       "      <td>Рафаил</td>\n",
       "      <td>Верещагин</td>\n",
       "      <td>2018-05-25</td>\n",
       "      <td>ultra</td>\n",
       "    </tr>\n",
       "    <tr>\n",
       "      <td>1</td>\n",
       "      <td>1001</td>\n",
       "      <td>41</td>\n",
       "      <td>NaN</td>\n",
       "      <td>Москва</td>\n",
       "      <td>Иван</td>\n",
       "      <td>Ежов</td>\n",
       "      <td>2018-11-01</td>\n",
       "      <td>smart</td>\n",
       "    </tr>\n",
       "    <tr>\n",
       "      <td>2</td>\n",
       "      <td>1002</td>\n",
       "      <td>59</td>\n",
       "      <td>NaN</td>\n",
       "      <td>Стерлитамак</td>\n",
       "      <td>Евгений</td>\n",
       "      <td>Абрамович</td>\n",
       "      <td>2018-06-17</td>\n",
       "      <td>smart</td>\n",
       "    </tr>\n",
       "    <tr>\n",
       "      <td>3</td>\n",
       "      <td>1003</td>\n",
       "      <td>23</td>\n",
       "      <td>NaN</td>\n",
       "      <td>Москва</td>\n",
       "      <td>Белла</td>\n",
       "      <td>Белякова</td>\n",
       "      <td>2018-08-17</td>\n",
       "      <td>ultra</td>\n",
       "    </tr>\n",
       "    <tr>\n",
       "      <td>4</td>\n",
       "      <td>1004</td>\n",
       "      <td>68</td>\n",
       "      <td>NaN</td>\n",
       "      <td>Новокузнецк</td>\n",
       "      <td>Татьяна</td>\n",
       "      <td>Авдеенко</td>\n",
       "      <td>2018-05-14</td>\n",
       "      <td>ultra</td>\n",
       "    </tr>\n",
       "  </tbody>\n",
       "</table>\n",
       "</div>"
      ],
      "text/plain": [
       "   user_id  age churn_date         city first_name  last_name    reg_date  \\\n",
       "0     1000   52        NaN    Краснодар     Рафаил  Верещагин  2018-05-25   \n",
       "1     1001   41        NaN       Москва       Иван       Ежов  2018-11-01   \n",
       "2     1002   59        NaN  Стерлитамак    Евгений  Абрамович  2018-06-17   \n",
       "3     1003   23        NaN       Москва      Белла   Белякова  2018-08-17   \n",
       "4     1004   68        NaN  Новокузнецк    Татьяна   Авдеенко  2018-05-14   \n",
       "\n",
       "  tariff  \n",
       "0  ultra  \n",
       "1  smart  \n",
       "2  smart  \n",
       "3  ultra  \n",
       "4  ultra  "
      ]
     },
     "execution_count": 16,
     "metadata": {},
     "output_type": "execute_result"
    }
   ],
   "source": [
    "user.head()"
   ]
  },
  {
   "cell_type": "markdown",
   "metadata": {},
   "source": [
    "- reg_date (дата подключения тарифа) передан как строковый объект, необходим формат даты.\n",
    "- churn_date (дата прекращения пользования тарифом) передан как строковый объект, необходим формат даты. Также, обнаружены пропуски, возможно тариф еще действовал на момент выгрузки данных.\n",
    "- city (город) желательно привести к нижнему регистру. \n",
    "\n",
    "\n",
    "\n",
    "\n"
   ]
  },
  {
   "cell_type": "markdown",
   "metadata": {},
   "source": [
    "#### Вывод\n",
    "Мы рассмотрели все таблицы данных и обнаружили, что во всех датасетах значения даты передаются строковым форматом. Для дальнейшего анализа, нам необходимо перевести даты в правильный формат. Так как, для решения исследовательской задачи мы будем использовать уникальный иденитификатор пользователя и дату совершенных действий. \n",
    "\n",
    "user_id (уникальный номер) во всех сетах приведен в правильном формате, поэтому его изменять не нужно. Для избежания ошибок, значения в колонке city (город) лучше привести к нижнему регистру.\n",
    "\n",
    "Пропуски в колонке даты прекращения пользования тарифом означают актуальность договора на момент выгрузки данных. И так как данные представлены за 2018 год, будет логично заменить пропуски в прекращении договора на дату последнего дня 18го года — 2018-12-31. \n",
    "\n",
    "Значения в колонках имени и фамилии пользователей предполагаются излишними. Поэтому мы не будем их использовать. \n"
   ]
  },
  {
   "cell_type": "markdown",
   "metadata": {},
   "source": [
    "### Предобработка данных\n"
   ]
  },
  {
   "cell_type": "markdown",
   "metadata": {},
   "source": [
    "Удаляем значения в колонках, которые не понадобятся в нашем исследвоании"
   ]
  },
  {
   "cell_type": "code",
   "execution_count": 17,
   "metadata": {},
   "outputs": [],
   "source": [
    "user2 = user.copy() # делаем копию сета, чтобы ничего не потерять.\n",
    "user2.drop(columns=['first_name', 'last_name'], axis=1, inplace=True)\n"
   ]
  },
  {
   "cell_type": "code",
   "execution_count": 18,
   "metadata": {},
   "outputs": [],
   "source": [
    "user2['churn_date'] = user2['churn_date'].fillna('2018-12-31') \n",
    "# Заменяем пропущенные значения в колонке «прекрщаение использования тарифа» на дату последнего дня 18го года.  "
   ]
  },
  {
   "cell_type": "markdown",
   "metadata": {},
   "source": [
    "Приводим значение даты к нужному формату"
   ]
  },
  {
   "cell_type": "code",
   "execution_count": 19,
   "metadata": {},
   "outputs": [],
   "source": [
    "user2['churn_date'] = pd.to_datetime(user2['churn_date'], format='%Y-%m-%d') # для преобразования используем метод to_datetime()\n",
    "user2['reg_date'] = pd.to_datetime(user2['reg_date'], format='%Y-%m-%d')\n",
    "\n",
    "internet['session_date'] = pd.to_datetime(internet['session_date'], format='%Y-%m-%d')\n",
    "calls['call_date'] = pd.to_datetime(calls['call_date'], format='%Y-%m-%d')\n",
    "messag['message_date'] = pd.to_datetime(messag['message_date'], format='%Y-%m-%d')"
   ]
  },
  {
   "cell_type": "markdown",
   "metadata": {},
   "source": [
    "Приводим названия городов к нижнему регистру, а длительность звонка к целым числам"
   ]
  },
  {
   "cell_type": "code",
   "execution_count": 20,
   "metadata": {},
   "outputs": [],
   "source": [
    "user2['city'] = user2['city'].str.lower() # переводим в нижний регистр\n",
    "calls['duration'] = calls['duration'].astype('int') # методом astype переводим значения в нужный тип — целые числа."
   ]
  },
  {
   "cell_type": "markdown",
   "metadata": {},
   "source": [
    "### Исправление ошибок\n",
    "\n",
    "Необходимо тщательней рассмотреть данные и исправить ошибки. Проверяем calls, internet, messag и user2\n"
   ]
  },
  {
   "cell_type": "markdown",
   "metadata": {},
   "source": [
    "#### Звонки"
   ]
  },
  {
   "cell_type": "code",
   "execution_count": 21,
   "metadata": {},
   "outputs": [
    {
     "data": {
      "text/plain": [
       "1006_49     1\n",
       "1193_146    1\n",
       "1364_280    1\n",
       "1450_86     1\n",
       "1436_81     1\n",
       "Name: id, dtype: int64"
      ]
     },
     "execution_count": 21,
     "metadata": {},
     "output_type": "execute_result"
    }
   ],
   "source": [
    "# Изучим уникальные звонки и их количество.\n",
    "calls['id'].value_counts().sort_values(ascending=False).head()"
   ]
  },
  {
   "cell_type": "markdown",
   "metadata": {},
   "source": [
    "Уникальные номера не повторяются"
   ]
  },
  {
   "cell_type": "code",
   "execution_count": 22,
   "metadata": {},
   "outputs": [
    {
     "data": {
      "text/plain": [
       "492"
      ]
     },
     "execution_count": 22,
     "metadata": {},
     "output_type": "execute_result"
    }
   ],
   "source": [
    "# Изучим, все ли пользователи совершали звонки\n",
    "len(calls['user_id'].unique())\n",
    "# 8 человек из 500 не совершали звонки"
   ]
  },
  {
   "cell_type": "code",
   "execution_count": 23,
   "metadata": {},
   "outputs": [
    {
     "data": {
      "text/plain": [
       "0"
      ]
     },
     "execution_count": 23,
     "metadata": {},
     "output_type": "execute_result"
    }
   ],
   "source": [
    "calls.duplicated().sum() # повторений нет"
   ]
  },
  {
   "cell_type": "code",
   "execution_count": 24,
   "metadata": {},
   "outputs": [
    {
     "data": {
      "image/png": "[encoded data removed]",
      "text/plain": [
       "<Figure size 1224x360 with 1 Axes>"
      ]
     },
     "metadata": {
      "needs_background": "light"
     },
     "output_type": "display_data"
    },
    {
     "data": {
      "image/png": "[encoded data removed]",
      "text/plain": [
       "<Figure size 1224x360 with 1 Axes>"
      ]
     },
     "metadata": {
      "needs_background": "light"
     },
     "output_type": "display_data"
    }
   ],
   "source": [
    "# Посмотрим как распределяется длительность звонков и построим график распределения. \n",
    "# Также, с помощью boxplot визуально оценим характеристики распределения.\n",
    "calls['duration'].hist(bins=30, figsize=(17,5))\n",
    "plt.title('Распределение длительности звонков')\n",
    "plt.show()\n",
    "calls.boxplot('duration', figsize=(17,5))\n",
    "plt.title('Размах длительности звонков')\n",
    "plt.show()"
   ]
  },
  {
   "cell_type": "markdown",
   "metadata": {},
   "source": [
    "В целом длительность звонка составляет 6-8 минут, при этом есть отдельные выбросы. Но больше всего значений сосредоточено на показателе в 0 минут. Возможно, пользователи скидывают звонок не договорив минуту в целях экономии. В условиях двух тарифов обозначена цена за минуту разговора, видимо это вводит пользователей в заблуждение, так как «Мегалайн» всегда округляет вверх значения минут и мегабайтов. Предполагаем, что такие условия округления одинаковые в двух тарифах. "
   ]
  },
  {
   "cell_type": "markdown",
   "metadata": {},
   "source": [
    "По условиям оператора длительность звонков всегда округляется в большую сторону до целых минут, а длительность меньше минуты округляется до 1 минуты."
   ]
  },
  {
   "cell_type": "code",
   "execution_count": 25,
   "metadata": {},
   "outputs": [],
   "source": [
    "calls['duration'] = calls['duration'].where(calls['duration'] > 1, 1) # Методом where выборочно изменяем значения.\n",
    "# Перевод в целые числа мы сделали ранее.\n",
    "# Чтобы не переписывать строки сделаем копию датафрейма calls в calls_new\n",
    "calls_new = calls.copy()\n",
    "calls_new.columns = ['id_call','call_date','duration','user_id'] # делаем колонки\n",
    "calls_new.set_index('user_id', inplace=True) # индексы таблицы по user_id\n",
    "\n",
    "\n"
   ]
  },
  {
   "cell_type": "code",
   "execution_count": 26,
   "metadata": {},
   "outputs": [
    {
     "data": {
      "text/html": [
       "<div>\n",
       "<style scoped>\n",
       "    .dataframe tbody tr th:only-of-type {\n",
       "        vertical-align: middle;\n",
       "    }\n",
       "\n",
       "    .dataframe tbody tr th {\n",
       "        vertical-align: top;\n",
       "    }\n",
       "\n",
       "    .dataframe thead th {\n",
       "        text-align: right;\n",
       "    }\n",
       "</style>\n",
       "<table border=\"1\" class=\"dataframe\">\n",
       "  <thead>\n",
       "    <tr style=\"text-align: right;\">\n",
       "      <th></th>\n",
       "      <th>id_call</th>\n",
       "      <th>call_date</th>\n",
       "      <th>duration</th>\n",
       "    </tr>\n",
       "    <tr>\n",
       "      <th>user_id</th>\n",
       "      <th></th>\n",
       "      <th></th>\n",
       "      <th></th>\n",
       "    </tr>\n",
       "  </thead>\n",
       "  <tbody>\n",
       "    <tr>\n",
       "      <td>1000</td>\n",
       "      <td>1000_0</td>\n",
       "      <td>2018-07-25</td>\n",
       "      <td>1</td>\n",
       "    </tr>\n",
       "    <tr>\n",
       "      <td>1000</td>\n",
       "      <td>1000_1</td>\n",
       "      <td>2018-08-17</td>\n",
       "      <td>1</td>\n",
       "    </tr>\n",
       "    <tr>\n",
       "      <td>1000</td>\n",
       "      <td>1000_2</td>\n",
       "      <td>2018-06-11</td>\n",
       "      <td>2</td>\n",
       "    </tr>\n",
       "    <tr>\n",
       "      <td>1000</td>\n",
       "      <td>1000_3</td>\n",
       "      <td>2018-09-21</td>\n",
       "      <td>13</td>\n",
       "    </tr>\n",
       "    <tr>\n",
       "      <td>1000</td>\n",
       "      <td>1000_4</td>\n",
       "      <td>2018-12-15</td>\n",
       "      <td>5</td>\n",
       "    </tr>\n",
       "  </tbody>\n",
       "</table>\n",
       "</div>"
      ],
      "text/plain": [
       "        id_call  call_date  duration\n",
       "user_id                             \n",
       "1000     1000_0 2018-07-25         1\n",
       "1000     1000_1 2018-08-17         1\n",
       "1000     1000_2 2018-06-11         2\n",
       "1000     1000_3 2018-09-21        13\n",
       "1000     1000_4 2018-12-15         5"
      ]
     },
     "execution_count": 26,
     "metadata": {},
     "output_type": "execute_result"
    }
   ],
   "source": [
    "calls_new.head() # смотрим таблицу"
   ]
  },
  {
   "cell_type": "markdown",
   "metadata": {},
   "source": [
    "#### Интернет-трафик"
   ]
  },
  {
   "cell_type": "code",
   "execution_count": 27,
   "metadata": {},
   "outputs": [],
   "source": [
    "internet.columns = ['id_session', 'mb_used', 'session_date', 'user_id'] \n",
    "# Даем новое название колонке id — id_session, чтобы не путаться в однотипных названиях.\n"
   ]
  },
  {
   "cell_type": "code",
   "execution_count": 28,
   "metadata": {},
   "outputs": [
    {
     "data": {
      "text/plain": [
       "1006_49     1\n",
       "1174_249    1\n",
       "1040_298    1\n",
       "1040_28     1\n",
       "1413_118    1\n",
       "Name: id_session, dtype: int64"
      ]
     },
     "execution_count": 28,
     "metadata": {},
     "output_type": "execute_result"
    }
   ],
   "source": [
    "internet['id_session'].value_counts().sort_values(ascending=False).head() # уникальные номера интернет сессий не повторяются"
   ]
  },
  {
   "cell_type": "code",
   "execution_count": 29,
   "metadata": {},
   "outputs": [
    {
     "data": {
      "text/plain": [
       "497"
      ]
     },
     "execution_count": 29,
     "metadata": {},
     "output_type": "execute_result"
    }
   ],
   "source": [
    "len(internet['user_id'].unique()) # посчитаем все ли пользователи используют интернет\n",
    "# 3 человека не используют интернет"
   ]
  },
  {
   "cell_type": "code",
   "execution_count": 30,
   "metadata": {},
   "outputs": [
    {
     "data": {
      "text/plain": [
       "0"
      ]
     },
     "execution_count": 30,
     "metadata": {},
     "output_type": "execute_result"
    }
   ],
   "source": [
    "internet.duplicated().sum() # дубликатов нет"
   ]
  },
  {
   "cell_type": "code",
   "execution_count": 31,
   "metadata": {},
   "outputs": [
    {
     "data": {
      "image/png": "[encoded data removed]",
      "text/plain": [
       "<Figure size 1224x360 with 1 Axes>"
      ]
     },
     "metadata": {
      "needs_background": "light"
     },
     "output_type": "display_data"
    },
    {
     "data": {
      "image/png": "[encoded data removed]",
      "text/plain": [
       "<Figure size 1224x360 with 1 Axes>"
      ]
     },
     "metadata": {
      "needs_background": "light"
     },
     "output_type": "display_data"
    }
   ],
   "source": [
    "# Посмотрим как распределяется интернет-трафик. \n",
    "# Также, с помощью boxplot визуально оценим характеристики распределения.\n",
    "internet['mb_used'].hist(bins=30, figsize=(17,5))\n",
    "plt.title('Распределение величин интернет-сессии')\n",
    "plt.show()\n",
    "internet.boxplot('mb_used', figsize=(17,5))\n",
    "plt.title('Размах величин интернет-сессии')\n",
    "plt.show()"
   ]
  },
  {
   "cell_type": "markdown",
   "metadata": {},
   "source": [
    "В целом пользователи используют 270 Мбайт трафика, но есть значительная доля интернет-сессий равная 0 Мбайт. Видимо это экономные пользователи.\n",
    "В любом случае по условиям тарифов значения мегабайтов округляется вверх.\n",
    "\n",
    "Таким образом, единица тарификации — 1 Мб округленный ввехр, также округляется трафик до 1 Мб."
   ]
  },
  {
   "cell_type": "code",
   "execution_count": 32,
   "metadata": {},
   "outputs": [],
   "source": [
    "internet_new = internet.copy() # Делаем копию датафрейма\n",
    "internet_new['mb_used'] = internet_new['mb_used'].where(internet_new['mb_used'] > 1, 1) #Методом where  изменяем значения.\n",
    "internet_new['mb_used'] = internet_new['mb_used'].astype('int') # Приводим к целым числам\n",
    "internet_new.set_index('user_id', inplace=True) # индексы таблицы по user_id\n"
   ]
  },
  {
   "cell_type": "code",
   "execution_count": 33,
   "metadata": {},
   "outputs": [
    {
     "data": {
      "text/html": [
       "<div>\n",
       "<style scoped>\n",
       "    .dataframe tbody tr th:only-of-type {\n",
       "        vertical-align: middle;\n",
       "    }\n",
       "\n",
       "    .dataframe tbody tr th {\n",
       "        vertical-align: top;\n",
       "    }\n",
       "\n",
       "    .dataframe thead th {\n",
       "        text-align: right;\n",
       "    }\n",
       "</style>\n",
       "<table border=\"1\" class=\"dataframe\">\n",
       "  <thead>\n",
       "    <tr style=\"text-align: right;\">\n",
       "      <th></th>\n",
       "      <th>id_session</th>\n",
       "      <th>mb_used</th>\n",
       "      <th>session_date</th>\n",
       "    </tr>\n",
       "    <tr>\n",
       "      <th>user_id</th>\n",
       "      <th></th>\n",
       "      <th></th>\n",
       "      <th></th>\n",
       "    </tr>\n",
       "  </thead>\n",
       "  <tbody>\n",
       "    <tr>\n",
       "      <td>1000</td>\n",
       "      <td>1000_0</td>\n",
       "      <td>112</td>\n",
       "      <td>2018-11-25</td>\n",
       "    </tr>\n",
       "    <tr>\n",
       "      <td>1000</td>\n",
       "      <td>1000_1</td>\n",
       "      <td>1052</td>\n",
       "      <td>2018-09-07</td>\n",
       "    </tr>\n",
       "    <tr>\n",
       "      <td>1000</td>\n",
       "      <td>1000_2</td>\n",
       "      <td>1197</td>\n",
       "      <td>2018-06-25</td>\n",
       "    </tr>\n",
       "    <tr>\n",
       "      <td>1000</td>\n",
       "      <td>1000_3</td>\n",
       "      <td>550</td>\n",
       "      <td>2018-08-22</td>\n",
       "    </tr>\n",
       "    <tr>\n",
       "      <td>1000</td>\n",
       "      <td>1000_4</td>\n",
       "      <td>302</td>\n",
       "      <td>2018-09-24</td>\n",
       "    </tr>\n",
       "  </tbody>\n",
       "</table>\n",
       "</div>"
      ],
      "text/plain": [
       "        id_session  mb_used session_date\n",
       "user_id                                 \n",
       "1000        1000_0      112   2018-11-25\n",
       "1000        1000_1     1052   2018-09-07\n",
       "1000        1000_2     1197   2018-06-25\n",
       "1000        1000_3      550   2018-08-22\n",
       "1000        1000_4      302   2018-09-24"
      ]
     },
     "execution_count": 33,
     "metadata": {},
     "output_type": "execute_result"
    }
   ],
   "source": [
    "internet_new.head() # Проверяем таблицу\n"
   ]
  },
  {
   "cell_type": "markdown",
   "metadata": {},
   "source": [
    "#### Сообщения"
   ]
  },
  {
   "cell_type": "code",
   "execution_count": 34,
   "metadata": {},
   "outputs": [],
   "source": [
    "messag.columns = ['id_sms', 'message_date', 'user_id'] # Даем название колонкам"
   ]
  },
  {
   "cell_type": "code",
   "execution_count": 35,
   "metadata": {},
   "outputs": [
    {
     "data": {
      "text/plain": [
       "1478_317    1\n",
       "1425_726    1\n",
       "1418_68     1\n",
       "1251_842    1\n",
       "1274_542    1\n",
       "Name: id_sms, dtype: int64"
      ]
     },
     "execution_count": 35,
     "metadata": {},
     "output_type": "execute_result"
    }
   ],
   "source": [
    "messag['id_sms'].value_counts().sort_values(ascending=False).head() # проверяем уникальные значения"
   ]
  },
  {
   "cell_type": "code",
   "execution_count": 36,
   "metadata": {},
   "outputs": [
    {
     "data": {
      "text/plain": [
       "426"
      ]
     },
     "execution_count": 36,
     "metadata": {},
     "output_type": "execute_result"
    }
   ],
   "source": [
    "len(messag['user_id'].unique()) \n",
    "# 74 человека не пользуются сообщениями"
   ]
  },
  {
   "cell_type": "code",
   "execution_count": 37,
   "metadata": {},
   "outputs": [],
   "source": [
    "messag.set_index('user_id', inplace=True) # индексы таблицы по user_id"
   ]
  },
  {
   "cell_type": "code",
   "execution_count": 38,
   "metadata": {},
   "outputs": [
    {
     "data": {
      "text/html": [
       "<div>\n",
       "<style scoped>\n",
       "    .dataframe tbody tr th:only-of-type {\n",
       "        vertical-align: middle;\n",
       "    }\n",
       "\n",
       "    .dataframe tbody tr th {\n",
       "        vertical-align: top;\n",
       "    }\n",
       "\n",
       "    .dataframe thead th {\n",
       "        text-align: right;\n",
       "    }\n",
       "</style>\n",
       "<table border=\"1\" class=\"dataframe\">\n",
       "  <thead>\n",
       "    <tr style=\"text-align: right;\">\n",
       "      <th></th>\n",
       "      <th>id_sms</th>\n",
       "      <th>message_date</th>\n",
       "    </tr>\n",
       "    <tr>\n",
       "      <th>user_id</th>\n",
       "      <th></th>\n",
       "      <th></th>\n",
       "    </tr>\n",
       "  </thead>\n",
       "  <tbody>\n",
       "    <tr>\n",
       "      <td>1000</td>\n",
       "      <td>1000_0</td>\n",
       "      <td>2018-06-27</td>\n",
       "    </tr>\n",
       "    <tr>\n",
       "      <td>1000</td>\n",
       "      <td>1000_1</td>\n",
       "      <td>2018-10-08</td>\n",
       "    </tr>\n",
       "    <tr>\n",
       "      <td>1000</td>\n",
       "      <td>1000_2</td>\n",
       "      <td>2018-08-04</td>\n",
       "    </tr>\n",
       "    <tr>\n",
       "      <td>1000</td>\n",
       "      <td>1000_3</td>\n",
       "      <td>2018-06-16</td>\n",
       "    </tr>\n",
       "    <tr>\n",
       "      <td>1000</td>\n",
       "      <td>1000_4</td>\n",
       "      <td>2018-12-05</td>\n",
       "    </tr>\n",
       "  </tbody>\n",
       "</table>\n",
       "</div>"
      ],
      "text/plain": [
       "         id_sms message_date\n",
       "user_id                     \n",
       "1000     1000_0   2018-06-27\n",
       "1000     1000_1   2018-10-08\n",
       "1000     1000_2   2018-08-04\n",
       "1000     1000_3   2018-06-16\n",
       "1000     1000_4   2018-12-05"
      ]
     },
     "execution_count": 38,
     "metadata": {},
     "output_type": "execute_result"
    }
   ],
   "source": [
    "messag.head() # Проверяем"
   ]
  },
  {
   "cell_type": "markdown",
   "metadata": {},
   "source": [
    "#### Пользователи"
   ]
  },
  {
   "cell_type": "code",
   "execution_count": 39,
   "metadata": {},
   "outputs": [],
   "source": [
    "user2.columns = ['user_id', 'age', 'churn_date', 'city', 'reg_date', 'tariff_name'] \n",
    "# Для удобства даем новое название tariff_name"
   ]
  },
  {
   "cell_type": "code",
   "execution_count": 40,
   "metadata": {},
   "outputs": [
    {
     "data": {
      "image/png": "[encoded data removed]",
      "text/plain": [
       "<Figure size 432x288 with 1 Axes>"
      ]
     },
     "metadata": {
      "needs_background": "light"
     },
     "output_type": "display_data"
    }
   ],
   "source": [
    "user2['age'].hist(bins=[10,20,30,40,50,60,70,80]) # Посмотрим распределение пользователей по возрасту\n",
    "plt.show()                 "
   ]
  },
  {
   "cell_type": "markdown",
   "metadata": {},
   "source": [
    "Услугами оператора в равной степени пользуются люди в возрасте от 20 до 70 лет."
   ]
  },
  {
   "cell_type": "code",
   "execution_count": 41,
   "metadata": {},
   "outputs": [
    {
     "data": {
      "text/plain": [
       "москва              99\n",
       "санкт-петербург     39\n",
       "новосибирск         16\n",
       "казань              14\n",
       "омск                14\n",
       "уфа                 12\n",
       "екатеринбург        11\n",
       "краснодар           11\n",
       "набережные челны    11\n",
       "ульяновск           11\n",
       "Name: city, dtype: int64"
      ]
     },
     "execution_count": 41,
     "metadata": {},
     "output_type": "execute_result"
    }
   ],
   "source": [
    "user2['city'].value_counts().head(10) # Посмотрим уникальные значения по городам\n"
   ]
  },
  {
   "cell_type": "markdown",
   "metadata": {},
   "source": [
    "Больше всего услуги данного оператора используют в Москве. Возможно это связано с разницей общей численности населения по городам."
   ]
  },
  {
   "cell_type": "code",
   "execution_count": 42,
   "metadata": {},
   "outputs": [
    {
     "data": {
      "text/plain": [
       "smart    351\n",
       "ultra    149\n",
       "Name: tariff_name, dtype: int64"
      ]
     },
     "execution_count": 42,
     "metadata": {},
     "output_type": "execute_result"
    }
   ],
   "source": [
    "user2['tariff_name'].value_counts() # Посмотрим какой тариф используют чаще всего."
   ]
  },
  {
   "cell_type": "markdown",
   "metadata": {},
   "source": [
    "Тариф «смарт» ярко выражен у пользователей."
   ]
  },
  {
   "cell_type": "code",
   "execution_count": 43,
   "metadata": {},
   "outputs": [],
   "source": [
    "user2.set_index('user_id', inplace=True) # Сделаем уникальный номер пользщователя индексом таблицы"
   ]
  },
  {
   "cell_type": "markdown",
   "metadata": {},
   "source": [
    "### Вывод\n",
    "\n",
    "Мы рассмотрели полученные данные и составили приблизительный портрет пользователей. Услугами оператора в равной степени пользуются люди в возрасте от 20 до 70 лет, в целом они совершают звонки длительностью от 4 до 10 минут, а в среднем 6-8 минут. Они используют в среднем 270 Мбайт мобильного интернета. Большая часть клиентов сосредоточена в Москве и большая часть клиентов предмочитают тариф «смарт».\n",
    "\n"
   ]
  },
  {
   "cell_type": "markdown",
   "metadata": {},
   "source": [
    "## Месячный расчёт количества сообщений, звонков и интернет-трафика"
   ]
  },
  {
   "cell_type": "markdown",
   "metadata": {},
   "source": [
    "### Количество звонков и израсходованных минут "
   ]
  },
  {
   "cell_type": "code",
   "execution_count": 44,
   "metadata": {},
   "outputs": [],
   "source": [
    "calls_new['month'] = pd.DatetimeIndex(calls_new['call_date']).month # Создаем колонку с месяцем"
   ]
  },
  {
   "cell_type": "code",
   "execution_count": 45,
   "metadata": {},
   "outputs": [],
   "source": [
    "calls_unity = calls_new.pivot_table(\n",
    "    index=['user_id', 'month'], values='duration', aggfunc=['count', 'sum']\n",
    ") # Строим сводную таблицу с количеством звонков и их суммарной длительностью каждого пользователя по месяцам\n",
    "\n"
   ]
  },
  {
   "cell_type": "code",
   "execution_count": 46,
   "metadata": {},
   "outputs": [],
   "source": [
    "calls_unity.columns = ['calls_number', 'calls_duration'] # Даем название колонкам\n"
   ]
  },
  {
   "cell_type": "markdown",
   "metadata": {},
   "source": [
    "### Количество отправленных сообщений"
   ]
  },
  {
   "cell_type": "code",
   "execution_count": 47,
   "metadata": {},
   "outputs": [],
   "source": [
    "messag['month'] = pd.DatetimeIndex(messag['message_date']).month "
   ]
  },
  {
   "cell_type": "code",
   "execution_count": 48,
   "metadata": {},
   "outputs": [],
   "source": [
    "messag_unity = messag.pivot_table(\n",
    "    index=['user_id', 'month'], values='id_sms', aggfunc='count'\n",
    ") # Количество сообщений от каждого пользователя по месяцам"
   ]
  },
  {
   "cell_type": "code",
   "execution_count": 49,
   "metadata": {},
   "outputs": [],
   "source": [
    "messag_unity.columns = ['sms_number']"
   ]
  },
  {
   "cell_type": "markdown",
   "metadata": {},
   "source": [
    "### Количество израсходованного интернет-трафика"
   ]
  },
  {
   "cell_type": "code",
   "execution_count": 50,
   "metadata": {},
   "outputs": [],
   "source": [
    "internet_new['month'] = pd.DatetimeIndex(internet_new['session_date']).month "
   ]
  },
  {
   "cell_type": "code",
   "execution_count": 51,
   "metadata": {},
   "outputs": [],
   "source": [
    "internet_unity = internet_new.pivot_table(\n",
    "    index=['user_id', 'month'], values='mb_used', aggfunc=['count', 'sum']\n",
    ") # Количество сессий и израсходованный трафик по месяцам"
   ]
  },
  {
   "cell_type": "code",
   "execution_count": 52,
   "metadata": {},
   "outputs": [],
   "source": [
    "internet_unity.columns = ['session_number', 'mb_used']"
   ]
  },
  {
   "cell_type": "markdown",
   "metadata": {},
   "source": [
    "## Общая таблица\n",
    "Сведем всю информацию в одну общую таблицу, для удобства в дальнейшей работе."
   ]
  },
  {
   "cell_type": "code",
   "execution_count": 53,
   "metadata": {},
   "outputs": [],
   "source": [
    "final_table = internet_unity.join([calls_unity, messag_unity]) # Методом join() склеиваем таблицы кол-во трафика, звонков и сообщений."
   ]
  },
  {
   "cell_type": "code",
   "execution_count": 54,
   "metadata": {},
   "outputs": [],
   "source": [
    "final_table.reset_index(inplace=True)"
   ]
  },
  {
   "cell_type": "code",
   "execution_count": 55,
   "metadata": {},
   "outputs": [],
   "source": [
    "final_table_tariff = final_table.merge(user2, on='user_id') # Объединяем несколько таблиц методом merge(), по уникальному номеру."
   ]
  },
  {
   "cell_type": "code",
   "execution_count": 56,
   "metadata": {},
   "outputs": [],
   "source": [
    "final = final_table_tariff.merge(tariffs, on='tariff_name') # Объединяем таблицу с фреймом тарифов по названию тарифа."
   ]
  },
  {
   "cell_type": "code",
   "execution_count": 57,
   "metadata": {},
   "outputs": [
    {
     "data": {
      "text/html": [
       "<div>\n",
       "<style scoped>\n",
       "    .dataframe tbody tr th:only-of-type {\n",
       "        vertical-align: middle;\n",
       "    }\n",
       "\n",
       "    .dataframe tbody tr th {\n",
       "        vertical-align: top;\n",
       "    }\n",
       "\n",
       "    .dataframe thead th {\n",
       "        text-align: right;\n",
       "    }\n",
       "</style>\n",
       "<table border=\"1\" class=\"dataframe\">\n",
       "  <thead>\n",
       "    <tr style=\"text-align: right;\">\n",
       "      <th></th>\n",
       "      <th>user_id</th>\n",
       "      <th>month</th>\n",
       "      <th>session_number</th>\n",
       "      <th>mb_used</th>\n",
       "      <th>calls_number</th>\n",
       "      <th>calls_duration</th>\n",
       "      <th>sms_number</th>\n",
       "      <th>age</th>\n",
       "      <th>churn_date</th>\n",
       "      <th>city</th>\n",
       "      <th>reg_date</th>\n",
       "      <th>tariff_name</th>\n",
       "      <th>messages_included</th>\n",
       "      <th>mg_per_month_included</th>\n",
       "      <th>minutes_included</th>\n",
       "      <th>rub_monthly_fee</th>\n",
       "      <th>rub_per_gb</th>\n",
       "      <th>rub_per_message</th>\n",
       "      <th>rub_per_minute</th>\n",
       "    </tr>\n",
       "  </thead>\n",
       "  <tbody>\n",
       "    <tr>\n",
       "      <td>0</td>\n",
       "      <td>1000</td>\n",
       "      <td>5</td>\n",
       "      <td>5.0</td>\n",
       "      <td>2253.0</td>\n",
       "      <td>22.0</td>\n",
       "      <td>148.0</td>\n",
       "      <td>22.0</td>\n",
       "      <td>52</td>\n",
       "      <td>2018-12-31</td>\n",
       "      <td>краснодар</td>\n",
       "      <td>2018-05-25</td>\n",
       "      <td>ultra</td>\n",
       "      <td>1000</td>\n",
       "      <td>30720</td>\n",
       "      <td>3000</td>\n",
       "      <td>1950</td>\n",
       "      <td>150</td>\n",
       "      <td>1</td>\n",
       "      <td>1</td>\n",
       "    </tr>\n",
       "    <tr>\n",
       "      <td>1</td>\n",
       "      <td>1000</td>\n",
       "      <td>6</td>\n",
       "      <td>49.0</td>\n",
       "      <td>23218.0</td>\n",
       "      <td>43.0</td>\n",
       "      <td>160.0</td>\n",
       "      <td>60.0</td>\n",
       "      <td>52</td>\n",
       "      <td>2018-12-31</td>\n",
       "      <td>краснодар</td>\n",
       "      <td>2018-05-25</td>\n",
       "      <td>ultra</td>\n",
       "      <td>1000</td>\n",
       "      <td>30720</td>\n",
       "      <td>3000</td>\n",
       "      <td>1950</td>\n",
       "      <td>150</td>\n",
       "      <td>1</td>\n",
       "      <td>1</td>\n",
       "    </tr>\n",
       "    <tr>\n",
       "      <td>2</td>\n",
       "      <td>1000</td>\n",
       "      <td>7</td>\n",
       "      <td>29.0</td>\n",
       "      <td>13989.0</td>\n",
       "      <td>47.0</td>\n",
       "      <td>307.0</td>\n",
       "      <td>75.0</td>\n",
       "      <td>52</td>\n",
       "      <td>2018-12-31</td>\n",
       "      <td>краснодар</td>\n",
       "      <td>2018-05-25</td>\n",
       "      <td>ultra</td>\n",
       "      <td>1000</td>\n",
       "      <td>30720</td>\n",
       "      <td>3000</td>\n",
       "      <td>1950</td>\n",
       "      <td>150</td>\n",
       "      <td>1</td>\n",
       "      <td>1</td>\n",
       "    </tr>\n",
       "    <tr>\n",
       "      <td>3</td>\n",
       "      <td>1000</td>\n",
       "      <td>8</td>\n",
       "      <td>29.0</td>\n",
       "      <td>14045.0</td>\n",
       "      <td>52.0</td>\n",
       "      <td>378.0</td>\n",
       "      <td>81.0</td>\n",
       "      <td>52</td>\n",
       "      <td>2018-12-31</td>\n",
       "      <td>краснодар</td>\n",
       "      <td>2018-05-25</td>\n",
       "      <td>ultra</td>\n",
       "      <td>1000</td>\n",
       "      <td>30720</td>\n",
       "      <td>3000</td>\n",
       "      <td>1950</td>\n",
       "      <td>150</td>\n",
       "      <td>1</td>\n",
       "      <td>1</td>\n",
       "    </tr>\n",
       "    <tr>\n",
       "      <td>4</td>\n",
       "      <td>1000</td>\n",
       "      <td>9</td>\n",
       "      <td>27.0</td>\n",
       "      <td>14558.0</td>\n",
       "      <td>58.0</td>\n",
       "      <td>436.0</td>\n",
       "      <td>57.0</td>\n",
       "      <td>52</td>\n",
       "      <td>2018-12-31</td>\n",
       "      <td>краснодар</td>\n",
       "      <td>2018-05-25</td>\n",
       "      <td>ultra</td>\n",
       "      <td>1000</td>\n",
       "      <td>30720</td>\n",
       "      <td>3000</td>\n",
       "      <td>1950</td>\n",
       "      <td>150</td>\n",
       "      <td>1</td>\n",
       "      <td>1</td>\n",
       "    </tr>\n",
       "  </tbody>\n",
       "</table>\n",
       "</div>"
      ],
      "text/plain": [
       "   user_id  month  session_number  mb_used  calls_number  calls_duration  \\\n",
       "0     1000      5             5.0   2253.0          22.0           148.0   \n",
       "1     1000      6            49.0  23218.0          43.0           160.0   \n",
       "2     1000      7            29.0  13989.0          47.0           307.0   \n",
       "3     1000      8            29.0  14045.0          52.0           378.0   \n",
       "4     1000      9            27.0  14558.0          58.0           436.0   \n",
       "\n",
       "   sms_number  age churn_date       city   reg_date tariff_name  \\\n",
       "0        22.0   52 2018-12-31  краснодар 2018-05-25       ultra   \n",
       "1        60.0   52 2018-12-31  краснодар 2018-05-25       ultra   \n",
       "2        75.0   52 2018-12-31  краснодар 2018-05-25       ultra   \n",
       "3        81.0   52 2018-12-31  краснодар 2018-05-25       ultra   \n",
       "4        57.0   52 2018-12-31  краснодар 2018-05-25       ultra   \n",
       "\n",
       "   messages_included  mg_per_month_included  minutes_included  \\\n",
       "0               1000                  30720              3000   \n",
       "1               1000                  30720              3000   \n",
       "2               1000                  30720              3000   \n",
       "3               1000                  30720              3000   \n",
       "4               1000                  30720              3000   \n",
       "\n",
       "   rub_monthly_fee  rub_per_gb  rub_per_message  rub_per_minute  \n",
       "0             1950         150                1               1  \n",
       "1             1950         150                1               1  \n",
       "2             1950         150                1               1  \n",
       "3             1950         150                1               1  \n",
       "4             1950         150                1               1  "
      ]
     },
     "execution_count": 57,
     "metadata": {},
     "output_type": "execute_result"
    }
   ],
   "source": [
    "final.head() # Проверяем таблицу"
   ]
  },
  {
   "cell_type": "markdown",
   "metadata": {},
   "source": [
    "### Считаем месячную выручку с каждого пользователя"
   ]
  },
  {
   "cell_type": "code",
   "execution_count": 58,
   "metadata": {},
   "outputs": [
    {
     "data": {
      "text/plain": [
       "Index(['user_id', 'month', 'session_number', 'mb_used', 'calls_number',\n",
       "       'calls_duration', 'sms_number', 'age', 'churn_date', 'city', 'reg_date',\n",
       "       'tariff_name', 'messages_included', 'mg_per_month_included',\n",
       "       'minutes_included', 'rub_monthly_fee', 'rub_per_gb', 'rub_per_message',\n",
       "       'rub_per_minute'],\n",
       "      dtype='object')"
      ]
     },
     "execution_count": 58,
     "metadata": {},
     "output_type": "execute_result"
    }
   ],
   "source": [
    "final.columns # Выведем название колонок с которым предстоит работать."
   ]
  },
  {
   "cell_type": "markdown",
   "metadata": {},
   "source": [
    "- Разница количества использованных сообщений, минут и мегабайт по отношению к количеству включенному в тарифный пакет."
   ]
  },
  {
   "cell_type": "code",
   "execution_count": 59,
   "metadata": {},
   "outputs": [],
   "source": [
    "final['total_sms'] = final['sms_number'] - final['messages_included'] # Считаем количесвто сообщений"
   ]
  },
  {
   "cell_type": "code",
   "execution_count": 60,
   "metadata": {},
   "outputs": [],
   "source": [
    "final['total_minutes'] = final['calls_duration'] - final['minutes_included'] # Считаем количество минут"
   ]
  },
  {
   "cell_type": "code",
   "execution_count": 61,
   "metadata": {},
   "outputs": [],
   "source": [
    "final['total_mb'] = final['mb_used'] - final['mg_per_month_included'] # Считаем количество мегабайт"
   ]
  },
  {
   "cell_type": "code",
   "execution_count": 62,
   "metadata": {},
   "outputs": [
    {
     "data": {
      "text/html": [
       "<div>\n",
       "<style scoped>\n",
       "    .dataframe tbody tr th:only-of-type {\n",
       "        vertical-align: middle;\n",
       "    }\n",
       "\n",
       "    .dataframe tbody tr th {\n",
       "        vertical-align: top;\n",
       "    }\n",
       "\n",
       "    .dataframe thead th {\n",
       "        text-align: right;\n",
       "    }\n",
       "</style>\n",
       "<table border=\"1\" class=\"dataframe\">\n",
       "  <thead>\n",
       "    <tr style=\"text-align: right;\">\n",
       "      <th></th>\n",
       "      <th>user_id</th>\n",
       "      <th>month</th>\n",
       "      <th>session_number</th>\n",
       "      <th>mb_used</th>\n",
       "      <th>calls_number</th>\n",
       "      <th>calls_duration</th>\n",
       "      <th>sms_number</th>\n",
       "      <th>age</th>\n",
       "      <th>churn_date</th>\n",
       "      <th>city</th>\n",
       "      <th>...</th>\n",
       "      <th>messages_included</th>\n",
       "      <th>mg_per_month_included</th>\n",
       "      <th>minutes_included</th>\n",
       "      <th>rub_monthly_fee</th>\n",
       "      <th>rub_per_gb</th>\n",
       "      <th>rub_per_message</th>\n",
       "      <th>rub_per_minute</th>\n",
       "      <th>total_sms</th>\n",
       "      <th>total_minutes</th>\n",
       "      <th>total_mb</th>\n",
       "    </tr>\n",
       "  </thead>\n",
       "  <tbody>\n",
       "    <tr>\n",
       "      <td>0</td>\n",
       "      <td>1000</td>\n",
       "      <td>5</td>\n",
       "      <td>5.0</td>\n",
       "      <td>2253.0</td>\n",
       "      <td>22.0</td>\n",
       "      <td>148.0</td>\n",
       "      <td>22.0</td>\n",
       "      <td>52</td>\n",
       "      <td>2018-12-31</td>\n",
       "      <td>краснодар</td>\n",
       "      <td>...</td>\n",
       "      <td>1000</td>\n",
       "      <td>30720</td>\n",
       "      <td>3000</td>\n",
       "      <td>1950</td>\n",
       "      <td>150</td>\n",
       "      <td>1</td>\n",
       "      <td>1</td>\n",
       "      <td>-978.0</td>\n",
       "      <td>-2852.0</td>\n",
       "      <td>-28467.0</td>\n",
       "    </tr>\n",
       "    <tr>\n",
       "      <td>1</td>\n",
       "      <td>1000</td>\n",
       "      <td>6</td>\n",
       "      <td>49.0</td>\n",
       "      <td>23218.0</td>\n",
       "      <td>43.0</td>\n",
       "      <td>160.0</td>\n",
       "      <td>60.0</td>\n",
       "      <td>52</td>\n",
       "      <td>2018-12-31</td>\n",
       "      <td>краснодар</td>\n",
       "      <td>...</td>\n",
       "      <td>1000</td>\n",
       "      <td>30720</td>\n",
       "      <td>3000</td>\n",
       "      <td>1950</td>\n",
       "      <td>150</td>\n",
       "      <td>1</td>\n",
       "      <td>1</td>\n",
       "      <td>-940.0</td>\n",
       "      <td>-2840.0</td>\n",
       "      <td>-7502.0</td>\n",
       "    </tr>\n",
       "    <tr>\n",
       "      <td>2</td>\n",
       "      <td>1000</td>\n",
       "      <td>7</td>\n",
       "      <td>29.0</td>\n",
       "      <td>13989.0</td>\n",
       "      <td>47.0</td>\n",
       "      <td>307.0</td>\n",
       "      <td>75.0</td>\n",
       "      <td>52</td>\n",
       "      <td>2018-12-31</td>\n",
       "      <td>краснодар</td>\n",
       "      <td>...</td>\n",
       "      <td>1000</td>\n",
       "      <td>30720</td>\n",
       "      <td>3000</td>\n",
       "      <td>1950</td>\n",
       "      <td>150</td>\n",
       "      <td>1</td>\n",
       "      <td>1</td>\n",
       "      <td>-925.0</td>\n",
       "      <td>-2693.0</td>\n",
       "      <td>-16731.0</td>\n",
       "    </tr>\n",
       "    <tr>\n",
       "      <td>3</td>\n",
       "      <td>1000</td>\n",
       "      <td>8</td>\n",
       "      <td>29.0</td>\n",
       "      <td>14045.0</td>\n",
       "      <td>52.0</td>\n",
       "      <td>378.0</td>\n",
       "      <td>81.0</td>\n",
       "      <td>52</td>\n",
       "      <td>2018-12-31</td>\n",
       "      <td>краснодар</td>\n",
       "      <td>...</td>\n",
       "      <td>1000</td>\n",
       "      <td>30720</td>\n",
       "      <td>3000</td>\n",
       "      <td>1950</td>\n",
       "      <td>150</td>\n",
       "      <td>1</td>\n",
       "      <td>1</td>\n",
       "      <td>-919.0</td>\n",
       "      <td>-2622.0</td>\n",
       "      <td>-16675.0</td>\n",
       "    </tr>\n",
       "    <tr>\n",
       "      <td>4</td>\n",
       "      <td>1000</td>\n",
       "      <td>9</td>\n",
       "      <td>27.0</td>\n",
       "      <td>14558.0</td>\n",
       "      <td>58.0</td>\n",
       "      <td>436.0</td>\n",
       "      <td>57.0</td>\n",
       "      <td>52</td>\n",
       "      <td>2018-12-31</td>\n",
       "      <td>краснодар</td>\n",
       "      <td>...</td>\n",
       "      <td>1000</td>\n",
       "      <td>30720</td>\n",
       "      <td>3000</td>\n",
       "      <td>1950</td>\n",
       "      <td>150</td>\n",
       "      <td>1</td>\n",
       "      <td>1</td>\n",
       "      <td>-943.0</td>\n",
       "      <td>-2564.0</td>\n",
       "      <td>-16162.0</td>\n",
       "    </tr>\n",
       "  </tbody>\n",
       "</table>\n",
       "<p>5 rows × 22 columns</p>\n",
       "</div>"
      ],
      "text/plain": [
       "   user_id  month  session_number  mb_used  calls_number  calls_duration  \\\n",
       "0     1000      5             5.0   2253.0          22.0           148.0   \n",
       "1     1000      6            49.0  23218.0          43.0           160.0   \n",
       "2     1000      7            29.0  13989.0          47.0           307.0   \n",
       "3     1000      8            29.0  14045.0          52.0           378.0   \n",
       "4     1000      9            27.0  14558.0          58.0           436.0   \n",
       "\n",
       "   sms_number  age churn_date       city  ... messages_included  \\\n",
       "0        22.0   52 2018-12-31  краснодар  ...              1000   \n",
       "1        60.0   52 2018-12-31  краснодар  ...              1000   \n",
       "2        75.0   52 2018-12-31  краснодар  ...              1000   \n",
       "3        81.0   52 2018-12-31  краснодар  ...              1000   \n",
       "4        57.0   52 2018-12-31  краснодар  ...              1000   \n",
       "\n",
       "  mg_per_month_included  minutes_included  rub_monthly_fee  rub_per_gb  \\\n",
       "0                 30720              3000             1950         150   \n",
       "1                 30720              3000             1950         150   \n",
       "2                 30720              3000             1950         150   \n",
       "3                 30720              3000             1950         150   \n",
       "4                 30720              3000             1950         150   \n",
       "\n",
       "   rub_per_message  rub_per_minute  total_sms  total_minutes  total_mb  \n",
       "0                1               1     -978.0        -2852.0  -28467.0  \n",
       "1                1               1     -940.0        -2840.0   -7502.0  \n",
       "2                1               1     -925.0        -2693.0  -16731.0  \n",
       "3                1               1     -919.0        -2622.0  -16675.0  \n",
       "4                1               1     -943.0        -2564.0  -16162.0  \n",
       "\n",
       "[5 rows x 22 columns]"
      ]
     },
     "execution_count": 62,
     "metadata": {},
     "output_type": "execute_result"
    }
   ],
   "source": [
    "final.head() # Проверяем"
   ]
  },
  {
   "cell_type": "markdown",
   "metadata": {},
   "source": [
    "После подсчетов в таблице присутсвуют отрицательные значения в количестве использованных сообщений, минут и мегабайт, это связано с тем, что определенные пользователи не превышали лимит предусмотренные тарифным пакетом. Мы замени отрицательные значения на ноль. "
   ]
  },
  {
   "cell_type": "code",
   "execution_count": 63,
   "metadata": {},
   "outputs": [],
   "source": [
    "# Для этого воспользуемся методом loc\n",
    "final.loc[final['total_sms'] < 0, 'total_sms'] = 0\n",
    "final.loc[final['total_minutes'] < 0, 'total_minutes'] = 0\n",
    "final.loc[final['total_mb'] < 0, 'total_mb'] = 0\n"
   ]
  },
  {
   "cell_type": "markdown",
   "metadata": {},
   "source": [
    "Выручка с одного абонента заключается в сумме месячной стоимость тарифного плана и дополнительных расходов сверх тарифного пакета, предусмотренных тарифом. "
   ]
  },
  {
   "cell_type": "code",
   "execution_count": 64,
   "metadata": {},
   "outputs": [],
   "source": [
    "final['overpayment'] = (final['rub_monthly_fee'] + final['total_sms'] * final['rub_per_message'] \n",
    "                        + final['total_minutes'] * final['rub_per_minute'] + final['total_mb']/1024 * final['rub_per_gb'])\n",
    "#Прибавляем к ежемесячной плате количество перерасхода умноженное на стоимость сверх пакета.\n",
    "# Также, учитываем, что  1 гигабайт = 1024 мегабайта"
   ]
  },
  {
   "cell_type": "code",
   "execution_count": 65,
   "metadata": {},
   "outputs": [],
   "source": [
    "final['overpayment'] = final['overpayment'].round(0) # округляем значения"
   ]
  },
  {
   "cell_type": "code",
   "execution_count": 66,
   "metadata": {},
   "outputs": [
    {
     "data": {
      "text/html": [
       "<div>\n",
       "<style scoped>\n",
       "    .dataframe tbody tr th:only-of-type {\n",
       "        vertical-align: middle;\n",
       "    }\n",
       "\n",
       "    .dataframe tbody tr th {\n",
       "        vertical-align: top;\n",
       "    }\n",
       "\n",
       "    .dataframe thead th {\n",
       "        text-align: right;\n",
       "    }\n",
       "</style>\n",
       "<table border=\"1\" class=\"dataframe\">\n",
       "  <thead>\n",
       "    <tr style=\"text-align: right;\">\n",
       "      <th></th>\n",
       "      <th>user_id</th>\n",
       "      <th>month</th>\n",
       "      <th>session_number</th>\n",
       "      <th>mb_used</th>\n",
       "      <th>calls_number</th>\n",
       "      <th>calls_duration</th>\n",
       "      <th>sms_number</th>\n",
       "      <th>age</th>\n",
       "      <th>churn_date</th>\n",
       "      <th>city</th>\n",
       "      <th>...</th>\n",
       "      <th>mg_per_month_included</th>\n",
       "      <th>minutes_included</th>\n",
       "      <th>rub_monthly_fee</th>\n",
       "      <th>rub_per_gb</th>\n",
       "      <th>rub_per_message</th>\n",
       "      <th>rub_per_minute</th>\n",
       "      <th>total_sms</th>\n",
       "      <th>total_minutes</th>\n",
       "      <th>total_mb</th>\n",
       "      <th>overpayment</th>\n",
       "    </tr>\n",
       "  </thead>\n",
       "  <tbody>\n",
       "    <tr>\n",
       "      <td>0</td>\n",
       "      <td>1000</td>\n",
       "      <td>5</td>\n",
       "      <td>5.0</td>\n",
       "      <td>2253.0</td>\n",
       "      <td>22.0</td>\n",
       "      <td>148.0</td>\n",
       "      <td>22.0</td>\n",
       "      <td>52</td>\n",
       "      <td>2018-12-31</td>\n",
       "      <td>краснодар</td>\n",
       "      <td>...</td>\n",
       "      <td>30720</td>\n",
       "      <td>3000</td>\n",
       "      <td>1950</td>\n",
       "      <td>150</td>\n",
       "      <td>1</td>\n",
       "      <td>1</td>\n",
       "      <td>0.0</td>\n",
       "      <td>0.0</td>\n",
       "      <td>0.0</td>\n",
       "      <td>1950.0</td>\n",
       "    </tr>\n",
       "    <tr>\n",
       "      <td>1</td>\n",
       "      <td>1000</td>\n",
       "      <td>6</td>\n",
       "      <td>49.0</td>\n",
       "      <td>23218.0</td>\n",
       "      <td>43.0</td>\n",
       "      <td>160.0</td>\n",
       "      <td>60.0</td>\n",
       "      <td>52</td>\n",
       "      <td>2018-12-31</td>\n",
       "      <td>краснодар</td>\n",
       "      <td>...</td>\n",
       "      <td>30720</td>\n",
       "      <td>3000</td>\n",
       "      <td>1950</td>\n",
       "      <td>150</td>\n",
       "      <td>1</td>\n",
       "      <td>1</td>\n",
       "      <td>0.0</td>\n",
       "      <td>0.0</td>\n",
       "      <td>0.0</td>\n",
       "      <td>1950.0</td>\n",
       "    </tr>\n",
       "    <tr>\n",
       "      <td>2</td>\n",
       "      <td>1000</td>\n",
       "      <td>7</td>\n",
       "      <td>29.0</td>\n",
       "      <td>13989.0</td>\n",
       "      <td>47.0</td>\n",
       "      <td>307.0</td>\n",
       "      <td>75.0</td>\n",
       "      <td>52</td>\n",
       "      <td>2018-12-31</td>\n",
       "      <td>краснодар</td>\n",
       "      <td>...</td>\n",
       "      <td>30720</td>\n",
       "      <td>3000</td>\n",
       "      <td>1950</td>\n",
       "      <td>150</td>\n",
       "      <td>1</td>\n",
       "      <td>1</td>\n",
       "      <td>0.0</td>\n",
       "      <td>0.0</td>\n",
       "      <td>0.0</td>\n",
       "      <td>1950.0</td>\n",
       "    </tr>\n",
       "    <tr>\n",
       "      <td>3</td>\n",
       "      <td>1000</td>\n",
       "      <td>8</td>\n",
       "      <td>29.0</td>\n",
       "      <td>14045.0</td>\n",
       "      <td>52.0</td>\n",
       "      <td>378.0</td>\n",
       "      <td>81.0</td>\n",
       "      <td>52</td>\n",
       "      <td>2018-12-31</td>\n",
       "      <td>краснодар</td>\n",
       "      <td>...</td>\n",
       "      <td>30720</td>\n",
       "      <td>3000</td>\n",
       "      <td>1950</td>\n",
       "      <td>150</td>\n",
       "      <td>1</td>\n",
       "      <td>1</td>\n",
       "      <td>0.0</td>\n",
       "      <td>0.0</td>\n",
       "      <td>0.0</td>\n",
       "      <td>1950.0</td>\n",
       "    </tr>\n",
       "    <tr>\n",
       "      <td>4</td>\n",
       "      <td>1000</td>\n",
       "      <td>9</td>\n",
       "      <td>27.0</td>\n",
       "      <td>14558.0</td>\n",
       "      <td>58.0</td>\n",
       "      <td>436.0</td>\n",
       "      <td>57.0</td>\n",
       "      <td>52</td>\n",
       "      <td>2018-12-31</td>\n",
       "      <td>краснодар</td>\n",
       "      <td>...</td>\n",
       "      <td>30720</td>\n",
       "      <td>3000</td>\n",
       "      <td>1950</td>\n",
       "      <td>150</td>\n",
       "      <td>1</td>\n",
       "      <td>1</td>\n",
       "      <td>0.0</td>\n",
       "      <td>0.0</td>\n",
       "      <td>0.0</td>\n",
       "      <td>1950.0</td>\n",
       "    </tr>\n",
       "  </tbody>\n",
       "</table>\n",
       "<p>5 rows × 23 columns</p>\n",
       "</div>"
      ],
      "text/plain": [
       "   user_id  month  session_number  mb_used  calls_number  calls_duration  \\\n",
       "0     1000      5             5.0   2253.0          22.0           148.0   \n",
       "1     1000      6            49.0  23218.0          43.0           160.0   \n",
       "2     1000      7            29.0  13989.0          47.0           307.0   \n",
       "3     1000      8            29.0  14045.0          52.0           378.0   \n",
       "4     1000      9            27.0  14558.0          58.0           436.0   \n",
       "\n",
       "   sms_number  age churn_date       city  ... mg_per_month_included  \\\n",
       "0        22.0   52 2018-12-31  краснодар  ...                 30720   \n",
       "1        60.0   52 2018-12-31  краснодар  ...                 30720   \n",
       "2        75.0   52 2018-12-31  краснодар  ...                 30720   \n",
       "3        81.0   52 2018-12-31  краснодар  ...                 30720   \n",
       "4        57.0   52 2018-12-31  краснодар  ...                 30720   \n",
       "\n",
       "  minutes_included  rub_monthly_fee  rub_per_gb  rub_per_message  \\\n",
       "0             3000             1950         150                1   \n",
       "1             3000             1950         150                1   \n",
       "2             3000             1950         150                1   \n",
       "3             3000             1950         150                1   \n",
       "4             3000             1950         150                1   \n",
       "\n",
       "   rub_per_minute  total_sms  total_minutes  total_mb  overpayment  \n",
       "0               1        0.0            0.0       0.0       1950.0  \n",
       "1               1        0.0            0.0       0.0       1950.0  \n",
       "2               1        0.0            0.0       0.0       1950.0  \n",
       "3               1        0.0            0.0       0.0       1950.0  \n",
       "4               1        0.0            0.0       0.0       1950.0  \n",
       "\n",
       "[5 rows x 23 columns]"
      ]
     },
     "execution_count": 66,
     "metadata": {},
     "output_type": "execute_result"
    }
   ],
   "source": [
    "final.head() # проверяем. Обнаружены «NaN», в целом это не помешает дальнейшей работе, поэтому преобразовывать «NaN» не будем. "
   ]
  },
  {
   "cell_type": "markdown",
   "metadata": {},
   "source": [
    "## Анализ данных"
   ]
  },
  {
   "cell_type": "markdown",
   "metadata": {},
   "source": [
    "Наша задача заключается в сравнении тарифов, поэтому выделим два набора данных для тарифа «Смарт» и тарифа «Ультра»"
   ]
  },
  {
   "cell_type": "code",
   "execution_count": 67,
   "metadata": {},
   "outputs": [],
   "source": [
    "final_smart = final.query('tariff_name == \"smart\"') # Делаем срез по тарифу «смарт»"
   ]
  },
  {
   "cell_type": "code",
   "execution_count": 68,
   "metadata": {},
   "outputs": [],
   "source": [
    "final_ultra = final.query('tariff_name == \"ultra\"') # Аналогично"
   ]
  },
  {
   "cell_type": "markdown",
   "metadata": {},
   "source": [
    "### Количество минут разговора"
   ]
  },
  {
   "cell_type": "code",
   "execution_count": 69,
   "metadata": {},
   "outputs": [
    {
     "data": {
      "image/png": "[encoded data removed]",
      "text/plain": [
       "<Figure size 1008x360 with 4 Axes>"
      ]
     },
     "metadata": {
      "needs_background": "light"
     },
     "output_type": "display_data"
    }
   ],
   "source": [
    "plt.subplots(figsize=(14,5))\n",
    "plot = final_smart.hist('calls_duration', ax=plt.subplot(1,4,1))\n",
    "plt.title('Длительность разговора тариф «Смарт»')\n",
    "plot = final_smart.boxplot('calls_duration', ax=plt.subplot(1,4,2))\n",
    "plt.xlabel('Длительность разговора тариф «Смарт»')\n",
    "plot = final_ultra.hist('calls_duration', ax=plt.subplot(1,4,3))\n",
    "plt.title('Длительность разговора тариф «Ультра»')\n",
    "plot = final_ultra.boxplot('calls_duration',ax=plt.subplot(1,4,4))\n",
    "plt.xlabel('Длительность разговора тариф «Ультра»');"
   ]
  },
  {
   "cell_type": "markdown",
   "metadata": {},
   "source": [
    "Судя по графикам, они слегка скошены вправо, перед нами распределение Пуассона. С учетом округления перед нами дискретная величина и она может принимать целочисленные значения."
   ]
  },
  {
   "cell_type": "markdown",
   "metadata": {},
   "source": [
    "Считаем среднее количество, стандартное отклонение и дисперсию. "
   ]
  },
  {
   "cell_type": "code",
   "execution_count": 70,
   "metadata": {},
   "outputs": [],
   "source": [
    "# Для удобной записи значений создаем отдельный фрейм\n",
    "columns=['mean', 'var', 'std']\n",
    "calculat = pd.DataFrame(columns = columns)"
   ]
  },
  {
   "cell_type": "code",
   "execution_count": 71,
   "metadata": {},
   "outputs": [
    {
     "name": "stdout",
     "output_type": "stream",
     "text": [
      "Smart\n",
      "\n",
      "Средняя длительность разговора одного пользователя в месяц: 387 мин\n",
      "Дисперсия: 30395.8\n",
      "Стандартное отклонение: 174.3\n",
      "\n",
      "Ultra\n",
      "\n",
      "Средняя длительность разговора одного пользователя в месяц: 506 мин\n",
      "Дисперсия: 79676.6\n",
      "Стандартное отклонение: 282.3\n",
      "\n"
     ]
    }
   ],
   "source": [
    "#Пишем функцию.\n",
    "for data in [['Smart', final_smart['calls_duration']],['Ultra', final_ultra['calls_duration']]]:\n",
    "    print(data[0])\n",
    "    print()\n",
    "    print('Средняя длительность разговора одного пользователя в месяц: {:.0f} мин'.format(data[1].mean()))\n",
    "    print('Дисперсия: {:.1f}'.format(np.var(data[1])))\n",
    "    print('Стандартное отклонение: {:.1f}'.format(np.std(data[1])))\n",
    "    print()\n",
    "    calculat = calculat.append({\n",
    "        'mean': data[1].mean(),\n",
    "        'var': np.var(data[1]),\n",
    "        'std': np.std(data[1])}, ignore_index=True\n",
    "    )"
   ]
  },
  {
   "cell_type": "markdown",
   "metadata": {},
   "source": [
    "Пользователи тарифа «Смарт» укладываются в диапазон 250-625 минут разговора. То есть, определнная часть клиентов укладывается в минуты разговора отведенные их тарифом. Некоторые тратят меньше, возможно в целях экономии. Другая часть клиентов использует дополнительные минуты разговора сверх тарифного пакета. \n",
    "\n",
    "Пользователи тарифа «Ультра» укладываются в диапазон 200-800 минут разговора. Таким образом, согласно их тарифному плану они не используют большую часть оставшихся минут."
   ]
  },
  {
   "cell_type": "markdown",
   "metadata": {},
   "source": [
    "### Количество отправленных сообщений"
   ]
  },
  {
   "cell_type": "code",
   "execution_count": 72,
   "metadata": {},
   "outputs": [
    {
     "data": {
      "image/png": "[encoded data removed]",
      "text/plain": [
       "<Figure size 1008x360 with 4 Axes>"
      ]
     },
     "metadata": {
      "needs_background": "light"
     },
     "output_type": "display_data"
    }
   ],
   "source": [
    "plt.subplots(figsize=(14,5))\n",
    "plot = final_smart.hist('sms_number', bins=[\n",
    "    0,20,40,60,80,100,120,140,150,160], ax=plt.subplot(1,4,1))\n",
    "plt.title('Количество сообщений в месяц, тариф «Смарт»')\n",
    "plot = final_smart.boxplot('sms_number', ax=plt.subplot(1,4,2))\n",
    "plt.xlabel('Количество сообщений в месяц, тариф «Смарт»')\n",
    "plot = final_ultra.hist('sms_number', bins=[\n",
    "    0,20,40,60,80,100,120,140,160,180,200,220,240], ax=plt.subplot(1,4,3))\n",
    "plt.title('Количество сообщений в месяц, тариф «Ультра»')\n",
    "plot = final_ultra.boxplot('sms_number', ax=plt.subplot(1,4,4))\n",
    "plt.xlabel('Количество сообщений в месяц, тариф «Ультра»');"
   ]
  },
  {
   "cell_type": "markdown",
   "metadata": {},
   "source": [
    "График демонстрирует распределение Пуассона. Количество отправленных сообщений — это дискретная величина."
   ]
  },
  {
   "cell_type": "code",
   "execution_count": 73,
   "metadata": {},
   "outputs": [
    {
     "name": "stdout",
     "output_type": "stream",
     "text": [
      "Smart\n",
      "\n",
      "Среднее количество отправленных сообщений в месяц: 39\n",
      "Дисперсия: 716.9\n",
      "Стандартное отклонение: 26.8\n",
      "\n",
      "Ultra\n",
      "\n",
      "Среднее количество отправленных сообщений в месяц: 62\n",
      "Дисперсия: 2117.0\n",
      "Стандартное отклонение: 46.0\n",
      "\n"
     ]
    }
   ],
   "source": [
    "for data in [['Smart', final_smart['sms_number']],['Ultra', final_ultra['sms_number']]]:\n",
    "    print(data[0])\n",
    "    print()\n",
    "    print('Среднее количество отправленных сообщений в месяц: {:.0f}'.format(data[1].mean()))\n",
    "    print('Дисперсия: {:.1f}'.format(np.var(data[1])))\n",
    "    print('Стандартное отклонение: {:.1f}'.format(np.std(data[1])))\n",
    "    print()\n",
    "    calculat = calculat.append({\n",
    "        'mean': data[1].mean(),\n",
    "        'var': np.var(data[1]),\n",
    "        'std': np.std(data[1])}, ignore_index=True\n",
    "    )\n",
    "    "
   ]
  },
  {
   "cell_type": "markdown",
   "metadata": {},
   "source": [
    "Пользователи тарифа «Смарт» в целом отправляют от 10 до 70 сообщений в месяц. Среди этих пользователей есть значительная часть клиентов, которые оплачивают дополнительные сообщения по условиям сверх тарифного пакета.\n",
    "\n",
    "Пользователи тарифа «Ультра» в целом отправляют от 10 до 110 сообщений в месяц. Среди них есть небольшая часть клиентов отправляющих от 150 до 200 сообщений в месяц. Таким образом, данные пользователи используют эту услугу на 11% и не расходуют предложенный пакет сообщений. "
   ]
  },
  {
   "cell_type": "markdown",
   "metadata": {},
   "source": [
    "### Количество израсходованного трафика"
   ]
  },
  {
   "cell_type": "code",
   "execution_count": 74,
   "metadata": {},
   "outputs": [
    {
     "data": {
      "image/png": "[encoded data removed]",
      "text/plain": [
       "<Figure size 1008x360 with 4 Axes>"
      ]
     },
     "metadata": {
      "needs_background": "light"
     },
     "output_type": "display_data"
    }
   ],
   "source": [
    "plt.subplots(figsize=(14,5))\n",
    "plot = final_smart.hist('mb_used', ax=plt.subplot(1,4,1))\n",
    "plt.title('Длительность разговора тариф «Смарт»')\n",
    "plot = final_smart.boxplot('mb_used', ax=plt.subplot(1,4,2))\n",
    "plt.xlabel('Длительность разговора тариф «Смарт»')\n",
    "plot = final_ultra.hist('mb_used', ax=plt.subplot(1,4,3))\n",
    "plt.title('Длительность разговора тариф «Ультра»')\n",
    "plot = final_ultra.boxplot('mb_used',ax=plt.subplot(1,4,4))\n",
    "plt.xlabel('Длительность разговора тариф «Ультра»');"
   ]
  },
  {
   "cell_type": "markdown",
   "metadata": {},
   "source": [
    "Данные слегка скошены вправо, гистограмы демонстрируют случайное распределение. Ранее мы округляли значения, поэтому количество трафика в мегабайтах — дискретная величина. "
   ]
  },
  {
   "cell_type": "code",
   "execution_count": 75,
   "metadata": {},
   "outputs": [
    {
     "name": "stdout",
     "output_type": "stream",
     "text": [
      "Smart\n",
      "\n",
      "Среднее количество потраченого трафика в месяц: 16203\n",
      "Дисперсия: 34288109.3\n",
      "Стандартное отклонение: 5855.6\n",
      "\n",
      "Ultra\n",
      "\n",
      "Среднее количество потраченого трафика в месяц: 19652\n",
      "Дисперсия: 98599074.5\n",
      "Стандартное отклонение: 9929.7\n",
      "\n"
     ]
    }
   ],
   "source": [
    "for data in [['Smart', final_smart['mb_used']],['Ultra', final_ultra['mb_used']]]:\n",
    "    print(data[0])\n",
    "    print()\n",
    "    print('Среднее количество потраченого трафика в месяц: {:.0f}'.format(data[1].mean()))\n",
    "    print('Дисперсия: {:.1f}'.format(np.var(data[1])))\n",
    "    print('Стандартное отклонение: {:.1f}'.format(np.std(data[1])))\n",
    "    print()\n",
    "    calculat = calculat.append({\n",
    "        'mean': data[1].mean(),\n",
    "        'var': np.var(data[1]),\n",
    "        'std': np.std(data[1])}, ignore_index=True\n",
    "    )"
   ]
  },
  {
   "cell_type": "markdown",
   "metadata": {},
   "source": [
    "Пользователи тарифа «Смарт» используют примерно 9 - 22 Гб интернет-трафика. При этом значительная часть клиентов превышает лимит (15 Гб) допустимый базовыми условиями тарифа. Таким образом, большая часть пользователей покупает услуги сверх тарифного пакета.\n",
    "\n",
    "Пользователи тарифа «Ультра» используют примерно 8,7 - 29 Гб интернет-трафика. То есть, они не расходуют полностью предоставленный пакет мобильного интернета. "
   ]
  },
  {
   "cell_type": "markdown",
   "metadata": {},
   "source": [
    "### Вывод\n",
    "\n",
    "Пользователи тарифа «Смарт» укладываются в отведеный лимит времени разговора. Значение 500 минут выглядит наглядно и видимо, зная конкретные ограничения своего тарифа, пользователи ведут себя экономно. Хотя среди них и встречается определнаная часть клиентов оплачивающих дополнительное время. В целом, пользователи данного тарифа склонны опционально докупать услуги сверх таривного пакета: количество сообщений и мобильного интернета. Соответвенно, данным пользователям недостаточно предосталвенного пакета услуг. \n",
    "\n",
    "И наоборот, пользователи тарифа «Ультра» не используют весь объем пакета услуг включенного в абоненскую плату. \n",
    "\n",
    "Возможно, выгодней для пользователей будет средний тариф между «Смарт» и «Ультра» или тариф-трансформер, услуги которого можно составить самостоятельно. \n",
    "\n",
    "На первый взгляд тариф «Смарт» выглядит выгодней для бизнеса, так как пользователи совершают дополнительные покупки. Но у тарифов разная цена. Поэтому необходимо сравнить среднюю выручку по каждому тарифу. \n",
    "\n"
   ]
  },
  {
   "cell_type": "markdown",
   "metadata": {},
   "source": [
    "### Формирование и проверка гипотез"
   ]
  },
  {
   "cell_type": "markdown",
   "metadata": {},
   "source": [
    "#### Месячная выручка с пользователя по каждому тарифу"
   ]
  },
  {
   "cell_type": "code",
   "execution_count": 76,
   "metadata": {},
   "outputs": [
    {
     "data": {
      "image/png": "[encoded data removed]",
      "text/plain": [
       "<Figure size 1008x360 with 4 Axes>"
      ]
     },
     "metadata": {
      "needs_background": "light"
     },
     "output_type": "display_data"
    }
   ],
   "source": [
    "# Строим график и диаграмму размаха по нашей колонке overpayment, в которой выручка с одного абонента \n",
    "# Cумма абонетской платы и дополнительных расходов сверх тарифного пакета, предусмотренных тарифом.\n",
    "plt.subplots(figsize=(14,5))\n",
    "plot = final_smart.hist('overpayment', bins=[\n",
    "    550,750,950,1150,1350,1550,1750,1950,2150,2350,2550,2750,2950,3150,3350,3550], ax=plt.subplot(1,4,1))\n",
    "plt.title('Месячная выручка тариф «Смарт»')\n",
    "plot = final_smart.boxplot('overpayment', ax=plt.subplot(1,4,2))\n",
    "plt.xlabel('Месячная выручка тариф «Смарт»')\n",
    "plot = final_ultra.hist('overpayment', bins=[\n",
    "    1950,2150,2350,2550,2750,2950,3150,3350,3550,3750,3950,4150,4350,4550,4750,4950,5150,5350], ax=plt.subplot(1,4,3))\n",
    "plt.title('Месячная выручка тариф «Ультра»')\n",
    "plot = final_ultra.boxplot('overpayment', ax=plt.subplot(1,4,4))\n",
    "plt.xlabel('Месячная выручка тариф «Ультра»');\n"
   ]
  },
  {
   "cell_type": "markdown",
   "metadata": {},
   "source": [
    "Судя по графикам и распределению месячная выручка в тарифе «Смарт» составляет около 1 500 рублей, а в тарифе «Ультра» около 2 тыс. рублей. Учитывая стоимость тарифа «Смарт» ( 550 рублей), пользователи  совершают дполнительные покупки примерно на 700 рублей. \n",
    "\n",
    "Также, учитывая стоимость тарифа «Ультра» (1 950 рублей), при условии месячной выручки в 2 тыс. рублей мы можем сделать вывод, что дополнительный объем услуг, да и большое количество минут/сообщений/трафика остаются невостребованными. При этом, месячная выручка с тарифа «Ультра» значительно больше, чем с тарифа «Смарт».  \n",
    "\n",
    "\n",
    "Изучим среднее для детального анализа."
   ]
  },
  {
   "cell_type": "code",
   "execution_count": 77,
   "metadata": {},
   "outputs": [
    {
     "name": "stdout",
     "output_type": "stream",
     "text": [
      "Smart\n",
      "\n",
      "Среднее выручка с пользователя в месяц: 1184\n",
      "Дисперсия: 583005.6\n",
      "Стандартное отклонение: 763.5\n",
      "\n",
      "Ultra\n",
      "\n",
      "Среднее выручка с пользователя в месяц: 2040\n",
      "Дисперсия: 97706.8\n",
      "Стандартное отклонение: 312.6\n",
      "\n"
     ]
    }
   ],
   "source": [
    "for data in [['Smart', final_smart['overpayment']],['Ultra', final_ultra['overpayment']]]:\n",
    "    print(data[0])\n",
    "    print()\n",
    "    print('Среднее выручка с пользователя в месяц: {:.0f}'.format(data[1].mean()))\n",
    "    print('Дисперсия: {:.1f}'.format(np.var(data[1])))\n",
    "    print('Стандартное отклонение: {:.1f}'.format(np.std(data[1])))\n",
    "    print()\n",
    "    calculat = calculat.append({\n",
    "        'mean': data[1].mean(),\n",
    "        'var': np.var(data[1]),\n",
    "        'std': np.std(data[1])}, ignore_index=True\n",
    "    )"
   ]
  },
  {
   "cell_type": "code",
   "execution_count": 78,
   "metadata": {},
   "outputs": [],
   "source": [
    "# Взгляним на метрики тарифов — сведем все в одну таблицу для наглядности.\n",
    "calculat.index = [\n",
    "    'time_smart', 'time_ultra',\n",
    "    'message_smart', 'message_ultra',\n",
    "    'trafic_smart', 'trafic_ultra',\n",
    "    'overpay_smart', 'overpay_ultra']"
   ]
  },
  {
   "cell_type": "code",
   "execution_count": 79,
   "metadata": {},
   "outputs": [
    {
     "data": {
      "text/html": [
       "<div>\n",
       "<style scoped>\n",
       "    .dataframe tbody tr th:only-of-type {\n",
       "        vertical-align: middle;\n",
       "    }\n",
       "\n",
       "    .dataframe tbody tr th {\n",
       "        vertical-align: top;\n",
       "    }\n",
       "\n",
       "    .dataframe thead th {\n",
       "        text-align: right;\n",
       "    }\n",
       "</style>\n",
       "<table border=\"1\" class=\"dataframe\">\n",
       "  <thead>\n",
       "    <tr style=\"text-align: right;\">\n",
       "      <th></th>\n",
       "      <th>mean</th>\n",
       "      <th>var</th>\n",
       "      <th>std</th>\n",
       "    </tr>\n",
       "  </thead>\n",
       "  <tbody>\n",
       "    <tr>\n",
       "      <td>time_smart</td>\n",
       "      <td>386.554455</td>\n",
       "      <td>3.039579e+04</td>\n",
       "      <td>174.343897</td>\n",
       "    </tr>\n",
       "    <tr>\n",
       "      <td>time_ultra</td>\n",
       "      <td>505.598300</td>\n",
       "      <td>7.967663e+04</td>\n",
       "      <td>282.270486</td>\n",
       "    </tr>\n",
       "    <tr>\n",
       "      <td>message_smart</td>\n",
       "      <td>38.736075</td>\n",
       "      <td>7.168533e+02</td>\n",
       "      <td>26.774116</td>\n",
       "    </tr>\n",
       "    <tr>\n",
       "      <td>message_ultra</td>\n",
       "      <td>61.587261</td>\n",
       "      <td>2.116999e+03</td>\n",
       "      <td>46.010858</td>\n",
       "    </tr>\n",
       "    <tr>\n",
       "      <td>trafic_smart</td>\n",
       "      <td>16202.881508</td>\n",
       "      <td>3.428811e+07</td>\n",
       "      <td>5855.604950</td>\n",
       "    </tr>\n",
       "    <tr>\n",
       "      <td>trafic_ultra</td>\n",
       "      <td>19651.975385</td>\n",
       "      <td>9.859907e+07</td>\n",
       "      <td>9929.706670</td>\n",
       "    </tr>\n",
       "    <tr>\n",
       "      <td>overpay_smart</td>\n",
       "      <td>1184.228198</td>\n",
       "      <td>5.830056e+05</td>\n",
       "      <td>763.548006</td>\n",
       "    </tr>\n",
       "    <tr>\n",
       "      <td>overpay_ultra</td>\n",
       "      <td>2039.699468</td>\n",
       "      <td>9.770683e+04</td>\n",
       "      <td>312.580922</td>\n",
       "    </tr>\n",
       "  </tbody>\n",
       "</table>\n",
       "</div>"
      ],
      "text/plain": [
       "                       mean           var          std\n",
       "time_smart       386.554455  3.039579e+04   174.343897\n",
       "time_ultra       505.598300  7.967663e+04   282.270486\n",
       "message_smart     38.736075  7.168533e+02    26.774116\n",
       "message_ultra     61.587261  2.116999e+03    46.010858\n",
       "trafic_smart   16202.881508  3.428811e+07  5855.604950\n",
       "trafic_ultra   19651.975385  9.859907e+07  9929.706670\n",
       "overpay_smart   1184.228198  5.830056e+05   763.548006\n",
       "overpay_ultra   2039.699468  9.770683e+04   312.580922"
      ]
     },
     "execution_count": 79,
     "metadata": {},
     "output_type": "execute_result"
    }
   ],
   "source": [
    "calculat # Тарифные метрики"
   ]
  },
  {
   "cell_type": "markdown",
   "metadata": {},
   "source": [
    "### Гипотеза: «Равенство средней выручки у двух тарифов»\n",
    "\n",
    "- Нулевая гипотеза: среднее двух выборок равны.\n",
    "- Обратная гипотеза: среднее двух выборок не равны."
   ]
  },
  {
   "cell_type": "code",
   "execution_count": 80,
   "metadata": {},
   "outputs": [],
   "source": [
    "alpha = .05 # Задаем критический уровень статистической значимости"
   ]
  },
  {
   "cell_type": "code",
   "execution_count": 81,
   "metadata": {},
   "outputs": [],
   "source": [
    "smart_kit = final_smart['overpayment'].dropna().reset_index(drop=True) # Удаляем пропуски в колонке оплаты"
   ]
  },
  {
   "cell_type": "code",
   "execution_count": 82,
   "metadata": {},
   "outputs": [],
   "source": [
    "ultra_kit = final_ultra['overpayment'].dropna().reset_index(drop=True)"
   ]
  },
  {
   "cell_type": "code",
   "execution_count": 83,
   "metadata": {},
   "outputs": [],
   "source": [
    "result = st.ttest_ind(\n",
    "    smart_kit,\n",
    "    ultra_kit\n",
    ")"
   ]
  },
  {
   "cell_type": "code",
   "execution_count": 84,
   "metadata": {},
   "outputs": [
    {
     "name": "stdout",
     "output_type": "stream",
     "text": [
      "Гипотеза не подтверждается\n"
     ]
    }
   ],
   "source": [
    "if (result.pvalue < alpha):\n",
    "    print('Гипотеза не подтверждается')\n",
    "else:\n",
    "    print('Гипотеза подтверждается')\n"
   ]
  },
  {
   "cell_type": "markdown",
   "metadata": {},
   "source": [
    "Таким образом, среднее значение выборок не равны, а это значит, что средняя выручка по тарифам различается."
   ]
  },
  {
   "cell_type": "markdown",
   "metadata": {},
   "source": [
    "### Гипотеза: «Средняя выручка по клиентам из Москвы равна средней выручке по клиентам других регионов»"
   ]
  },
  {
   "cell_type": "code",
   "execution_count": 85,
   "metadata": {},
   "outputs": [
    {
     "data": {
      "image/png": "[encoded data removed]",
      "text/plain": [
       "<Figure size 648x648 with 1 Axes>"
      ]
     },
     "metadata": {},
     "output_type": "display_data"
    }
   ],
   "source": [
    "# Строим график с выборкой по 10 основным городам\n",
    "user2['city'].value_counts().head(10).plot(\n",
    "    kind='pie',\n",
    "    title='Топ-10 городов',\n",
    "    autopct='%.1f%%',\n",
    "    figsize=(9,9)\n",
    ")\n",
    "plt.ylabel('');\n"
   ]
  },
  {
   "cell_type": "code",
   "execution_count": 86,
   "metadata": {},
   "outputs": [],
   "source": [
    "# Делаем срез по Москве и другим регионам\n",
    "city_moscow = final.query('city == \"москва\"') # Выбираем только Москву\n",
    "another_city = final.query('city != \"москва\"') # Выбираем все кроме Москвы"
   ]
  },
  {
   "cell_type": "markdown",
   "metadata": {},
   "source": [
    "- Нулевая гипотеза: среднее двух выборок равны;\n",
    "- Обратная гипотеза: среднее двух выборок не равны;"
   ]
  },
  {
   "cell_type": "code",
   "execution_count": 87,
   "metadata": {},
   "outputs": [],
   "source": [
    "moscow_kit = city_moscow['overpayment'].dropna().reset_index(drop=True)"
   ]
  },
  {
   "cell_type": "code",
   "execution_count": 88,
   "metadata": {},
   "outputs": [],
   "source": [
    "another_kit = another_city['overpayment'].dropna().reset_index(drop=True)"
   ]
  },
  {
   "cell_type": "code",
   "execution_count": 89,
   "metadata": {},
   "outputs": [],
   "source": [
    "result_city = st.ttest_ind(\n",
    "    moscow_kit,\n",
    "    another_kit)"
   ]
  },
  {
   "cell_type": "code",
   "execution_count": 90,
   "metadata": {},
   "outputs": [
    {
     "name": "stdout",
     "output_type": "stream",
     "text": [
      "Гипотеза не подтверждается\n"
     ]
    }
   ],
   "source": [
    "if (result_city.pvalue < alpha):\n",
    "    print('Гипотеза не подтверждается')\n",
    "else:\n",
    "    print('Гипотеза подтверждается')"
   ]
  },
  {
   "cell_type": "markdown",
   "metadata": {},
   "source": [
    "Таким образом, средняя выручка по тарифам в Москве и регионах не одинакова. Выручка зависит от региона. "
   ]
  },
  {
   "cell_type": "markdown",
   "metadata": {},
   "source": [
    "### Вывод\n",
    "\n",
    "Изучив все данные мы пришли к выводу, что пользователям тарифа «Смарт» не достаточно объема предоставляемых услуг тарифного пакета. Поэтому они вынуждены покупать дополнительное количество минут, сообщение и интернет-трафика. Пользователи тарифа «Ультра» не используют весь объем пакета услуг включенного в абоненскую плату, соответвенно в гораздо меньшей степени совершают дополнительные покупки по услугам.  \n",
    "\n",
    "Месячная выручка в тарифе «Смарт» составляет около 1 500 рублей, а среднея выручка 1184 рублей. Учитывая стоимость тарифа «Смарт» ( 550 рублей), пользователи делают совершают дполнительные покупки примерно на 700 рублей. \n",
    "\n",
    "Месячная выручка в тарифе «Ультра» около 2 тыс. рублей, средняя выручка 2040 рублей. Основной объем услуг остается невостребованным. \n",
    "\n",
    "При этом, выручка с тарифа «Ультра» значительно больше, чем с тарифа «Смарт», поэтому он выгодней для бизнеса. Это подтверждается статистической значимостью — средняя выручка между двух тарифов не равна. Также, средняя выручка по тарифам в Москве и регионах не одинакова, таким образом, она не зависит от региона. \n",
    "\n"
   ]
  },
  {
   "cell_type": "code",
   "execution_count": null,
   "metadata": {},
   "outputs": [],
   "source": []
  }
 ],
 "metadata": {
  "kernelspec": {
   "display_name": "Python 3",
   "language": "python",
   "name": "python3"
  },
  "language_info": {
   "codemirror_mode": {
    "name": "ipython",
    "version": 3
   },
   "file_extension": ".py",
   "mimetype": "text/x-python",
   "name": "python",
   "nbconvert_exporter": "python",
   "pygments_lexer": "ipython3",
   "version": "3.7.4"
  }
 },
 "nbformat": 4,
 "nbformat_minor": 2
}
